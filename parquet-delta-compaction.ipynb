{
 "cells": [
  {
   "cell_type": "markdown",
   "id": "4415d376-5527-4358-ad3f-89e50a924e78",
   "metadata": {},
   "source": [
    "# Delta Optimize Compaction"
   ]
  },
  {
   "cell_type": "code",
   "execution_count": 1,
   "id": "52f146d4-5d4d-4db2-8e5d-0b6646c22df1",
   "metadata": {},
   "outputs": [],
   "source": [
    "import pyspark\n",
    "from delta import *\n",
    "\n",
    "builder = pyspark.sql.SparkSession.builder.master(\"local[4]\").appName(\"compaction\") \\\n",
    "    .config(\"spark.sql.extensions\", \"io.delta.sql.DeltaSparkSessionExtension\") \\\n",
    "    .config(\"spark.sql.catalog.spark_catalog\", \"org.apache.spark.sql.delta.catalog.DeltaCatalog\")\n",
    "\n",
    "spark = configure_spark_with_delta_pip(builder).getOrCreate()"
   ]
  },
  {
   "cell_type": "code",
   "execution_count": 3,
   "id": "a84164b7-d9c0-48c4-aba4-03da09fe6c84",
   "metadata": {},
   "outputs": [],
   "source": [
    "df = df.repartition(1000)"
   ]
  },
  {
   "cell_type": "code",
   "execution_count": null,
   "id": "884361ce-50bd-4429-a01f-d5f4001f072f",
   "metadata": {},
   "outputs": [],
   "source": []
  },
  {
   "cell_type": "code",
   "execution_count": 5,
   "id": "8fded1b9-93b1-484d-9758-be4840199170",
   "metadata": {},
   "outputs": [],
   "source": [
    "from delta.tables import *\n",
    "\n",
    "deltaTable = DeltaTable.forPath(spark, \"test/delta_table\")"
   ]
  },
  {
   "cell_type": "code",
   "execution_count": 4,
   "id": "a3d6d955-44c4-42dd-abc5-54dc1b5cd894",
   "metadata": {},
   "outputs": [],
   "source": [
    "# write to delta\n",
    "df.write.format(\"delta\").partitionBy(\"education\").save(\"test/delta_table\")"
   ]
  },
  {
   "cell_type": "code",
   "execution_count": null,
   "id": "e070a107-a6d4-4bd5-a196-8deb7f7f81b2",
   "metadata": {},
   "outputs": [],
   "source": []
  },
  {
   "cell_type": "code",
   "execution_count": null,
   "id": "e92b36bf-a589-4674-8eca-b9901911f121",
   "metadata": {},
   "outputs": [],
   "source": []
  },
  {
   "cell_type": "code",
   "execution_count": 2,
   "id": "d09c87c8-fbc1-4f92-81a1-119a8e6d8293",
   "metadata": {},
   "outputs": [],
   "source": [
    "# read in 2M rows dataset\n",
    "df = spark.read.csv(\"data/census_2M.csv\", header=True)"
   ]
  },
  {
   "cell_type": "code",
   "execution_count": 6,
   "id": "4ec7d653-4899-4041-b684-8f212ee7d717",
   "metadata": {},
   "outputs": [
    {
     "name": "stdout",
     "output_type": "stream",
     "text": [
      "    1000\n"
     ]
    }
   ],
   "source": [
    "# get n files per partition\n",
    "!ls test/delta_table/education\\=10th/*.parquet | wc -l"
   ]
  },
  {
   "cell_type": "code",
   "execution_count": 7,
   "id": "6e5bb458-1124-42a6-87d2-d4c7c968876b",
   "metadata": {},
   "outputs": [
    {
     "name": "stdout",
     "output_type": "stream",
     "text": [
      "CPU times: user 160 ms, sys: 19.4 ms, total: 179 ms\n",
      "Wall time: 14.6 s\n"
     ]
    }
   ],
   "source": [
    "%%time\n",
    "# query\n",
    "df = spark.read.format(\"delta\").load(\"test/delta_table\")\n",
    "res = df.where(df.education == \"10th\").collect()"
   ]
  },
  {
   "cell_type": "code",
   "execution_count": 8,
   "id": "83af94b5-5310-4019-bbe6-1c85168cec3d",
   "metadata": {},
   "outputs": [
    {
     "name": "stdout",
     "output_type": "stream",
     "text": [
      "CPU times: user 6.87 ms, sys: 3.81 ms, total: 10.7 ms\n",
      "Wall time: 24.7 s\n"
     ]
    }
   ],
   "source": [
    "%%time\n",
    "%%capture\n",
    "# run compaction\n",
    "deltaTable.optimize().executeCompaction()"
   ]
  },
  {
   "cell_type": "code",
   "execution_count": 9,
   "id": "24dc7023-364a-48a2-9cb9-134b88ced5e9",
   "metadata": {},
   "outputs": [
    {
     "name": "stdout",
     "output_type": "stream",
     "text": [
      "CPU times: user 156 ms, sys: 16 ms, total: 172 ms\n",
      "Wall time: 4.62 s\n"
     ]
    }
   ],
   "source": [
    "%%time\n",
    "# query again\n",
    "df = spark.read.format(\"delta\").load(\"test/delta_table\")\n",
    "res = df.where(df.education == \"10th\").collect()"
   ]
  },
  {
   "cell_type": "code",
   "execution_count": null,
   "id": "38fd3f37-7271-4972-aa59-3f7ec715358f",
   "metadata": {},
   "outputs": [],
   "source": [
    "# get n files per partition\n",
    "!ls test/delta_table/education\\=10th/*.parquet | wc -l"
   ]
  },
  {
   "cell_type": "code",
   "execution_count": null,
   "id": "98189949-c8b5-4ecd-8aec-2ce7d9751ec1",
   "metadata": {},
   "outputs": [],
   "source": []
  },
  {
   "cell_type": "code",
   "execution_count": null,
   "id": "16413219-ddc2-4083-9834-690d617179e0",
   "metadata": {},
   "outputs": [],
   "source": []
  },
  {
   "cell_type": "code",
   "execution_count": null,
   "id": "612043bd-5847-47a0-a5ee-be81d4d0f508",
   "metadata": {},
   "outputs": [],
   "source": []
  },
  {
   "cell_type": "code",
   "execution_count": 10,
   "id": "e4763e2a-3e3a-4f83-92e4-18b0d085a785",
   "metadata": {},
   "outputs": [
    {
     "name": "stdout",
     "output_type": "stream",
     "text": [
      "    1001\n"
     ]
    }
   ],
   "source": [
    "# get n files\n",
    "!ls test/delta_table/education\\=10th/*.parquet | wc -l"
   ]
  },
  {
   "cell_type": "code",
   "execution_count": null,
   "id": "4d46ce7c-9312-4b5e-afd1-906b66c9bc8a",
   "metadata": {},
   "outputs": [],
   "source": []
  }
 ],
 "metadata": {
  "kernelspec": {
   "display_name": "Python 3 (ipykernel)",
   "language": "python",
   "name": "python3"
  },
  "language_info": {
   "codemirror_mode": {
    "name": "ipython",
    "version": 3
   },
   "file_extension": ".py",
   "mimetype": "text/x-python",
   "name": "python",
   "nbconvert_exporter": "python",
   "pygments_lexer": "ipython3",
   "version": "3.11.9"
  }
 },
 "nbformat": 4,
 "nbformat_minor": 5
}
