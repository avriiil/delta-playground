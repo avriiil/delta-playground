{
 "cells": [
  {
   "cell_type": "markdown",
   "id": "a353029f-e4e6-4bee-9e8c-deed9d2f6f84",
   "metadata": {},
   "source": [
    "# Delta-rs for GCS"
   ]
  },
  {
   "cell_type": "code",
   "execution_count": null,
   "id": "56b10222-837e-4608-9c32-bbbd8153ad75",
   "metadata": {},
   "outputs": [],
   "source": []
  },
  {
   "cell_type": "markdown",
   "id": "b92162b0-a44b-4fba-a839-30e0665d1ede",
   "metadata": {},
   "source": [
    "## Polars"
   ]
  },
  {
   "cell_type": "code",
   "execution_count": 1,
   "id": "3ed5dccb-0c64-4e3f-9ead-d76bedff29ce",
   "metadata": {},
   "outputs": [],
   "source": [
    "import polars as pl"
   ]
  },
  {
   "cell_type": "code",
   "execution_count": 2,
   "id": "2fe0fb48-c4f7-41b9-9ef1-a80ee9c51bd8",
   "metadata": {},
   "outputs": [],
   "source": [
    "df = pl.DataFrame(\n",
    "    {\n",
    "        \"foo\": [1, 2, 3, 4, 5],\n",
    "        \"bar\": [6, 7, 8, 9, 10],\n",
    "        \"ham\": [\"a\", \"b\", \"c\", \"d\", \"e\"],\n",
    "    }\n",
    ")"
   ]
  },
  {
   "cell_type": "code",
   "execution_count": 3,
   "id": "ac2782e0-55a0-4d88-93b2-e318cb5ae6ce",
   "metadata": {},
   "outputs": [],
   "source": [
    "df.write_parquet(\"gs://avriiil/test-df.parquet\", use_pyarrow=True)"
   ]
  },
  {
   "cell_type": "markdown",
   "id": "440c528f-b6c9-458f-9197-547185686f8b",
   "metadata": {},
   "source": [
    "Nice, this works.\n",
    "\n",
    "Now let's try Delta."
   ]
  },
  {
   "cell_type": "code",
   "execution_count": 5,
   "id": "7aace67b-b0dc-45c4-a041-0bb4b7a718eb",
   "metadata": {},
   "outputs": [],
   "source": [
    "from deltalake import write_deltalake"
   ]
  },
  {
   "cell_type": "code",
   "execution_count": 7,
   "id": "972f7d9f-4ff3-4a7f-9656-97e0ef242b8c",
   "metadata": {},
   "outputs": [],
   "source": [
    "table_path = \"gs://avriiil/test-delta\""
   ]
  },
  {
   "cell_type": "code",
   "execution_count": 9,
   "id": "ec889a1e-32d0-406c-81a6-49b1795c4111",
   "metadata": {
    "scrolled": true
   },
   "outputs": [
    {
     "ename": "OSError",
     "evalue": "Generic GCS error: GCP credential error: Unable to decode service account file: missing field `private_key` at line 8 column 1",
     "output_type": "error",
     "traceback": [
      "\u001b[0;31m---------------------------------------------------------------------------\u001b[0m",
      "\u001b[0;31mOSError\u001b[0m                                   Traceback (most recent call last)",
      "Cell \u001b[0;32mIn[9], line 2\u001b[0m\n\u001b[1;32m      1\u001b[0m storage_options \u001b[38;5;241m=\u001b[39m {\u001b[38;5;124m\"\u001b[39m\u001b[38;5;124mSERVICE_ACCOUNT\u001b[39m\u001b[38;5;124m\"\u001b[39m: \u001b[38;5;124m\"\u001b[39m\u001b[38;5;124m/Users/rpelgrim/.config/gcloud/application_default_credentials.json\u001b[39m\u001b[38;5;124m\"\u001b[39m}\n\u001b[0;32m----> 2\u001b[0m \u001b[43mdf\u001b[49m\u001b[38;5;241;43m.\u001b[39;49m\u001b[43mwrite_delta\u001b[49m\u001b[43m(\u001b[49m\u001b[43mtable_path\u001b[49m\u001b[43m,\u001b[49m\u001b[43m \u001b[49m\u001b[43mstorage_options\u001b[49m\u001b[38;5;241;43m=\u001b[39;49m\u001b[43mstorage_options\u001b[49m\u001b[43m)\u001b[49m  \n",
      "File \u001b[0;32m~/miniforge3/envs/deltalake-no-spark/lib/python3.11/site-packages/polars/dataframe/frame.py:3729\u001b[0m, in \u001b[0;36mDataFrame.write_delta\u001b[0;34m(self, target, mode, overwrite_schema, storage_options, delta_write_options, delta_merge_options)\u001b[0m\n\u001b[1;32m   3726\u001b[0m     delta_write_options[\u001b[38;5;124m\"\u001b[39m\u001b[38;5;124mschema_mode\u001b[39m\u001b[38;5;124m\"\u001b[39m] \u001b[38;5;241m=\u001b[39m \u001b[38;5;124m\"\u001b[39m\u001b[38;5;124moverwrite\u001b[39m\u001b[38;5;124m\"\u001b[39m\n\u001b[1;32m   3728\u001b[0m schema \u001b[38;5;241m=\u001b[39m delta_write_options\u001b[38;5;241m.\u001b[39mpop(\u001b[38;5;124m\"\u001b[39m\u001b[38;5;124mschema\u001b[39m\u001b[38;5;124m\"\u001b[39m, \u001b[38;5;28;01mNone\u001b[39;00m)\n\u001b[0;32m-> 3729\u001b[0m \u001b[43mwrite_deltalake\u001b[49m\u001b[43m(\u001b[49m\n\u001b[1;32m   3730\u001b[0m \u001b[43m    \u001b[49m\u001b[43mtable_or_uri\u001b[49m\u001b[38;5;241;43m=\u001b[39;49m\u001b[43mtarget\u001b[49m\u001b[43m,\u001b[49m\n\u001b[1;32m   3731\u001b[0m \u001b[43m    \u001b[49m\u001b[43mdata\u001b[49m\u001b[38;5;241;43m=\u001b[39;49m\u001b[43mdata\u001b[49m\u001b[43m,\u001b[49m\n\u001b[1;32m   3732\u001b[0m \u001b[43m    \u001b[49m\u001b[43mschema\u001b[49m\u001b[38;5;241;43m=\u001b[39;49m\u001b[43mschema\u001b[49m\u001b[43m,\u001b[49m\n\u001b[1;32m   3733\u001b[0m \u001b[43m    \u001b[49m\u001b[43mmode\u001b[49m\u001b[38;5;241;43m=\u001b[39;49m\u001b[43mmode\u001b[49m\u001b[43m,\u001b[49m\n\u001b[1;32m   3734\u001b[0m \u001b[43m    \u001b[49m\u001b[43mstorage_options\u001b[49m\u001b[38;5;241;43m=\u001b[39;49m\u001b[43mstorage_options\u001b[49m\u001b[43m,\u001b[49m\n\u001b[1;32m   3735\u001b[0m \u001b[43m    \u001b[49m\u001b[43mlarge_dtypes\u001b[49m\u001b[38;5;241;43m=\u001b[39;49m\u001b[38;5;28;43;01mTrue\u001b[39;49;00m\u001b[43m,\u001b[49m\n\u001b[1;32m   3736\u001b[0m \u001b[43m    \u001b[49m\u001b[38;5;241;43m*\u001b[39;49m\u001b[38;5;241;43m*\u001b[39;49m\u001b[43mdelta_write_options\u001b[49m\u001b[43m,\u001b[49m\n\u001b[1;32m   3737\u001b[0m \u001b[43m\u001b[49m\u001b[43m)\u001b[49m\n\u001b[1;32m   3738\u001b[0m \u001b[38;5;28;01mreturn\u001b[39;00m \u001b[38;5;28;01mNone\u001b[39;00m\n",
      "File \u001b[0;32m~/miniforge3/envs/deltalake-no-spark/lib/python3.11/site-packages/deltalake/writer.py:265\u001b[0m, in \u001b[0;36mwrite_deltalake\u001b[0;34m(table_or_uri, data, schema, partition_by, mode, file_options, max_partitions, max_open_files, max_rows_per_file, min_rows_per_group, max_rows_per_group, name, description, configuration, overwrite_schema, schema_mode, storage_options, partition_filters, predicate, large_dtypes, engine, writer_properties, custom_metadata)\u001b[0m\n\u001b[1;32m    176\u001b[0m \u001b[38;5;28;01mdef\u001b[39;00m \u001b[38;5;21mwrite_deltalake\u001b[39m(\n\u001b[1;32m    177\u001b[0m     table_or_uri: Union[\u001b[38;5;28mstr\u001b[39m, Path, DeltaTable],\n\u001b[1;32m    178\u001b[0m     data: Union[\n\u001b[0;32m   (...)\u001b[0m\n\u001b[1;32m    207\u001b[0m     custom_metadata: Optional[Dict[\u001b[38;5;28mstr\u001b[39m, \u001b[38;5;28mstr\u001b[39m]] \u001b[38;5;241m=\u001b[39m \u001b[38;5;28;01mNone\u001b[39;00m,\n\u001b[1;32m    208\u001b[0m ) \u001b[38;5;241m-\u001b[39m\u001b[38;5;241m>\u001b[39m \u001b[38;5;28;01mNone\u001b[39;00m:\n\u001b[1;32m    209\u001b[0m \u001b[38;5;250m    \u001b[39m\u001b[38;5;124;03m\"\"\"Write to a Delta Lake table\u001b[39;00m\n\u001b[1;32m    210\u001b[0m \n\u001b[1;32m    211\u001b[0m \u001b[38;5;124;03m    If the table does not already exist, it will be created.\u001b[39;00m\n\u001b[0;32m   (...)\u001b[0m\n\u001b[1;32m    263\u001b[0m \u001b[38;5;124;03m        custom_metadata: Custom metadata to add to the commitInfo.\u001b[39;00m\n\u001b[1;32m    264\u001b[0m \u001b[38;5;124;03m    \"\"\"\u001b[39;00m\n\u001b[0;32m--> 265\u001b[0m     table, table_uri \u001b[38;5;241m=\u001b[39m \u001b[43mtry_get_table_and_table_uri\u001b[49m\u001b[43m(\u001b[49m\u001b[43mtable_or_uri\u001b[49m\u001b[43m,\u001b[49m\u001b[43m \u001b[49m\u001b[43mstorage_options\u001b[49m\u001b[43m)\u001b[49m\n\u001b[1;32m    266\u001b[0m     \u001b[38;5;28;01mif\u001b[39;00m table \u001b[38;5;129;01mis\u001b[39;00m \u001b[38;5;129;01mnot\u001b[39;00m \u001b[38;5;28;01mNone\u001b[39;00m:\n\u001b[1;32m    267\u001b[0m         storage_options \u001b[38;5;241m=\u001b[39m table\u001b[38;5;241m.\u001b[39m_storage_options \u001b[38;5;129;01mor\u001b[39;00m {}\n",
      "File \u001b[0;32m~/miniforge3/envs/deltalake-no-spark/lib/python3.11/site-packages/deltalake/writer.py:688\u001b[0m, in \u001b[0;36mtry_get_table_and_table_uri\u001b[0;34m(table_or_uri, storage_options)\u001b[0m\n\u001b[1;32m    685\u001b[0m     \u001b[38;5;28;01mraise\u001b[39;00m \u001b[38;5;167;01mValueError\u001b[39;00m(\u001b[38;5;124m\"\u001b[39m\u001b[38;5;124mtable_or_uri must be a str, Path or DeltaTable\u001b[39m\u001b[38;5;124m\"\u001b[39m)\n\u001b[1;32m    687\u001b[0m \u001b[38;5;28;01mif\u001b[39;00m \u001b[38;5;28misinstance\u001b[39m(table_or_uri, (\u001b[38;5;28mstr\u001b[39m, Path)):\n\u001b[0;32m--> 688\u001b[0m     table \u001b[38;5;241m=\u001b[39m \u001b[43mtry_get_deltatable\u001b[49m\u001b[43m(\u001b[49m\u001b[43mtable_or_uri\u001b[49m\u001b[43m,\u001b[49m\u001b[43m \u001b[49m\u001b[43mstorage_options\u001b[49m\u001b[43m)\u001b[49m\n\u001b[1;32m    689\u001b[0m     table_uri \u001b[38;5;241m=\u001b[39m \u001b[38;5;28mstr\u001b[39m(table_or_uri)\n\u001b[1;32m    690\u001b[0m \u001b[38;5;28;01melse\u001b[39;00m:\n",
      "File \u001b[0;32m~/miniforge3/envs/deltalake-no-spark/lib/python3.11/site-packages/deltalake/writer.py:701\u001b[0m, in \u001b[0;36mtry_get_deltatable\u001b[0;34m(table_uri, storage_options)\u001b[0m\n\u001b[1;32m    697\u001b[0m \u001b[38;5;28;01mdef\u001b[39;00m \u001b[38;5;21mtry_get_deltatable\u001b[39m(\n\u001b[1;32m    698\u001b[0m     table_uri: Union[\u001b[38;5;28mstr\u001b[39m, Path], storage_options: Optional[Dict[\u001b[38;5;28mstr\u001b[39m, \u001b[38;5;28mstr\u001b[39m]]\n\u001b[1;32m    699\u001b[0m ) \u001b[38;5;241m-\u001b[39m\u001b[38;5;241m>\u001b[39m Optional[DeltaTable]:\n\u001b[1;32m    700\u001b[0m     \u001b[38;5;28;01mtry\u001b[39;00m:\n\u001b[0;32m--> 701\u001b[0m         \u001b[38;5;28;01mreturn\u001b[39;00m \u001b[43mDeltaTable\u001b[49m\u001b[43m(\u001b[49m\u001b[43mtable_uri\u001b[49m\u001b[43m,\u001b[49m\u001b[43m \u001b[49m\u001b[43mstorage_options\u001b[49m\u001b[38;5;241;43m=\u001b[39;49m\u001b[43mstorage_options\u001b[49m\u001b[43m)\u001b[49m\n\u001b[1;32m    702\u001b[0m     \u001b[38;5;28;01mexcept\u001b[39;00m TableNotFoundError:\n\u001b[1;32m    703\u001b[0m         \u001b[38;5;28;01mreturn\u001b[39;00m \u001b[38;5;28;01mNone\u001b[39;00m\n",
      "File \u001b[0;32m~/miniforge3/envs/deltalake-no-spark/lib/python3.11/site-packages/deltalake/table.py:405\u001b[0m, in \u001b[0;36mDeltaTable.__init__\u001b[0;34m(self, table_uri, version, storage_options, without_files, log_buffer_size)\u001b[0m\n\u001b[1;32m    385\u001b[0m \u001b[38;5;250m\u001b[39m\u001b[38;5;124;03m\"\"\"\u001b[39;00m\n\u001b[1;32m    386\u001b[0m \u001b[38;5;124;03mCreate the Delta Table from a path with an optional version.\u001b[39;00m\n\u001b[1;32m    387\u001b[0m \u001b[38;5;124;03mMultiple StorageBackends are currently supported: AWS S3, Azure Data Lake Storage Gen2, Google Cloud Storage (GCS) and local URI.\u001b[39;00m\n\u001b[0;32m   (...)\u001b[0m\n\u001b[1;32m    402\u001b[0m \n\u001b[1;32m    403\u001b[0m \u001b[38;5;124;03m\"\"\"\u001b[39;00m\n\u001b[1;32m    404\u001b[0m \u001b[38;5;28mself\u001b[39m\u001b[38;5;241m.\u001b[39m_storage_options \u001b[38;5;241m=\u001b[39m storage_options\n\u001b[0;32m--> 405\u001b[0m \u001b[38;5;28mself\u001b[39m\u001b[38;5;241m.\u001b[39m_table \u001b[38;5;241m=\u001b[39m \u001b[43mRawDeltaTable\u001b[49m\u001b[43m(\u001b[49m\n\u001b[1;32m    406\u001b[0m \u001b[43m    \u001b[49m\u001b[38;5;28;43mstr\u001b[39;49m\u001b[43m(\u001b[49m\u001b[43mtable_uri\u001b[49m\u001b[43m)\u001b[49m\u001b[43m,\u001b[49m\n\u001b[1;32m    407\u001b[0m \u001b[43m    \u001b[49m\u001b[43mversion\u001b[49m\u001b[38;5;241;43m=\u001b[39;49m\u001b[43mversion\u001b[49m\u001b[43m,\u001b[49m\n\u001b[1;32m    408\u001b[0m \u001b[43m    \u001b[49m\u001b[43mstorage_options\u001b[49m\u001b[38;5;241;43m=\u001b[39;49m\u001b[43mstorage_options\u001b[49m\u001b[43m,\u001b[49m\n\u001b[1;32m    409\u001b[0m \u001b[43m    \u001b[49m\u001b[43mwithout_files\u001b[49m\u001b[38;5;241;43m=\u001b[39;49m\u001b[43mwithout_files\u001b[49m\u001b[43m,\u001b[49m\n\u001b[1;32m    410\u001b[0m \u001b[43m    \u001b[49m\u001b[43mlog_buffer_size\u001b[49m\u001b[38;5;241;43m=\u001b[39;49m\u001b[43mlog_buffer_size\u001b[49m\u001b[43m,\u001b[49m\n\u001b[1;32m    411\u001b[0m \u001b[43m\u001b[49m\u001b[43m)\u001b[49m\n",
      "\u001b[0;31mOSError\u001b[0m: Generic GCS error: GCP credential error: Unable to decode service account file: missing field `private_key` at line 8 column 1"
     ]
    }
   ],
   "source": [
    "# storage_options = {\"SERVICE_ACCOUNT\": \"/Users/rpelgrim/.config/gcloud/application_default_credentials.json\"}\n",
    "# df.write_delta(table_path, storage_options=storage_options)  "
   ]
  },
  {
   "cell_type": "code",
   "execution_count": 10,
   "id": "62589365-4b42-4b8b-bb18-242b4e6f34e4",
   "metadata": {},
   "outputs": [],
   "source": [
    "df.write_delta(\n",
    "    table_path,\n",
    "    # storage_options={\n",
    "    #     \"SERVICE_ACCOUNT\": \"THE_AWS_REGION\",\n",
    "    #     \"SERVICE_ACCOUNT_KEY\": \"THE_AWS_ACCESS_KEY_ID\",\n",
    "    #     \"AWS_SECRET_ACCESS_KEY\": \"THE_AWS_SECRET_ACCESS_KEY\",\n",
    "    # },\n",
    ")  "
   ]
  },
  {
   "cell_type": "code",
   "execution_count": 12,
   "id": "706ecea8-2e87-48e4-81da-f2b126b6ebc2",
   "metadata": {},
   "outputs": [],
   "source": [
    "df_read = pl.read_delta(table_path)"
   ]
  },
  {
   "cell_type": "code",
   "execution_count": 15,
   "id": "f1773fb8-fe28-4a94-bed1-a78283886994",
   "metadata": {},
   "outputs": [
    {
     "data": {
      "text/html": [
       "<div><style>\n",
       ".dataframe > thead > tr,\n",
       ".dataframe > tbody > tr {\n",
       "  text-align: right;\n",
       "  white-space: pre-wrap;\n",
       "}\n",
       "</style>\n",
       "<small>shape: (5, 3)</small><table border=\"1\" class=\"dataframe\"><thead><tr><th>foo</th><th>bar</th><th>ham</th></tr><tr><td>i64</td><td>i64</td><td>str</td></tr></thead><tbody><tr><td>1</td><td>6</td><td>&quot;a&quot;</td></tr><tr><td>2</td><td>7</td><td>&quot;b&quot;</td></tr><tr><td>3</td><td>8</td><td>&quot;c&quot;</td></tr><tr><td>4</td><td>9</td><td>&quot;d&quot;</td></tr><tr><td>5</td><td>10</td><td>&quot;e&quot;</td></tr></tbody></table></div>"
      ],
      "text/plain": [
       "shape: (5, 3)\n",
       "┌─────┬─────┬─────┐\n",
       "│ foo ┆ bar ┆ ham │\n",
       "│ --- ┆ --- ┆ --- │\n",
       "│ i64 ┆ i64 ┆ str │\n",
       "╞═════╪═════╪═════╡\n",
       "│ 1   ┆ 6   ┆ a   │\n",
       "│ 2   ┆ 7   ┆ b   │\n",
       "│ 3   ┆ 8   ┆ c   │\n",
       "│ 4   ┆ 9   ┆ d   │\n",
       "│ 5   ┆ 10  ┆ e   │\n",
       "└─────┴─────┴─────┘"
      ]
     },
     "execution_count": 15,
     "metadata": {},
     "output_type": "execute_result"
    }
   ],
   "source": [
    "df_read"
   ]
  },
  {
   "cell_type": "code",
   "execution_count": null,
   "id": "5e732205-319d-44bb-b674-4a76aa5f3ccf",
   "metadata": {},
   "outputs": [],
   "source": []
  },
  {
   "cell_type": "markdown",
   "id": "04adc999-3b13-4ea5-89de-704d319f3208",
   "metadata": {},
   "source": [
    "## pandas"
   ]
  },
  {
   "cell_type": "code",
   "execution_count": 16,
   "id": "a8a3e746-3ff4-4620-83d2-cb687dfb5bbf",
   "metadata": {},
   "outputs": [],
   "source": [
    "import pandas as pd\n",
    "df = pd.DataFrame({'x': [1, 2, 3]})"
   ]
  },
  {
   "cell_type": "code",
   "execution_count": 17,
   "id": "5242729f-b4e0-4dae-8da8-02030cf56c33",
   "metadata": {},
   "outputs": [],
   "source": [
    "parquet_path = \"gs://avriiil/pandas-df.parquet\""
   ]
  },
  {
   "cell_type": "code",
   "execution_count": 18,
   "id": "c8407887-631b-4e09-ac0e-f8e75c8f659c",
   "metadata": {},
   "outputs": [],
   "source": [
    "df.to_parquet(parquet_path)"
   ]
  },
  {
   "cell_type": "markdown",
   "id": "67ff09ae-b518-49b9-a3dc-5367a9a45b60",
   "metadata": {},
   "source": [
    "Now Delta:"
   ]
  },
  {
   "cell_type": "code",
   "execution_count": 20,
   "id": "2b2e2819-78de-444a-b563-bd50989ede79",
   "metadata": {},
   "outputs": [],
   "source": [
    "from deltalake import write_deltalake"
   ]
  },
  {
   "cell_type": "code",
   "execution_count": 21,
   "id": "834d79f0-fd80-4054-b819-d4d411e69c09",
   "metadata": {},
   "outputs": [],
   "source": [
    "delta_path = \"gs://avriiil/pandas-delta\""
   ]
  },
  {
   "cell_type": "code",
   "execution_count": 22,
   "id": "860e91e1-4d38-4c61-b0d6-1329d37714fa",
   "metadata": {},
   "outputs": [],
   "source": [
    "write_deltalake(delta_path, df)"
   ]
  },
  {
   "cell_type": "code",
   "execution_count": null,
   "id": "4deb32a9-3172-40a4-8272-fa54625b7931",
   "metadata": {},
   "outputs": [],
   "source": []
  }
 ],
 "metadata": {
  "kernelspec": {
   "display_name": "Python 3 (ipykernel)",
   "language": "python",
   "name": "python3"
  },
  "language_info": {
   "codemirror_mode": {
    "name": "ipython",
    "version": 3
   },
   "file_extension": ".py",
   "mimetype": "text/x-python",
   "name": "python",
   "nbconvert_exporter": "python",
   "pygments_lexer": "ipython3",
   "version": "3.12.6"
  }
 },
 "nbformat": 4,
 "nbformat_minor": 5
}
