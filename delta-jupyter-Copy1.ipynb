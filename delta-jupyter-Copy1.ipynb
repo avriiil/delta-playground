{
 "cells": [
  {
   "cell_type": "markdown",
   "id": "fa142e81-2c7f-4769-a630-0db4bf7a5b3e",
   "metadata": {},
   "source": [
    "## Using Delta Lake from a Jupyter Notebook\n",
    "\n",
    "You want to use Delta Lake in a Jupyter Notebook. This means you’re working in Python. \n",
    "\n",
    "To use Delta Lake, you have 2 choices:\n",
    "1. use PySpark for the most complete Delta Lake experience\n",
    "2. use Delta-rs with other libraries/query engines (polars, daft, pandas, dask, DuckDB). Depending on the library not all Delta Lake features may be supported\n"
   ]
  },
  {
   "cell_type": "markdown",
   "id": "680ae033-d450-4821-9199-edb36585ffe3",
   "metadata": {},
   "source": [
    "## Use Delta Lake with pandas"
   ]
  },
  {
   "cell_type": "code",
   "execution_count": 1,
   "id": "3cbfa4d3-b571-4aed-9421-ad2c1724b1b7",
   "metadata": {},
   "outputs": [],
   "source": [
    "%%capture\n",
    "!pip install deltalake pandas"
   ]
  },
  {
   "cell_type": "code",
   "execution_count": 2,
   "id": "57962c12-5b4e-4824-a304-626b6351ee8b",
   "metadata": {},
   "outputs": [],
   "source": [
    "import pandas as pd\n",
    "from deltalake import write_deltalake, DeltaTable"
   ]
  },
  {
   "cell_type": "code",
   "execution_count": 3,
   "id": "e21d093d-7d5c-4358-b7f9-5174a86588fc",
   "metadata": {},
   "outputs": [],
   "source": [
    "data = {'first_name': ['bob', 'li', 'leah'], 'age': [47, 23, 51]}\n",
    "data_2 = {\"first_name\": [\"suh\", \"anais\"], \"age\": [33, 68]}"
   ]
  },
  {
   "cell_type": "code",
   "execution_count": 4,
   "id": "ebae3e6e-703d-447f-8715-680fc3b78a34",
   "metadata": {},
   "outputs": [],
   "source": [
    "df = pd.DataFrame.from_dict(data)\n",
    "write_deltalake(\"tmp/pandas-table\", df)"
   ]
  },
  {
   "cell_type": "code",
   "execution_count": 5,
   "id": "796c3b1b-c24e-490a-8a62-6f686d02ae7a",
   "metadata": {},
   "outputs": [
    {
     "name": "stdout",
     "output_type": "stream",
     "text": [
      "  first_name  age\n",
      "0        bob   47\n",
      "1         li   23\n",
      "2       leah   51\n"
     ]
    }
   ],
   "source": [
    "print(DeltaTable(\"tmp/pandas-table/\").to_pandas())"
   ]
  },
  {
   "cell_type": "code",
   "execution_count": null,
   "id": "ec722ebb-7125-4b18-9bc7-9556d040bac6",
   "metadata": {},
   "outputs": [],
   "source": []
  },
  {
   "cell_type": "code",
   "execution_count": null,
   "id": "192ed459-f8ae-4509-a777-96fa9297b26b",
   "metadata": {},
   "outputs": [],
   "source": []
  },
  {
   "cell_type": "code",
   "execution_count": 6,
   "id": "0adbf996-7b4b-47be-8462-6e3d134c49c7",
   "metadata": {},
   "outputs": [],
   "source": [
    "df2 = pd.DataFrame(data_2)\n",
    "write_deltalake(\"tmp/pandas-table\", df2, mode=\"append\")"
   ]
  },
  {
   "cell_type": "code",
   "execution_count": 7,
   "id": "39c7151a-7d4d-48c3-b1db-0c96dbdfbc24",
   "metadata": {},
   "outputs": [
    {
     "name": "stdout",
     "output_type": "stream",
     "text": [
      "  first_name  age\n",
      "0        suh   33\n",
      "1      anais   68\n",
      "2        bob   47\n",
      "3         li   23\n",
      "4       leah   51\n"
     ]
    }
   ],
   "source": [
    "print(DeltaTable(\"tmp/pandas-table/\").to_pandas())"
   ]
  },
  {
   "cell_type": "code",
   "execution_count": 28,
   "id": "51157986-f188-418e-8315-2f4ad53dfd8d",
   "metadata": {},
   "outputs": [
    {
     "name": "stdout",
     "output_type": "stream",
     "text": [
      "  first_name  age\n",
      "0        bob   47\n",
      "1         li   23\n",
      "2       leah   51\n"
     ]
    }
   ],
   "source": [
    "print(DeltaTable(\"tmp/pandas-table/\", version=0).to_pandas())"
   ]
  },
  {
   "cell_type": "code",
   "execution_count": null,
   "id": "15e184d4-f154-4e19-b2d2-986b5fbc7664",
   "metadata": {},
   "outputs": [],
   "source": []
  },
  {
   "cell_type": "code",
   "execution_count": null,
   "id": "8d7ef60d-9450-4dbb-9af1-20d044dbfd0a",
   "metadata": {},
   "outputs": [],
   "source": []
  },
  {
   "cell_type": "markdown",
   "id": "947bdfc3-85a7-4123-9724-6a5d19875a2d",
   "metadata": {},
   "source": [
    "## polars"
   ]
  },
  {
   "cell_type": "code",
   "execution_count": 10,
   "id": "4adf6f48-62f4-46a0-b27c-827c53bb1633",
   "metadata": {},
   "outputs": [
    {
     "name": "stdout",
     "output_type": "stream",
     "text": [
      "Collecting polars\n",
      "  Downloading polars-0.20.26-cp38-abi3-macosx_11_0_arm64.whl.metadata (14 kB)\n",
      "Downloading polars-0.20.26-cp38-abi3-macosx_11_0_arm64.whl (24.1 MB)\n",
      "\u001b[2K   \u001b[38;2;114;156;31m━━━━━━━━━━━━━━━━━━━━━━━━━━━━━━━━━━━━━━━━\u001b[0m \u001b[32m24.1/24.1 MB\u001b[0m \u001b[31m1.6 MB/s\u001b[0m eta \u001b[36m0:00:00\u001b[0mm eta \u001b[36m0:00:01\u001b[0m[36m0:00:01\u001b[0m\n",
      "\u001b[?25hInstalling collected packages: polars\n",
      "Successfully installed polars-0.20.26\n"
     ]
    }
   ],
   "source": [
    "%%capture\n",
    "!pip install polars"
   ]
  },
  {
   "cell_type": "code",
   "execution_count": 11,
   "id": "6c50939b-a694-4246-9366-7c7b1c5743f1",
   "metadata": {},
   "outputs": [],
   "source": [
    "import polars as pl"
   ]
  },
  {
   "cell_type": "code",
   "execution_count": 13,
   "id": "03158b8d-0045-4064-9ed5-36b3238c6eaf",
   "metadata": {},
   "outputs": [],
   "source": [
    "df = pl.DataFrame(data)\n",
    "df.write_delta(\"tmp/polars_table\")"
   ]
  },
  {
   "cell_type": "code",
   "execution_count": 14,
   "id": "b90c6154-d9d5-4214-85de-27a90905773c",
   "metadata": {},
   "outputs": [
    {
     "name": "stdout",
     "output_type": "stream",
     "text": [
      "shape: (3, 2)\n",
      "┌────────────┬─────┐\n",
      "│ first_name ┆ age │\n",
      "│ ---        ┆ --- │\n",
      "│ str        ┆ i64 │\n",
      "╞════════════╪═════╡\n",
      "│ bob        ┆ 47  │\n",
      "│ li         ┆ 23  │\n",
      "│ leah       ┆ 51  │\n",
      "└────────────┴─────┘\n"
     ]
    }
   ],
   "source": [
    "print(pl.read_delta(\"tmp/polars_table\"))"
   ]
  },
  {
   "cell_type": "code",
   "execution_count": 18,
   "id": "7094bef9-96ba-4859-a38a-07cc0319466d",
   "metadata": {},
   "outputs": [],
   "source": [
    "df = pl.DataFrame(data_2)\n",
    "df.write_delta(\"tmp/polars_table\", mode=\"append\")"
   ]
  },
  {
   "cell_type": "code",
   "execution_count": 21,
   "id": "d335127b-e5ad-4465-adae-edce333f4ac0",
   "metadata": {},
   "outputs": [
    {
     "name": "stdout",
     "output_type": "stream",
     "text": [
      "shape: (5, 2)\n",
      "┌────────────┬─────┐\n",
      "│ first_name ┆ age │\n",
      "│ ---        ┆ --- │\n",
      "│ str        ┆ i64 │\n",
      "╞════════════╪═════╡\n",
      "│ suh        ┆ 33  │\n",
      "│ anais      ┆ 68  │\n",
      "│ bob        ┆ 47  │\n",
      "│ li         ┆ 23  │\n",
      "│ leah       ┆ 51  │\n",
      "└────────────┴─────┘\n"
     ]
    }
   ],
   "source": [
    "print(pl.read_delta(\"tmp/polars_table\"))"
   ]
  },
  {
   "cell_type": "code",
   "execution_count": 20,
   "id": "32bd44a4-9edc-41c1-8353-17c4c0e4509f",
   "metadata": {},
   "outputs": [
    {
     "name": "stdout",
     "output_type": "stream",
     "text": [
      "shape: (3, 2)\n",
      "┌────────────┬─────┐\n",
      "│ first_name ┆ age │\n",
      "│ ---        ┆ --- │\n",
      "│ str        ┆ i64 │\n",
      "╞════════════╪═════╡\n",
      "│ bob        ┆ 47  │\n",
      "│ li         ┆ 23  │\n",
      "│ leah       ┆ 51  │\n",
      "└────────────┴─────┘\n"
     ]
    }
   ],
   "source": [
    "print(pl.read_delta(\"tmp/polars_table\", version=0))"
   ]
  },
  {
   "cell_type": "code",
   "execution_count": null,
   "id": "013443ee-1cb4-4a49-aa3d-7f8dcb5d6271",
   "metadata": {},
   "outputs": [],
   "source": []
  },
  {
   "cell_type": "code",
   "execution_count": null,
   "id": "2256e6cc-0349-4608-aafc-e76325b038a3",
   "metadata": {},
   "outputs": [],
   "source": []
  },
  {
   "cell_type": "markdown",
   "id": "36e5d251-c5d8-4800-818f-8c980f88186d",
   "metadata": {},
   "source": [
    "## daft"
   ]
  },
  {
   "cell_type": "code",
   "execution_count": 22,
   "id": "6ded1ef9-fa8e-4f21-9a01-f2c3d7cb6f32",
   "metadata": {
    "scrolled": true
   },
   "outputs": [
    {
     "name": "stdout",
     "output_type": "stream",
     "text": [
      "Collecting getdaft\n",
      "  Downloading getdaft-0.2.24-cp38-abi3-macosx_11_0_arm64.whl.metadata (11 kB)\n",
      "Requirement already satisfied: pyarrow>=7.0.0 in /Users/rpelgrim/miniforge3/envs/delta-jupyter/lib/python3.11/site-packages (from getdaft) (16.1.0)\n",
      "Collecting fsspec (from getdaft)\n",
      "  Downloading fsspec-2024.5.0-py3-none-any.whl.metadata (11 kB)\n",
      "Collecting tqdm (from getdaft)\n",
      "  Downloading tqdm-4.66.4-py3-none-any.whl.metadata (57 kB)\n",
      "\u001b[2K     \u001b[38;2;114;156;31m━━━━━━━━━━━━━━━━━━━━━━━━━━━━━━━━━━━━━━━\u001b[0m \u001b[32m57.6/57.6 kB\u001b[0m \u001b[31m298.1 kB/s\u001b[0m eta \u001b[36m0:00:00\u001b[0m1m285.7 kB/s\u001b[0m eta \u001b[36m0:00:01\u001b[0m\n",
      "\u001b[?25hRequirement already satisfied: numpy>=1.16.6 in /Users/rpelgrim/miniforge3/envs/delta-jupyter/lib/python3.11/site-packages (from pyarrow>=7.0.0->getdaft) (1.26.4)\n",
      "Downloading getdaft-0.2.24-cp38-abi3-macosx_11_0_arm64.whl (16.2 MB)\n",
      "\u001b[2K   \u001b[38;2;114;156;31m━━━━━━━━━━━━━━━━━━━━━━━━━━━━━━━━━━━━━━━━\u001b[0m \u001b[32m16.2/16.2 MB\u001b[0m \u001b[31m1.2 MB/s\u001b[0m eta \u001b[36m0:00:00\u001b[0mm eta \u001b[36m0:00:01\u001b[0m[36m0:00:01\u001b[0m0m\n",
      "\u001b[?25hDownloading fsspec-2024.5.0-py3-none-any.whl (316 kB)\n",
      "\u001b[2K   \u001b[38;2;114;156;31m━━━━━━━━━━━━━━━━━━━━━━━━━━━━━━━━━━━━━━━━\u001b[0m \u001b[32m316.1/316.1 kB\u001b[0m \u001b[31m1.7 MB/s\u001b[0m eta \u001b[36m0:00:00\u001b[0m[31m1.8 MB/s\u001b[0m eta \u001b[36m0:00:01\u001b[0m\n",
      "\u001b[?25hDownloading tqdm-4.66.4-py3-none-any.whl (78 kB)\n",
      "\u001b[2K   \u001b[38;2;114;156;31m━━━━━━━━━━━━━━━━━━━━━━━━━━━━━━━━━━━━━━━━\u001b[0m \u001b[32m78.3/78.3 kB\u001b[0m \u001b[31m6.5 MB/s\u001b[0m eta \u001b[36m0:00:00\u001b[0m\n",
      "\u001b[?25hInstalling collected packages: tqdm, fsspec, getdaft\n",
      "Successfully installed fsspec-2024.5.0 getdaft-0.2.24 tqdm-4.66.4\n"
     ]
    }
   ],
   "source": [
    "%%capture\n",
    "!pip install getdaft"
   ]
  },
  {
   "cell_type": "code",
   "execution_count": 23,
   "id": "1c385845-4deb-454f-b344-2c74cb7be86e",
   "metadata": {},
   "outputs": [],
   "source": [
    "import daft"
   ]
  },
  {
   "cell_type": "code",
   "execution_count": null,
   "id": "051b9db3-8d73-465d-bc46-fc05ba443d03",
   "metadata": {},
   "outputs": [],
   "source": []
  },
  {
   "cell_type": "code",
   "execution_count": null,
   "id": "4af3d89f-d998-4a5e-9023-575da8196f74",
   "metadata": {},
   "outputs": [],
   "source": []
  },
  {
   "cell_type": "code",
   "execution_count": null,
   "id": "2c5e601f-74b1-48b3-b13f-3221e581f81f",
   "metadata": {},
   "outputs": [],
   "source": []
  },
  {
   "cell_type": "markdown",
   "id": "c71b26dc-d5d4-4769-a17a-191987e6ec53",
   "metadata": {},
   "source": [
    "## dask"
   ]
  },
  {
   "cell_type": "code",
   "execution_count": 24,
   "id": "bb3396c2-f891-40b5-a0c9-5333819429d6",
   "metadata": {
    "scrolled": true
   },
   "outputs": [
    {
     "name": "stdout",
     "output_type": "stream",
     "text": [
      "Collecting dask-deltatable\n",
      "  Using cached dask_deltatable-0.3.1-py3-none-any.whl.metadata (3.3 kB)\n",
      "Collecting dask[dataframe] (from dask-deltatable)\n",
      "  Downloading dask-2024.5.1-py3-none-any.whl.metadata (3.8 kB)\n",
      "Requirement already satisfied: deltalake in /Users/rpelgrim/miniforge3/envs/delta-jupyter/lib/python3.11/site-packages (from dask-deltatable) (0.17.4)\n",
      "Requirement already satisfied: fsspec in /Users/rpelgrim/miniforge3/envs/delta-jupyter/lib/python3.11/site-packages (from dask-deltatable) (2024.5.0)\n",
      "Requirement already satisfied: pyarrow in /Users/rpelgrim/miniforge3/envs/delta-jupyter/lib/python3.11/site-packages (from dask-deltatable) (16.1.0)\n",
      "Collecting click>=8.1 (from dask[dataframe]->dask-deltatable)\n",
      "  Using cached click-8.1.7-py3-none-any.whl.metadata (3.0 kB)\n",
      "Collecting cloudpickle>=1.5.0 (from dask[dataframe]->dask-deltatable)\n",
      "  Using cached cloudpickle-3.0.0-py3-none-any.whl.metadata (7.0 kB)\n",
      "Requirement already satisfied: packaging>=20.0 in /Users/rpelgrim/miniforge3/envs/delta-jupyter/lib/python3.11/site-packages (from dask[dataframe]->dask-deltatable) (24.0)\n",
      "Collecting partd>=1.2.0 (from dask[dataframe]->dask-deltatable)\n",
      "  Downloading partd-1.4.2-py3-none-any.whl.metadata (4.6 kB)\n",
      "Requirement already satisfied: pyyaml>=5.3.1 in /Users/rpelgrim/miniforge3/envs/delta-jupyter/lib/python3.11/site-packages (from dask[dataframe]->dask-deltatable) (6.0.1)\n",
      "Collecting toolz>=0.10.0 (from dask[dataframe]->dask-deltatable)\n",
      "  Using cached toolz-0.12.1-py3-none-any.whl.metadata (5.1 kB)\n",
      "Requirement already satisfied: importlib-metadata>=4.13.0 in /Users/rpelgrim/miniforge3/envs/delta-jupyter/lib/python3.11/site-packages (from dask[dataframe]->dask-deltatable) (7.1.0)\n",
      "Requirement already satisfied: pandas>=1.3 in /Users/rpelgrim/miniforge3/envs/delta-jupyter/lib/python3.11/site-packages (from dask[dataframe]->dask-deltatable) (2.2.2)\n",
      "Collecting dask-expr<1.2,>=1.1 (from dask[dataframe]->dask-deltatable)\n",
      "  Downloading dask_expr-1.1.1-py3-none-any.whl.metadata (2.4 kB)\n",
      "Requirement already satisfied: pyarrow-hotfix in /Users/rpelgrim/miniforge3/envs/delta-jupyter/lib/python3.11/site-packages (from deltalake->dask-deltatable) (0.6)\n",
      "Requirement already satisfied: numpy>=1.16.6 in /Users/rpelgrim/miniforge3/envs/delta-jupyter/lib/python3.11/site-packages (from pyarrow->dask-deltatable) (1.26.4)\n",
      "Requirement already satisfied: zipp>=0.5 in /Users/rpelgrim/miniforge3/envs/delta-jupyter/lib/python3.11/site-packages (from importlib-metadata>=4.13.0->dask[dataframe]->dask-deltatable) (3.17.0)\n",
      "Requirement already satisfied: python-dateutil>=2.8.2 in /Users/rpelgrim/miniforge3/envs/delta-jupyter/lib/python3.11/site-packages (from pandas>=1.3->dask[dataframe]->dask-deltatable) (2.9.0)\n",
      "Requirement already satisfied: pytz>=2020.1 in /Users/rpelgrim/miniforge3/envs/delta-jupyter/lib/python3.11/site-packages (from pandas>=1.3->dask[dataframe]->dask-deltatable) (2024.1)\n",
      "Requirement already satisfied: tzdata>=2022.7 in /Users/rpelgrim/miniforge3/envs/delta-jupyter/lib/python3.11/site-packages (from pandas>=1.3->dask[dataframe]->dask-deltatable) (2024.1)\n",
      "Collecting locket (from partd>=1.2.0->dask[dataframe]->dask-deltatable)\n",
      "  Using cached locket-1.0.0-py2.py3-none-any.whl.metadata (2.8 kB)\n",
      "Requirement already satisfied: six>=1.5 in /Users/rpelgrim/miniforge3/envs/delta-jupyter/lib/python3.11/site-packages (from python-dateutil>=2.8.2->pandas>=1.3->dask[dataframe]->dask-deltatable) (1.16.0)\n",
      "Using cached dask_deltatable-0.3.1-py3-none-any.whl (16 kB)\n",
      "Using cached click-8.1.7-py3-none-any.whl (97 kB)\n",
      "Using cached cloudpickle-3.0.0-py3-none-any.whl (20 kB)\n",
      "Downloading dask_expr-1.1.1-py3-none-any.whl (205 kB)\n",
      "\u001b[2K   \u001b[38;2;114;156;31m━━━━━━━━━━━━━━━━━━━━━━━━━━━━━━━━━━━━━━━━\u001b[0m \u001b[32m205.4/205.4 kB\u001b[0m \u001b[31m1.1 MB/s\u001b[0m eta \u001b[36m0:00:00\u001b[0m[31m1.9 MB/s\u001b[0m eta \u001b[36m0:00:01\u001b[0m\n",
      "\u001b[?25hDownloading dask-2024.5.1-py3-none-any.whl (1.2 MB)\n",
      "\u001b[2K   \u001b[38;2;114;156;31m━━━━━━━━━━━━━━━━━━━━━━━━━━━━━━━━━━━━━━━━\u001b[0m \u001b[32m1.2/1.2 MB\u001b[0m \u001b[31m6.4 MB/s\u001b[0m eta \u001b[36m0:00:00\u001b[0mm eta \u001b[36m0:00:01\u001b[0m[36m0:00:01\u001b[0m\n",
      "\u001b[?25hDownloading partd-1.4.2-py3-none-any.whl (18 kB)\n",
      "Using cached toolz-0.12.1-py3-none-any.whl (56 kB)\n",
      "Using cached locket-1.0.0-py2.py3-none-any.whl (4.4 kB)\n",
      "Installing collected packages: toolz, locket, cloudpickle, click, partd, dask, dask-expr, dask-deltatable\n",
      "Successfully installed click-8.1.7 cloudpickle-3.0.0 dask-2024.5.1 dask-deltatable-0.3.1 dask-expr-1.1.1 locket-1.0.0 partd-1.4.2 toolz-0.12.1\n"
     ]
    }
   ],
   "source": [
    "%%capture\n",
    "!pip install dask-deltatable"
   ]
  },
  {
   "cell_type": "code",
   "execution_count": 2,
   "id": "84ccae12-221f-4e99-99f4-be44efdf137d",
   "metadata": {},
   "outputs": [
    {
     "name": "stdout",
     "output_type": "stream",
     "text": [
      "Collecting deltalake==0.13\n",
      "  Using cached deltalake-0.13.0-cp37-abi3-macosx_11_0_arm64.whl.metadata (5.0 kB)\n",
      "Requirement already satisfied: pyarrow>=8 in /Users/rpelgrim/miniforge3/envs/delta-jupyter/lib/python3.11/site-packages (from deltalake==0.13) (16.1.0)\n",
      "Requirement already satisfied: numpy>=1.16.6 in /Users/rpelgrim/miniforge3/envs/delta-jupyter/lib/python3.11/site-packages (from pyarrow>=8->deltalake==0.13) (1.26.4)\n",
      "Using cached deltalake-0.13.0-cp37-abi3-macosx_11_0_arm64.whl (18.6 MB)\n",
      "Installing collected packages: deltalake\n",
      "  Attempting uninstall: deltalake\n",
      "    Found existing installation: deltalake 0.17.0\n",
      "    Uninstalling deltalake-0.17.0:\n",
      "      Successfully uninstalled deltalake-0.17.0\n",
      "Successfully installed deltalake-0.13.0\n"
     ]
    }
   ],
   "source": [
    "!pip install deltalake==0.13"
   ]
  },
  {
   "cell_type": "code",
   "execution_count": 1,
   "id": "a49e6ee2-9622-481a-a349-77795e14f181",
   "metadata": {},
   "outputs": [
    {
     "ename": "TypeError",
     "evalue": "descriptor '__call__' for 'type' objects doesn't apply to a 'property' object",
     "output_type": "error",
     "traceback": [
      "\u001b[0;31m---------------------------------------------------------------------------\u001b[0m",
      "\u001b[0;31mTypeError\u001b[0m                                 Traceback (most recent call last)",
      "Cell \u001b[0;32mIn[1], line 1\u001b[0m\n\u001b[0;32m----> 1\u001b[0m \u001b[38;5;28;01mimport\u001b[39;00m \u001b[38;5;21;01mdask_deltatable\u001b[39;00m \u001b[38;5;28;01mas\u001b[39;00m \u001b[38;5;21;01mddt\u001b[39;00m\n",
      "File \u001b[0;32m~/miniforge3/envs/delta-jupyter/lib/python3.11/site-packages/dask_deltatable/__init__.py:8\u001b[0m\n\u001b[1;32m      1\u001b[0m \u001b[38;5;28;01mfrom\u001b[39;00m \u001b[38;5;21;01m__future__\u001b[39;00m \u001b[38;5;28;01mimport\u001b[39;00m annotations\n\u001b[1;32m      3\u001b[0m __all__ \u001b[38;5;241m=\u001b[39m [\n\u001b[1;32m      4\u001b[0m     \u001b[38;5;124m\"\u001b[39m\u001b[38;5;124mread_deltalake\u001b[39m\u001b[38;5;124m\"\u001b[39m,\n\u001b[1;32m      5\u001b[0m     \u001b[38;5;124m\"\u001b[39m\u001b[38;5;124mto_deltalake\u001b[39m\u001b[38;5;124m\"\u001b[39m,\n\u001b[1;32m      6\u001b[0m ]\n\u001b[0;32m----> 8\u001b[0m \u001b[38;5;28;01mfrom\u001b[39;00m \u001b[38;5;21;01m.\u001b[39;00m\u001b[38;5;21;01mcore\u001b[39;00m \u001b[38;5;28;01mimport\u001b[39;00m read_deltalake \u001b[38;5;28;01mas\u001b[39;00m read_deltalake\n\u001b[1;32m      9\u001b[0m \u001b[38;5;28;01mfrom\u001b[39;00m \u001b[38;5;21;01m.\u001b[39;00m\u001b[38;5;21;01mwrite\u001b[39;00m \u001b[38;5;28;01mimport\u001b[39;00m to_deltalake \u001b[38;5;28;01mas\u001b[39;00m to_deltalake\n",
      "File \u001b[0;32m~/miniforge3/envs/delta-jupyter/lib/python3.11/site-packages/dask_deltatable/core.py:8\u001b[0m\n\u001b[1;32m      5\u001b[0m \u001b[38;5;28;01mfrom\u001b[39;00m \u001b[38;5;21;01mfunctools\u001b[39;00m \u001b[38;5;28;01mimport\u001b[39;00m partial\n\u001b[1;32m      6\u001b[0m \u001b[38;5;28;01mfrom\u001b[39;00m \u001b[38;5;21;01mtyping\u001b[39;00m \u001b[38;5;28;01mimport\u001b[39;00m Any, cast\n\u001b[0;32m----> 8\u001b[0m \u001b[38;5;28;01mimport\u001b[39;00m \u001b[38;5;21;01mdask\u001b[39;00m\u001b[38;5;21;01m.\u001b[39;00m\u001b[38;5;21;01mdataframe\u001b[39;00m \u001b[38;5;28;01mas\u001b[39;00m \u001b[38;5;21;01mdd\u001b[39;00m\n\u001b[1;32m      9\u001b[0m \u001b[38;5;28;01mimport\u001b[39;00m \u001b[38;5;21;01mpyarrow\u001b[39;00m \u001b[38;5;28;01mas\u001b[39;00m \u001b[38;5;21;01mpa\u001b[39;00m\n\u001b[1;32m     10\u001b[0m \u001b[38;5;28;01mimport\u001b[39;00m \u001b[38;5;21;01mpyarrow\u001b[39;00m\u001b[38;5;21;01m.\u001b[39;00m\u001b[38;5;21;01mparquet\u001b[39;00m \u001b[38;5;28;01mas\u001b[39;00m \u001b[38;5;21;01mpq\u001b[39;00m\n",
      "File \u001b[0;32m~/miniforge3/envs/delta-jupyter/lib/python3.11/site-packages/dask/dataframe/__init__.py:100\u001b[0m\n\u001b[1;32m     98\u001b[0m \u001b[38;5;28;01mimport\u001b[39;00m \u001b[38;5;21;01mdask\u001b[39;00m\u001b[38;5;21;01m.\u001b[39;00m\u001b[38;5;21;01mdataframe\u001b[39;00m\u001b[38;5;21;01m.\u001b[39;00m\u001b[38;5;21;01m_pyarrow_compat\u001b[39;00m\n\u001b[1;32m     99\u001b[0m \u001b[38;5;28;01mfrom\u001b[39;00m \u001b[38;5;21;01mdask\u001b[39;00m\u001b[38;5;21;01m.\u001b[39;00m\u001b[38;5;21;01mbase\u001b[39;00m \u001b[38;5;28;01mimport\u001b[39;00m compute\n\u001b[0;32m--> 100\u001b[0m \u001b[38;5;28;01mfrom\u001b[39;00m \u001b[38;5;21;01mdask\u001b[39;00m\u001b[38;5;21;01m.\u001b[39;00m\u001b[38;5;21;01mdataframe\u001b[39;00m \u001b[38;5;28;01mimport\u001b[39;00m backends, dispatch, rolling\n\u001b[1;32m    101\u001b[0m \u001b[38;5;28;01mfrom\u001b[39;00m \u001b[38;5;21;01mdask\u001b[39;00m\u001b[38;5;21;01m.\u001b[39;00m\u001b[38;5;21;01mdataframe\u001b[39;00m\u001b[38;5;21;01m.\u001b[39;00m\u001b[38;5;21;01mcore\u001b[39;00m \u001b[38;5;28;01mimport\u001b[39;00m (\n\u001b[1;32m    102\u001b[0m     DataFrame,\n\u001b[1;32m    103\u001b[0m     Index,\n\u001b[0;32m   (...)\u001b[0m\n\u001b[1;32m    109\u001b[0m     to_timedelta,\n\u001b[1;32m    110\u001b[0m )\n\u001b[1;32m    111\u001b[0m \u001b[38;5;28;01mfrom\u001b[39;00m \u001b[38;5;21;01mdask\u001b[39;00m\u001b[38;5;21;01m.\u001b[39;00m\u001b[38;5;21;01mdataframe\u001b[39;00m\u001b[38;5;21;01m.\u001b[39;00m\u001b[38;5;21;01mgroupby\u001b[39;00m \u001b[38;5;28;01mimport\u001b[39;00m Aggregation\n",
      "File \u001b[0;32m~/miniforge3/envs/delta-jupyter/lib/python3.11/site-packages/dask/dataframe/backends.py:15\u001b[0m\n\u001b[1;32m     13\u001b[0m \u001b[38;5;28;01mfrom\u001b[39;00m \u001b[38;5;21;01mdask\u001b[39;00m\u001b[38;5;21;01m.\u001b[39;00m\u001b[38;5;21;01mbackends\u001b[39;00m \u001b[38;5;28;01mimport\u001b[39;00m CreationDispatch, DaskBackendEntrypoint\n\u001b[1;32m     14\u001b[0m \u001b[38;5;28;01mfrom\u001b[39;00m \u001b[38;5;21;01mdask\u001b[39;00m\u001b[38;5;21;01m.\u001b[39;00m\u001b[38;5;21;01mdataframe\u001b[39;00m\u001b[38;5;21;01m.\u001b[39;00m\u001b[38;5;21;01m_compat\u001b[39;00m \u001b[38;5;28;01mimport\u001b[39;00m PANDAS_GE_220, is_any_real_numeric_dtype\n\u001b[0;32m---> 15\u001b[0m \u001b[38;5;28;01mfrom\u001b[39;00m \u001b[38;5;21;01mdask\u001b[39;00m\u001b[38;5;21;01m.\u001b[39;00m\u001b[38;5;21;01mdataframe\u001b[39;00m\u001b[38;5;21;01m.\u001b[39;00m\u001b[38;5;21;01mcore\u001b[39;00m \u001b[38;5;28;01mimport\u001b[39;00m DataFrame, Index, Scalar, Series, _Frame\n\u001b[1;32m     16\u001b[0m \u001b[38;5;28;01mfrom\u001b[39;00m \u001b[38;5;21;01mdask\u001b[39;00m\u001b[38;5;21;01m.\u001b[39;00m\u001b[38;5;21;01mdataframe\u001b[39;00m\u001b[38;5;21;01m.\u001b[39;00m\u001b[38;5;21;01mdispatch\u001b[39;00m \u001b[38;5;28;01mimport\u001b[39;00m (\n\u001b[1;32m     17\u001b[0m     categorical_dtype_dispatch,\n\u001b[1;32m     18\u001b[0m     concat,\n\u001b[0;32m   (...)\u001b[0m\n\u001b[1;32m     35\u001b[0m     union_categoricals_dispatch,\n\u001b[1;32m     36\u001b[0m )\n\u001b[1;32m     37\u001b[0m \u001b[38;5;28;01mfrom\u001b[39;00m \u001b[38;5;21;01mdask\u001b[39;00m\u001b[38;5;21;01m.\u001b[39;00m\u001b[38;5;21;01mdataframe\u001b[39;00m\u001b[38;5;21;01m.\u001b[39;00m\u001b[38;5;21;01mextensions\u001b[39;00m \u001b[38;5;28;01mimport\u001b[39;00m make_array_nonempty, make_scalar\n",
      "File \u001b[0;32m~/miniforge3/envs/delta-jupyter/lib/python3.11/site-packages/dask/dataframe/core.py:36\u001b[0m\n\u001b[1;32m     34\u001b[0m \u001b[38;5;28;01mfrom\u001b[39;00m \u001b[38;5;21;01mdask\u001b[39;00m\u001b[38;5;21;01m.\u001b[39;00m\u001b[38;5;21;01mblockwise\u001b[39;00m \u001b[38;5;28;01mimport\u001b[39;00m Blockwise, BlockwiseDep, BlockwiseDepDict, blockwise\n\u001b[1;32m     35\u001b[0m \u001b[38;5;28;01mfrom\u001b[39;00m \u001b[38;5;21;01mdask\u001b[39;00m\u001b[38;5;21;01m.\u001b[39;00m\u001b[38;5;21;01mcontext\u001b[39;00m \u001b[38;5;28;01mimport\u001b[39;00m globalmethod\n\u001b[0;32m---> 36\u001b[0m \u001b[38;5;28;01mfrom\u001b[39;00m \u001b[38;5;21;01mdask\u001b[39;00m\u001b[38;5;21;01m.\u001b[39;00m\u001b[38;5;21;01mdataframe\u001b[39;00m \u001b[38;5;28;01mimport\u001b[39;00m methods\n\u001b[1;32m     37\u001b[0m \u001b[38;5;28;01mfrom\u001b[39;00m \u001b[38;5;21;01mdask\u001b[39;00m\u001b[38;5;21;01m.\u001b[39;00m\u001b[38;5;21;01mdataframe\u001b[39;00m\u001b[38;5;21;01m.\u001b[39;00m\u001b[38;5;21;01m_compat\u001b[39;00m \u001b[38;5;28;01mimport\u001b[39;00m (\n\u001b[1;32m     38\u001b[0m     PANDAS_GE_140,\n\u001b[1;32m     39\u001b[0m     PANDAS_GE_150,\n\u001b[0;32m   (...)\u001b[0m\n\u001b[1;32m     47\u001b[0m     is_string_dtype,\n\u001b[1;32m     48\u001b[0m )\n\u001b[1;32m     49\u001b[0m \u001b[38;5;28;01mfrom\u001b[39;00m \u001b[38;5;21;01mdask\u001b[39;00m\u001b[38;5;21;01m.\u001b[39;00m\u001b[38;5;21;01mdataframe\u001b[39;00m\u001b[38;5;21;01m.\u001b[39;00m\u001b[38;5;21;01maccessor\u001b[39;00m \u001b[38;5;28;01mimport\u001b[39;00m CachedAccessor, DatetimeAccessor, StringAccessor\n",
      "File \u001b[0;32m~/miniforge3/envs/delta-jupyter/lib/python3.11/site-packages/dask/dataframe/methods.py:34\u001b[0m\n\u001b[1;32m     22\u001b[0m \u001b[38;5;66;03m#  preserve compatibility while moving dispatch objects\u001b[39;00m\n\u001b[1;32m     23\u001b[0m \u001b[38;5;28;01mfrom\u001b[39;00m \u001b[38;5;21;01mdask\u001b[39;00m\u001b[38;5;21;01m.\u001b[39;00m\u001b[38;5;21;01mdataframe\u001b[39;00m\u001b[38;5;21;01m.\u001b[39;00m\u001b[38;5;21;01mdispatch\u001b[39;00m \u001b[38;5;28;01mimport\u001b[39;00m (  \u001b[38;5;66;03m# noqa: F401\u001b[39;00m\n\u001b[1;32m     24\u001b[0m     concat,\n\u001b[1;32m     25\u001b[0m     concat_dispatch,\n\u001b[0;32m   (...)\u001b[0m\n\u001b[1;32m     32\u001b[0m     union_categoricals,\n\u001b[1;32m     33\u001b[0m )\n\u001b[0;32m---> 34\u001b[0m \u001b[38;5;28;01mfrom\u001b[39;00m \u001b[38;5;21;01mdask\u001b[39;00m\u001b[38;5;21;01m.\u001b[39;00m\u001b[38;5;21;01mdataframe\u001b[39;00m\u001b[38;5;21;01m.\u001b[39;00m\u001b[38;5;21;01mutils\u001b[39;00m \u001b[38;5;28;01mimport\u001b[39;00m is_dataframe_like, is_index_like, is_series_like\n\u001b[1;32m     35\u001b[0m \u001b[38;5;28;01mfrom\u001b[39;00m \u001b[38;5;21;01mdask\u001b[39;00m\u001b[38;5;21;01m.\u001b[39;00m\u001b[38;5;21;01mutils\u001b[39;00m \u001b[38;5;28;01mimport\u001b[39;00m _deprecated_kwarg\n\u001b[1;32m     37\u001b[0m \u001b[38;5;66;03m# cuDF may try to import old dispatch functions\u001b[39;00m\n",
      "File \u001b[0;32m~/miniforge3/envs/delta-jupyter/lib/python3.11/site-packages/dask/dataframe/utils.py:20\u001b[0m\n\u001b[1;32m     18\u001b[0m \u001b[38;5;28;01mfrom\u001b[39;00m \u001b[38;5;21;01mdask\u001b[39;00m\u001b[38;5;21;01m.\u001b[39;00m\u001b[38;5;21;01mbase\u001b[39;00m \u001b[38;5;28;01mimport\u001b[39;00m get_scheduler, is_dask_collection\n\u001b[1;32m     19\u001b[0m \u001b[38;5;28;01mfrom\u001b[39;00m \u001b[38;5;21;01mdask\u001b[39;00m\u001b[38;5;21;01m.\u001b[39;00m\u001b[38;5;21;01mcore\u001b[39;00m \u001b[38;5;28;01mimport\u001b[39;00m get_deps\n\u001b[0;32m---> 20\u001b[0m \u001b[38;5;28;01mfrom\u001b[39;00m \u001b[38;5;21;01mdask\u001b[39;00m\u001b[38;5;21;01m.\u001b[39;00m\u001b[38;5;21;01mdataframe\u001b[39;00m \u001b[38;5;28;01mimport\u001b[39;00m (  \u001b[38;5;66;03m# noqa: F401 register pandas extension types\u001b[39;00m\n\u001b[1;32m     21\u001b[0m     _dtypes,\n\u001b[1;32m     22\u001b[0m     methods,\n\u001b[1;32m     23\u001b[0m )\n\u001b[1;32m     24\u001b[0m \u001b[38;5;28;01mfrom\u001b[39;00m \u001b[38;5;21;01mdask\u001b[39;00m\u001b[38;5;21;01m.\u001b[39;00m\u001b[38;5;21;01mdataframe\u001b[39;00m\u001b[38;5;21;01m.\u001b[39;00m\u001b[38;5;21;01m_compat\u001b[39;00m \u001b[38;5;28;01mimport\u001b[39;00m PANDAS_GE_150, tm  \u001b[38;5;66;03m# noqa: F401\u001b[39;00m\n\u001b[1;32m     25\u001b[0m \u001b[38;5;28;01mfrom\u001b[39;00m \u001b[38;5;21;01mdask\u001b[39;00m\u001b[38;5;21;01m.\u001b[39;00m\u001b[38;5;21;01mdataframe\u001b[39;00m\u001b[38;5;21;01m.\u001b[39;00m\u001b[38;5;21;01mdispatch\u001b[39;00m \u001b[38;5;28;01mimport\u001b[39;00m (  \u001b[38;5;66;03m# noqa : F401\u001b[39;00m\n\u001b[1;32m     26\u001b[0m     make_meta,\n\u001b[1;32m     27\u001b[0m     make_meta_obj,\n\u001b[1;32m     28\u001b[0m     meta_nonempty,\n\u001b[1;32m     29\u001b[0m )\n",
      "File \u001b[0;32m~/miniforge3/envs/delta-jupyter/lib/python3.11/site-packages/dask/dataframe/_dtypes.py:9\u001b[0m\n\u001b[1;32m      6\u001b[0m \u001b[38;5;28;01mimport\u001b[39;00m \u001b[38;5;21;01mpandas\u001b[39;00m \u001b[38;5;28;01mas\u001b[39;00m \u001b[38;5;21;01mpd\u001b[39;00m\n\u001b[1;32m      8\u001b[0m \u001b[38;5;28;01mfrom\u001b[39;00m \u001b[38;5;21;01mdask\u001b[39;00m\u001b[38;5;21;01m.\u001b[39;00m\u001b[38;5;21;01mdataframe\u001b[39;00m\u001b[38;5;21;01m.\u001b[39;00m\u001b[38;5;21;01m_compat\u001b[39;00m \u001b[38;5;28;01mimport\u001b[39;00m PANDAS_GE_150\n\u001b[0;32m----> 9\u001b[0m \u001b[38;5;28;01mfrom\u001b[39;00m \u001b[38;5;21;01mdask\u001b[39;00m\u001b[38;5;21;01m.\u001b[39;00m\u001b[38;5;21;01mdataframe\u001b[39;00m\u001b[38;5;21;01m.\u001b[39;00m\u001b[38;5;21;01mextensions\u001b[39;00m \u001b[38;5;28;01mimport\u001b[39;00m make_array_nonempty, make_scalar\n\u001b[1;32m     12\u001b[0m \u001b[38;5;129m@make_array_nonempty\u001b[39m\u001b[38;5;241m.\u001b[39mregister(pd\u001b[38;5;241m.\u001b[39mDatetimeTZDtype)\n\u001b[1;32m     13\u001b[0m \u001b[38;5;28;01mdef\u001b[39;00m \u001b[38;5;21m_\u001b[39m(dtype):\n\u001b[1;32m     14\u001b[0m     \u001b[38;5;28;01mreturn\u001b[39;00m pd\u001b[38;5;241m.\u001b[39marray([pd\u001b[38;5;241m.\u001b[39mTimestamp(\u001b[38;5;241m1\u001b[39m), pd\u001b[38;5;241m.\u001b[39mNaT], dtype\u001b[38;5;241m=\u001b[39mdtype)\n",
      "File \u001b[0;32m~/miniforge3/envs/delta-jupyter/lib/python3.11/site-packages/dask/dataframe/extensions.py:8\u001b[0m\n\u001b[1;32m      1\u001b[0m \u001b[38;5;124;03m\"\"\"\u001b[39;00m\n\u001b[1;32m      2\u001b[0m \u001b[38;5;124;03mSupport for pandas ExtensionArray in dask.dataframe.\u001b[39;00m\n\u001b[1;32m      3\u001b[0m \n\u001b[1;32m      4\u001b[0m \u001b[38;5;124;03mSee :ref:`extensionarrays` for more.\u001b[39;00m\n\u001b[1;32m      5\u001b[0m \u001b[38;5;124;03m\"\"\"\u001b[39;00m\n\u001b[1;32m      6\u001b[0m \u001b[38;5;28;01mfrom\u001b[39;00m \u001b[38;5;21;01m__future__\u001b[39;00m \u001b[38;5;28;01mimport\u001b[39;00m annotations\n\u001b[0;32m----> 8\u001b[0m \u001b[38;5;28;01mfrom\u001b[39;00m \u001b[38;5;21;01mdask\u001b[39;00m\u001b[38;5;21;01m.\u001b[39;00m\u001b[38;5;21;01mdataframe\u001b[39;00m\u001b[38;5;21;01m.\u001b[39;00m\u001b[38;5;21;01maccessor\u001b[39;00m \u001b[38;5;28;01mimport\u001b[39;00m (\n\u001b[1;32m      9\u001b[0m     register_dataframe_accessor,\n\u001b[1;32m     10\u001b[0m     register_index_accessor,\n\u001b[1;32m     11\u001b[0m     register_series_accessor,\n\u001b[1;32m     12\u001b[0m )\n\u001b[1;32m     13\u001b[0m \u001b[38;5;28;01mfrom\u001b[39;00m \u001b[38;5;21;01mdask\u001b[39;00m\u001b[38;5;21;01m.\u001b[39;00m\u001b[38;5;21;01mutils\u001b[39;00m \u001b[38;5;28;01mimport\u001b[39;00m Dispatch\n\u001b[1;32m     15\u001b[0m make_array_nonempty \u001b[38;5;241m=\u001b[39m Dispatch(\u001b[38;5;124m\"\u001b[39m\u001b[38;5;124mmake_array_nonempty\u001b[39m\u001b[38;5;124m\"\u001b[39m)\n",
      "File \u001b[0;32m~/miniforge3/envs/delta-jupyter/lib/python3.11/site-packages/dask/dataframe/accessor.py:126\u001b[0m\n\u001b[1;32m    113\u001b[0m         token \u001b[38;5;241m=\u001b[39m \u001b[38;5;124mf\u001b[39m\u001b[38;5;124m\"\u001b[39m\u001b[38;5;132;01m{\u001b[39;00m\u001b[38;5;28mself\u001b[39m\u001b[38;5;241m.\u001b[39m_accessor_name\u001b[38;5;132;01m}\u001b[39;00m\u001b[38;5;124m-\u001b[39m\u001b[38;5;132;01m{\u001b[39;00mattr\u001b[38;5;132;01m}\u001b[39;00m\u001b[38;5;124m\"\u001b[39m\n\u001b[1;32m    114\u001b[0m         \u001b[38;5;28;01mreturn\u001b[39;00m \u001b[38;5;28mself\u001b[39m\u001b[38;5;241m.\u001b[39m_series\u001b[38;5;241m.\u001b[39mmap_partitions(\n\u001b[1;32m    115\u001b[0m             \u001b[38;5;28mself\u001b[39m\u001b[38;5;241m.\u001b[39m_delegate_method,\n\u001b[1;32m    116\u001b[0m             \u001b[38;5;28mself\u001b[39m\u001b[38;5;241m.\u001b[39m_accessor_name,\n\u001b[0;32m   (...)\u001b[0m\n\u001b[1;32m    122\u001b[0m             token\u001b[38;5;241m=\u001b[39mtoken,\n\u001b[1;32m    123\u001b[0m         )\n\u001b[0;32m--> 126\u001b[0m \u001b[38;5;28;43;01mclass\u001b[39;49;00m\u001b[43m \u001b[49m\u001b[38;5;21;43;01mDatetimeAccessor\u001b[39;49;00m\u001b[43m(\u001b[49m\u001b[43mAccessor\u001b[49m\u001b[43m)\u001b[49m\u001b[43m:\u001b[49m\n\u001b[1;32m    127\u001b[0m \u001b[38;5;250;43m    \u001b[39;49m\u001b[38;5;124;43;03m\"\"\"Accessor object for datetimelike properties of the Series values.\u001b[39;49;00m\n\u001b[1;32m    128\u001b[0m \n\u001b[1;32m    129\u001b[0m \u001b[38;5;124;43;03m    Examples\u001b[39;49;00m\n\u001b[0;32m   (...)\u001b[0m\n\u001b[1;32m    132\u001b[0m \u001b[38;5;124;43;03m    >>> s.dt.microsecond  # doctest: +SKIP\u001b[39;49;00m\n\u001b[1;32m    133\u001b[0m \u001b[38;5;124;43;03m    \"\"\"\u001b[39;49;00m\n\u001b[1;32m    135\u001b[0m \u001b[43m    \u001b[49m\u001b[43m_accessor_name\u001b[49m\u001b[43m \u001b[49m\u001b[38;5;241;43m=\u001b[39;49m\u001b[43m \u001b[49m\u001b[38;5;124;43m\"\u001b[39;49m\u001b[38;5;124;43mdt\u001b[39;49m\u001b[38;5;124;43m\"\u001b[39;49m\n",
      "File \u001b[0;32m~/miniforge3/envs/delta-jupyter/lib/python3.11/site-packages/dask/dataframe/accessor.py:81\u001b[0m, in \u001b[0;36mAccessor.__init_subclass__\u001b[0;34m(cls, **kwargs)\u001b[0m\n\u001b[1;32m     79\u001b[0m attr, min_version \u001b[38;5;241m=\u001b[39m item \u001b[38;5;28;01mif\u001b[39;00m \u001b[38;5;28misinstance\u001b[39m(item, \u001b[38;5;28mtuple\u001b[39m) \u001b[38;5;28;01melse\u001b[39;00m (item, \u001b[38;5;28;01mNone\u001b[39;00m)\n\u001b[1;32m     80\u001b[0m \u001b[38;5;28;01mif\u001b[39;00m \u001b[38;5;129;01mnot\u001b[39;00m \u001b[38;5;28mhasattr\u001b[39m(\u001b[38;5;28mcls\u001b[39m, attr):\n\u001b[0;32m---> 81\u001b[0m     \u001b[43m_bind_property\u001b[49m\u001b[43m(\u001b[49m\u001b[38;5;28;43mcls\u001b[39;49m\u001b[43m,\u001b[49m\u001b[43m \u001b[49m\u001b[43mpd_cls\u001b[49m\u001b[43m,\u001b[49m\u001b[43m \u001b[49m\u001b[43mattr\u001b[49m\u001b[43m,\u001b[49m\u001b[43m \u001b[49m\u001b[43mmin_version\u001b[49m\u001b[43m)\u001b[49m\n",
      "File \u001b[0;32m~/miniforge3/envs/delta-jupyter/lib/python3.11/site-packages/dask/dataframe/accessor.py:35\u001b[0m, in \u001b[0;36m_bind_property\u001b[0;34m(cls, pd_cls, attr, min_version)\u001b[0m\n\u001b[1;32m     33\u001b[0m \u001b[38;5;28;01mexcept\u001b[39;00m \u001b[38;5;167;01mException\u001b[39;00m:\n\u001b[1;32m     34\u001b[0m     \u001b[38;5;28;01mpass\u001b[39;00m\n\u001b[0;32m---> 35\u001b[0m \u001b[38;5;28msetattr\u001b[39m(\u001b[38;5;28mcls\u001b[39m, attr, \u001b[38;5;28mproperty\u001b[39m(\u001b[43mderived_from\u001b[49m\u001b[43m(\u001b[49m\u001b[43mpd_cls\u001b[49m\u001b[43m,\u001b[49m\u001b[43m \u001b[49m\u001b[43mversion\u001b[49m\u001b[38;5;241;43m=\u001b[39;49m\u001b[43mmin_version\u001b[49m\u001b[43m)\u001b[49m\u001b[43m(\u001b[49m\u001b[43mfunc\u001b[49m\u001b[43m)\u001b[49m))\n",
      "File \u001b[0;32m~/miniforge3/envs/delta-jupyter/lib/python3.11/site-packages/dask/utils.py:987\u001b[0m, in \u001b[0;36mderived_from.<locals>.wrapper\u001b[0;34m(method)\u001b[0m\n\u001b[1;32m    985\u001b[0m \u001b[38;5;28;01mtry\u001b[39;00m:\n\u001b[1;32m    986\u001b[0m     extra \u001b[38;5;241m=\u001b[39m \u001b[38;5;28mgetattr\u001b[39m(method, \u001b[38;5;124m\"\u001b[39m\u001b[38;5;124m__doc__\u001b[39m\u001b[38;5;124m\"\u001b[39m, \u001b[38;5;28;01mNone\u001b[39;00m) \u001b[38;5;129;01mor\u001b[39;00m \u001b[38;5;124m\"\u001b[39m\u001b[38;5;124m\"\u001b[39m\n\u001b[0;32m--> 987\u001b[0m     method\u001b[38;5;241m.\u001b[39m\u001b[38;5;18m__doc__\u001b[39m \u001b[38;5;241m=\u001b[39m \u001b[43m_derived_from\u001b[49m\u001b[43m(\u001b[49m\n\u001b[1;32m    988\u001b[0m \u001b[43m        \u001b[49m\u001b[43moriginal_klass\u001b[49m\u001b[43m,\u001b[49m\n\u001b[1;32m    989\u001b[0m \u001b[43m        \u001b[49m\u001b[43mmethod\u001b[49m\u001b[43m,\u001b[49m\n\u001b[1;32m    990\u001b[0m \u001b[43m        \u001b[49m\u001b[43mua_args\u001b[49m\u001b[38;5;241;43m=\u001b[39;49m\u001b[43mua_args\u001b[49m\u001b[43m,\u001b[49m\n\u001b[1;32m    991\u001b[0m \u001b[43m        \u001b[49m\u001b[43mextra\u001b[49m\u001b[38;5;241;43m=\u001b[39;49m\u001b[43mextra\u001b[49m\u001b[43m,\u001b[49m\n\u001b[1;32m    992\u001b[0m \u001b[43m        \u001b[49m\u001b[43mskipblocks\u001b[49m\u001b[38;5;241;43m=\u001b[39;49m\u001b[43mskipblocks\u001b[49m\u001b[43m,\u001b[49m\n\u001b[1;32m    993\u001b[0m \u001b[43m        \u001b[49m\u001b[43minconsistencies\u001b[49m\u001b[38;5;241;43m=\u001b[39;49m\u001b[43minconsistencies\u001b[49m\u001b[43m,\u001b[49m\n\u001b[1;32m    994\u001b[0m \u001b[43m    \u001b[49m\u001b[43m)\u001b[49m\n\u001b[1;32m    995\u001b[0m     \u001b[38;5;28;01mreturn\u001b[39;00m method\n\u001b[1;32m    997\u001b[0m \u001b[38;5;28;01mexcept\u001b[39;00m \u001b[38;5;167;01mAttributeError\u001b[39;00m:\n",
      "File \u001b[0;32m~/miniforge3/envs/delta-jupyter/lib/python3.11/site-packages/dask/utils.py:940\u001b[0m, in \u001b[0;36m_derived_from\u001b[0;34m(cls, method, ua_args, extra, skipblocks, inconsistencies)\u001b[0m\n\u001b[1;32m    938\u001b[0m \u001b[38;5;66;03m# Mark unsupported arguments\u001b[39;00m\n\u001b[1;32m    939\u001b[0m \u001b[38;5;28;01mtry\u001b[39;00m:\n\u001b[0;32m--> 940\u001b[0m     method_args \u001b[38;5;241m=\u001b[39m \u001b[43mget_named_args\u001b[49m\u001b[43m(\u001b[49m\u001b[43mmethod\u001b[49m\u001b[43m)\u001b[49m\n\u001b[1;32m    941\u001b[0m     original_args \u001b[38;5;241m=\u001b[39m get_named_args(original_method)\n\u001b[1;32m    942\u001b[0m     not_supported \u001b[38;5;241m=\u001b[39m [m \u001b[38;5;28;01mfor\u001b[39;00m m \u001b[38;5;129;01min\u001b[39;00m original_args \u001b[38;5;28;01mif\u001b[39;00m m \u001b[38;5;129;01mnot\u001b[39;00m \u001b[38;5;129;01min\u001b[39;00m method_args]\n",
      "File \u001b[0;32m~/miniforge3/envs/delta-jupyter/lib/python3.11/site-packages/dask/utils.py:701\u001b[0m, in \u001b[0;36mget_named_args\u001b[0;34m(func)\u001b[0m\n\u001b[1;32m    699\u001b[0m \u001b[38;5;28;01mdef\u001b[39;00m \u001b[38;5;21mget_named_args\u001b[39m(func) \u001b[38;5;241m-\u001b[39m\u001b[38;5;241m>\u001b[39m \u001b[38;5;28mlist\u001b[39m[\u001b[38;5;28mstr\u001b[39m]:\n\u001b[1;32m    700\u001b[0m \u001b[38;5;250m    \u001b[39m\u001b[38;5;124;03m\"\"\"Get all non ``*args/**kwargs`` arguments for a function\"\"\"\u001b[39;00m\n\u001b[0;32m--> 701\u001b[0m     s \u001b[38;5;241m=\u001b[39m \u001b[43minspect\u001b[49m\u001b[38;5;241;43m.\u001b[39;49m\u001b[43msignature\u001b[49m\u001b[43m(\u001b[49m\u001b[43mfunc\u001b[49m\u001b[43m)\u001b[49m\n\u001b[1;32m    702\u001b[0m     \u001b[38;5;28;01mreturn\u001b[39;00m [\n\u001b[1;32m    703\u001b[0m         n\n\u001b[1;32m    704\u001b[0m         \u001b[38;5;28;01mfor\u001b[39;00m n, p \u001b[38;5;129;01min\u001b[39;00m s\u001b[38;5;241m.\u001b[39mparameters\u001b[38;5;241m.\u001b[39mitems()\n\u001b[1;32m    705\u001b[0m         \u001b[38;5;28;01mif\u001b[39;00m p\u001b[38;5;241m.\u001b[39mkind \u001b[38;5;129;01min\u001b[39;00m [p\u001b[38;5;241m.\u001b[39mPOSITIONAL_OR_KEYWORD, p\u001b[38;5;241m.\u001b[39mPOSITIONAL_ONLY, p\u001b[38;5;241m.\u001b[39mKEYWORD_ONLY]\n\u001b[1;32m    706\u001b[0m     ]\n",
      "File \u001b[0;32m~/miniforge3/envs/delta-jupyter/lib/python3.11/inspect.py:3263\u001b[0m, in \u001b[0;36msignature\u001b[0;34m(obj, follow_wrapped, globals, locals, eval_str)\u001b[0m\n\u001b[1;32m   3261\u001b[0m \u001b[38;5;28;01mdef\u001b[39;00m \u001b[38;5;21msignature\u001b[39m(obj, \u001b[38;5;241m*\u001b[39m, follow_wrapped\u001b[38;5;241m=\u001b[39m\u001b[38;5;28;01mTrue\u001b[39;00m, \u001b[38;5;28mglobals\u001b[39m\u001b[38;5;241m=\u001b[39m\u001b[38;5;28;01mNone\u001b[39;00m, \u001b[38;5;28mlocals\u001b[39m\u001b[38;5;241m=\u001b[39m\u001b[38;5;28;01mNone\u001b[39;00m, eval_str\u001b[38;5;241m=\u001b[39m\u001b[38;5;28;01mFalse\u001b[39;00m):\n\u001b[1;32m   3262\u001b[0m \u001b[38;5;250m    \u001b[39m\u001b[38;5;124;03m\"\"\"Get a signature object for the passed callable.\"\"\"\u001b[39;00m\n\u001b[0;32m-> 3263\u001b[0m     \u001b[38;5;28;01mreturn\u001b[39;00m \u001b[43mSignature\u001b[49m\u001b[38;5;241;43m.\u001b[39;49m\u001b[43mfrom_callable\u001b[49m\u001b[43m(\u001b[49m\u001b[43mobj\u001b[49m\u001b[43m,\u001b[49m\u001b[43m \u001b[49m\u001b[43mfollow_wrapped\u001b[49m\u001b[38;5;241;43m=\u001b[39;49m\u001b[43mfollow_wrapped\u001b[49m\u001b[43m,\u001b[49m\n\u001b[1;32m   3264\u001b[0m \u001b[43m                                   \u001b[49m\u001b[38;5;28;43mglobals\u001b[39;49m\u001b[38;5;241;43m=\u001b[39;49m\u001b[38;5;28;43mglobals\u001b[39;49m\u001b[43m,\u001b[49m\u001b[43m \u001b[49m\u001b[38;5;28;43mlocals\u001b[39;49m\u001b[38;5;241;43m=\u001b[39;49m\u001b[38;5;28;43mlocals\u001b[39;49m\u001b[43m,\u001b[49m\u001b[43m \u001b[49m\u001b[43meval_str\u001b[49m\u001b[38;5;241;43m=\u001b[39;49m\u001b[43meval_str\u001b[49m\u001b[43m)\u001b[49m\n",
      "File \u001b[0;32m~/miniforge3/envs/delta-jupyter/lib/python3.11/inspect.py:3011\u001b[0m, in \u001b[0;36mSignature.from_callable\u001b[0;34m(cls, obj, follow_wrapped, globals, locals, eval_str)\u001b[0m\n\u001b[1;32m   3007\u001b[0m \u001b[38;5;129m@classmethod\u001b[39m\n\u001b[1;32m   3008\u001b[0m \u001b[38;5;28;01mdef\u001b[39;00m \u001b[38;5;21mfrom_callable\u001b[39m(\u001b[38;5;28mcls\u001b[39m, obj, \u001b[38;5;241m*\u001b[39m,\n\u001b[1;32m   3009\u001b[0m                   follow_wrapped\u001b[38;5;241m=\u001b[39m\u001b[38;5;28;01mTrue\u001b[39;00m, \u001b[38;5;28mglobals\u001b[39m\u001b[38;5;241m=\u001b[39m\u001b[38;5;28;01mNone\u001b[39;00m, \u001b[38;5;28mlocals\u001b[39m\u001b[38;5;241m=\u001b[39m\u001b[38;5;28;01mNone\u001b[39;00m, eval_str\u001b[38;5;241m=\u001b[39m\u001b[38;5;28;01mFalse\u001b[39;00m):\n\u001b[1;32m   3010\u001b[0m \u001b[38;5;250m    \u001b[39m\u001b[38;5;124;03m\"\"\"Constructs Signature for the given callable object.\"\"\"\u001b[39;00m\n\u001b[0;32m-> 3011\u001b[0m     \u001b[38;5;28;01mreturn\u001b[39;00m \u001b[43m_signature_from_callable\u001b[49m\u001b[43m(\u001b[49m\u001b[43mobj\u001b[49m\u001b[43m,\u001b[49m\u001b[43m \u001b[49m\u001b[43msigcls\u001b[49m\u001b[38;5;241;43m=\u001b[39;49m\u001b[38;5;28;43mcls\u001b[39;49m\u001b[43m,\u001b[49m\n\u001b[1;32m   3012\u001b[0m \u001b[43m                                    \u001b[49m\u001b[43mfollow_wrapper_chains\u001b[49m\u001b[38;5;241;43m=\u001b[39;49m\u001b[43mfollow_wrapped\u001b[49m\u001b[43m,\u001b[49m\n\u001b[1;32m   3013\u001b[0m \u001b[43m                                    \u001b[49m\u001b[38;5;28;43mglobals\u001b[39;49m\u001b[38;5;241;43m=\u001b[39;49m\u001b[38;5;28;43mglobals\u001b[39;49m\u001b[43m,\u001b[49m\u001b[43m \u001b[49m\u001b[38;5;28;43mlocals\u001b[39;49m\u001b[38;5;241;43m=\u001b[39;49m\u001b[38;5;28;43mlocals\u001b[39;49m\u001b[43m,\u001b[49m\u001b[43m \u001b[49m\u001b[43meval_str\u001b[49m\u001b[38;5;241;43m=\u001b[39;49m\u001b[43meval_str\u001b[49m\u001b[43m)\u001b[49m\n",
      "File \u001b[0;32m~/miniforge3/envs/delta-jupyter/lib/python3.11/inspect.py:2599\u001b[0m, in \u001b[0;36m_signature_from_callable\u001b[0;34m(obj, follow_wrapper_chains, skip_bound_arg, globals, locals, eval_str, sigcls)\u001b[0m\n\u001b[1;32m   2597\u001b[0m     call \u001b[38;5;241m=\u001b[39m getattr_static(\u001b[38;5;28mtype\u001b[39m(obj), \u001b[38;5;124m'\u001b[39m\u001b[38;5;124m__call__\u001b[39m\u001b[38;5;124m'\u001b[39m, \u001b[38;5;28;01mNone\u001b[39;00m)\n\u001b[1;32m   2598\u001b[0m     \u001b[38;5;28;01mif\u001b[39;00m call \u001b[38;5;129;01mis\u001b[39;00m \u001b[38;5;129;01mnot\u001b[39;00m \u001b[38;5;28;01mNone\u001b[39;00m:\n\u001b[0;32m-> 2599\u001b[0m         call \u001b[38;5;241m=\u001b[39m \u001b[43m_descriptor_get\u001b[49m\u001b[43m(\u001b[49m\u001b[43mcall\u001b[49m\u001b[43m,\u001b[49m\u001b[43m \u001b[49m\u001b[43mobj\u001b[49m\u001b[43m)\u001b[49m\n\u001b[1;32m   2600\u001b[0m         \u001b[38;5;28;01mreturn\u001b[39;00m _get_signature_of(call)\n\u001b[1;32m   2602\u001b[0m \u001b[38;5;28;01mraise\u001b[39;00m \u001b[38;5;167;01mValueError\u001b[39;00m(\u001b[38;5;124m'\u001b[39m\u001b[38;5;124mcallable \u001b[39m\u001b[38;5;132;01m{!r}\u001b[39;00m\u001b[38;5;124m is not supported by signature\u001b[39m\u001b[38;5;124m'\u001b[39m\u001b[38;5;241m.\u001b[39mformat(obj))\n",
      "File \u001b[0;32m~/miniforge3/envs/delta-jupyter/lib/python3.11/inspect.py:2432\u001b[0m, in \u001b[0;36m_descriptor_get\u001b[0;34m(descriptor, obj)\u001b[0m\n\u001b[1;32m   2430\u001b[0m \u001b[38;5;28;01mif\u001b[39;00m get \u001b[38;5;129;01mis\u001b[39;00m _sentinel:\n\u001b[1;32m   2431\u001b[0m     \u001b[38;5;28;01mreturn\u001b[39;00m descriptor\n\u001b[0;32m-> 2432\u001b[0m \u001b[38;5;28;01mreturn\u001b[39;00m \u001b[43mget\u001b[49m\u001b[43m(\u001b[49m\u001b[43mdescriptor\u001b[49m\u001b[43m,\u001b[49m\u001b[43m \u001b[49m\u001b[43mobj\u001b[49m\u001b[43m,\u001b[49m\u001b[43m \u001b[49m\u001b[38;5;28;43mtype\u001b[39;49m\u001b[43m(\u001b[49m\u001b[43mobj\u001b[49m\u001b[43m)\u001b[49m\u001b[43m)\u001b[49m\n",
      "\u001b[0;31mTypeError\u001b[0m: descriptor '__call__' for 'type' objects doesn't apply to a 'property' object"
     ]
    }
   ],
   "source": [
    "import dask_deltatable as ddt"
   ]
  },
  {
   "cell_type": "code",
   "execution_count": 2,
   "id": "0d2f9eb9-3878-44d9-941e-60f8349ff393",
   "metadata": {},
   "outputs": [
    {
     "data": {
      "text/plain": [
       "'2024.2.1'"
      ]
     },
     "execution_count": 2,
     "metadata": {},
     "output_type": "execute_result"
    }
   ],
   "source": [
    "import dask\n",
    "dask.__version__"
   ]
  },
  {
   "cell_type": "code",
   "execution_count": null,
   "id": "e509e181-3ab7-4b53-a3f0-8eaf5ec78709",
   "metadata": {},
   "outputs": [
    {
     "data": {
      "text/plain": [
       "<dask.config.set at 0x103e89290>"
      ]
     },
     "execution_count": 2,
     "metadata": {},
     "output_type": "execute_result"
    }
   ],
   "source": [
    "dask.config.set({'dataframe.query-planning': False})"
   ]
  },
  {
   "cell_type": "code",
   "execution_count": 4,
   "id": "5a0f2c7c-d438-4804-8ed1-0a2c6aee5d14",
   "metadata": {},
   "outputs": [
    {
     "name": "stdout",
     "output_type": "stream",
     "text": [
      "Collecting dask==2024.2.1\n",
      "  Downloading dask-2024.2.1-py3-none-any.whl.metadata (3.7 kB)\n",
      "Requirement already satisfied: click>=8.1 in /Users/rpelgrim/miniforge3/envs/delta-jupyter/lib/python3.11/site-packages (from dask==2024.2.1) (8.1.7)\n",
      "Requirement already satisfied: cloudpickle>=1.5.0 in /Users/rpelgrim/miniforge3/envs/delta-jupyter/lib/python3.11/site-packages (from dask==2024.2.1) (3.0.0)\n",
      "Requirement already satisfied: fsspec>=2021.09.0 in /Users/rpelgrim/miniforge3/envs/delta-jupyter/lib/python3.11/site-packages (from dask==2024.2.1) (2024.5.0)\n",
      "Requirement already satisfied: packaging>=20.0 in /Users/rpelgrim/miniforge3/envs/delta-jupyter/lib/python3.11/site-packages (from dask==2024.2.1) (24.0)\n",
      "Requirement already satisfied: partd>=1.2.0 in /Users/rpelgrim/miniforge3/envs/delta-jupyter/lib/python3.11/site-packages (from dask==2024.2.1) (1.4.2)\n",
      "Requirement already satisfied: pyyaml>=5.3.1 in /Users/rpelgrim/miniforge3/envs/delta-jupyter/lib/python3.11/site-packages (from dask==2024.2.1) (6.0.1)\n",
      "Requirement already satisfied: toolz>=0.10.0 in /Users/rpelgrim/miniforge3/envs/delta-jupyter/lib/python3.11/site-packages (from dask==2024.2.1) (0.12.1)\n",
      "Requirement already satisfied: importlib-metadata>=4.13.0 in /Users/rpelgrim/miniforge3/envs/delta-jupyter/lib/python3.11/site-packages (from dask==2024.2.1) (7.1.0)\n",
      "Requirement already satisfied: zipp>=0.5 in /Users/rpelgrim/miniforge3/envs/delta-jupyter/lib/python3.11/site-packages (from importlib-metadata>=4.13.0->dask==2024.2.1) (3.17.0)\n",
      "Requirement already satisfied: locket in /Users/rpelgrim/miniforge3/envs/delta-jupyter/lib/python3.11/site-packages (from partd>=1.2.0->dask==2024.2.1) (1.0.0)\n",
      "Downloading dask-2024.2.1-py3-none-any.whl (1.2 MB)\n",
      "\u001b[2K   \u001b[38;2;114;156;31m━━━━━━━━━━━━━━━━━━━━━━━━━━━━━━━━━━━━━━━━\u001b[0m \u001b[32m1.2/1.2 MB\u001b[0m \u001b[31m3.6 MB/s\u001b[0m eta \u001b[36m0:00:00\u001b[0m[31m3.5 MB/s\u001b[0m eta \u001b[36m0:00:01\u001b[0m\n",
      "\u001b[?25hInstalling collected packages: dask\n",
      "  Attempting uninstall: dask\n",
      "    Found existing installation: dask 2024.5.1\n",
      "    Uninstalling dask-2024.5.1:\n",
      "      Successfully uninstalled dask-2024.5.1\n",
      "\u001b[31mERROR: pip's dependency resolver does not currently take into account all the packages that are installed. This behaviour is the source of the following dependency conflicts.\n",
      "dask-expr 1.1.1 requires dask==2024.5.1, but you have dask 2024.2.1 which is incompatible.\u001b[0m\u001b[31m\n",
      "\u001b[0mSuccessfully installed dask-2024.2.1\n"
     ]
    }
   ],
   "source": [
    "!pip install dask==2024.2.1"
   ]
  },
  {
   "cell_type": "code",
   "execution_count": 3,
   "id": "038f2ead-eeeb-4b5e-893b-cb87daac811b",
   "metadata": {},
   "outputs": [
    {
     "ename": "NotImplementedError",
     "evalue": "dask_expr does not support a token argument.",
     "output_type": "error",
     "traceback": [
      "\u001b[0;31m---------------------------------------------------------------------------\u001b[0m",
      "\u001b[0;31mNotImplementedError\u001b[0m                       Traceback (most recent call last)",
      "Cell \u001b[0;32mIn[3], line 3\u001b[0m\n\u001b[1;32m      1\u001b[0m \u001b[38;5;66;03m# read delta table into Dask DataFrame\u001b[39;00m\n\u001b[1;32m      2\u001b[0m delta_path \u001b[38;5;241m=\u001b[39m \u001b[38;5;124m\"\u001b[39m\u001b[38;5;124mtmp/pandas-table/\u001b[39m\u001b[38;5;124m\"\u001b[39m\n\u001b[0;32m----> 3\u001b[0m ddf \u001b[38;5;241m=\u001b[39m \u001b[43mddt\u001b[49m\u001b[38;5;241;43m.\u001b[39;49m\u001b[43mread_deltalake\u001b[49m\u001b[43m(\u001b[49m\u001b[43mdelta_path\u001b[49m\u001b[43m)\u001b[49m\n",
      "File \u001b[0;32m~/miniforge3/envs/delta-jupyter/lib/python3.11/site-packages/dask_deltatable/core.py:248\u001b[0m, in \u001b[0;36mread_deltalake\u001b[0;34m(path, catalog, database_name, table_name, version, columns, storage_options, datetime, delta_storage_options, **kwargs)\u001b[0m\n\u001b[1;32m    246\u001b[0m     \u001b[38;5;28;01mif\u001b[39;00m path \u001b[38;5;129;01mis\u001b[39;00m \u001b[38;5;28;01mNone\u001b[39;00m:\n\u001b[1;32m    247\u001b[0m         \u001b[38;5;28;01mraise\u001b[39;00m \u001b[38;5;167;01mValueError\u001b[39;00m(\u001b[38;5;124m\"\u001b[39m\u001b[38;5;124mPlease Provide Delta Table path\u001b[39m\u001b[38;5;124m\"\u001b[39m)\n\u001b[0;32m--> 248\u001b[0m     resultdf \u001b[38;5;241m=\u001b[39m \u001b[43m_read_from_filesystem\u001b[49m\u001b[43m(\u001b[49m\n\u001b[1;32m    249\u001b[0m \u001b[43m        \u001b[49m\u001b[43mpath\u001b[49m\u001b[38;5;241;43m=\u001b[39;49m\u001b[43mpath\u001b[49m\u001b[43m,\u001b[49m\n\u001b[1;32m    250\u001b[0m \u001b[43m        \u001b[49m\u001b[43mversion\u001b[49m\u001b[38;5;241;43m=\u001b[39;49m\u001b[43mversion\u001b[49m\u001b[43m,\u001b[49m\n\u001b[1;32m    251\u001b[0m \u001b[43m        \u001b[49m\u001b[43mcolumns\u001b[49m\u001b[38;5;241;43m=\u001b[39;49m\u001b[43mcolumns\u001b[49m\u001b[43m,\u001b[49m\n\u001b[1;32m    252\u001b[0m \u001b[43m        \u001b[49m\u001b[43mstorage_options\u001b[49m\u001b[38;5;241;43m=\u001b[39;49m\u001b[43mstorage_options\u001b[49m\u001b[43m,\u001b[49m\n\u001b[1;32m    253\u001b[0m \u001b[43m        \u001b[49m\u001b[43mdatetime\u001b[49m\u001b[38;5;241;43m=\u001b[39;49m\u001b[43mdatetime\u001b[49m\u001b[43m,\u001b[49m\n\u001b[1;32m    254\u001b[0m \u001b[43m        \u001b[49m\u001b[43mdelta_storage_options\u001b[49m\u001b[38;5;241;43m=\u001b[39;49m\u001b[43mdelta_storage_options\u001b[49m\u001b[43m,\u001b[49m\n\u001b[1;32m    255\u001b[0m \u001b[43m        \u001b[49m\u001b[38;5;241;43m*\u001b[39;49m\u001b[38;5;241;43m*\u001b[39;49m\u001b[43mkwargs\u001b[49m\u001b[43m,\u001b[49m\n\u001b[1;32m    256\u001b[0m \u001b[43m    \u001b[49m\u001b[43m)\u001b[49m\n\u001b[1;32m    257\u001b[0m \u001b[38;5;28;01mreturn\u001b[39;00m resultdf\n",
      "File \u001b[0;32m~/miniforge3/envs/delta-jupyter/lib/python3.11/site-packages/dask_deltatable/core.py:111\u001b[0m, in \u001b[0;36m_read_from_filesystem\u001b[0;34m(path, version, columns, datetime, storage_options, delta_storage_options, **kwargs)\u001b[0m\n\u001b[1;32m    108\u001b[0m \u001b[38;5;28;01mif\u001b[39;00m columns:\n\u001b[1;32m    109\u001b[0m     meta \u001b[38;5;241m=\u001b[39m meta[columns]\n\u001b[0;32m--> 111\u001b[0m \u001b[38;5;28;01mreturn\u001b[39;00m \u001b[43mdd\u001b[49m\u001b[38;5;241;43m.\u001b[39;49m\u001b[43mfrom_map\u001b[49m\u001b[43m(\u001b[49m\n\u001b[1;32m    112\u001b[0m \u001b[43m    \u001b[49m\u001b[43mpartial\u001b[49m\u001b[43m(\u001b[49m\u001b[43m_read_delta_partition\u001b[49m\u001b[43m,\u001b[49m\u001b[43m \u001b[49m\u001b[43mfs\u001b[49m\u001b[38;5;241;43m=\u001b[39;49m\u001b[43mfs\u001b[49m\u001b[43m,\u001b[49m\u001b[43m \u001b[49m\u001b[43mcolumns\u001b[49m\u001b[38;5;241;43m=\u001b[39;49m\u001b[43mcolumns\u001b[49m\u001b[43m,\u001b[49m\u001b[43m \u001b[49m\u001b[43mschema\u001b[49m\u001b[38;5;241;43m=\u001b[39;49m\u001b[43mschema\u001b[49m\u001b[43m,\u001b[49m\u001b[43m \u001b[49m\u001b[38;5;241;43m*\u001b[39;49m\u001b[38;5;241;43m*\u001b[39;49m\u001b[43mkwargs\u001b[49m\u001b[43m)\u001b[49m\u001b[43m,\u001b[49m\n\u001b[1;32m    113\u001b[0m \u001b[43m    \u001b[49m\u001b[43mpq_files\u001b[49m\u001b[43m,\u001b[49m\n\u001b[1;32m    114\u001b[0m \u001b[43m    \u001b[49m\u001b[43mmeta\u001b[49m\u001b[38;5;241;43m=\u001b[39;49m\u001b[43mmeta\u001b[49m\u001b[43m,\u001b[49m\n\u001b[1;32m    115\u001b[0m \u001b[43m    \u001b[49m\u001b[43mlabel\u001b[49m\u001b[38;5;241;43m=\u001b[39;49m\u001b[38;5;124;43m\"\u001b[39;49m\u001b[38;5;124;43mread-delta-table\u001b[39;49m\u001b[38;5;124;43m\"\u001b[39;49m\u001b[43m,\u001b[49m\n\u001b[1;32m    116\u001b[0m \u001b[43m    \u001b[49m\u001b[43mtoken\u001b[49m\u001b[38;5;241;43m=\u001b[39;49m\u001b[43mtokenize\u001b[49m\u001b[43m(\u001b[49m\u001b[43mfs_token\u001b[49m\u001b[43m,\u001b[49m\u001b[43m \u001b[49m\u001b[38;5;241;43m*\u001b[39;49m\u001b[38;5;241;43m*\u001b[39;49m\u001b[43mkwargs\u001b[49m\u001b[43m)\u001b[49m\u001b[43m,\u001b[49m\n\u001b[1;32m    117\u001b[0m \u001b[43m\u001b[49m\u001b[43m)\u001b[49m\n",
      "File \u001b[0;32m~/miniforge3/envs/delta-jupyter/lib/python3.11/site-packages/dask_expr/_collection.py:5797\u001b[0m, in \u001b[0;36mfrom_map\u001b[0;34m(func, args, meta, divisions, label, enforce_metadata, *iterables, **kwargs)\u001b[0m\n\u001b[1;32m   5793\u001b[0m \u001b[38;5;28;01mfrom\u001b[39;00m \u001b[38;5;21;01mdask_expr\u001b[39;00m\u001b[38;5;21;01m.\u001b[39;00m\u001b[38;5;21;01mio\u001b[39;00m \u001b[38;5;28;01mimport\u001b[39;00m FromMap, FromMapProjectable\n\u001b[1;32m   5795\u001b[0m \u001b[38;5;28;01mif\u001b[39;00m \u001b[38;5;124m\"\u001b[39m\u001b[38;5;124mtoken\u001b[39m\u001b[38;5;124m\"\u001b[39m \u001b[38;5;129;01min\u001b[39;00m kwargs:\n\u001b[1;32m   5796\u001b[0m     \u001b[38;5;66;03m# This option doesn't really make sense in dask-expr\u001b[39;00m\n\u001b[0;32m-> 5797\u001b[0m     \u001b[38;5;28;01mraise\u001b[39;00m \u001b[38;5;167;01mNotImplementedError\u001b[39;00m(\u001b[38;5;124m\"\u001b[39m\u001b[38;5;124mdask_expr does not support a token argument.\u001b[39m\u001b[38;5;124m\"\u001b[39m)\n\u001b[1;32m   5799\u001b[0m lengths \u001b[38;5;241m=\u001b[39m \u001b[38;5;28mset\u001b[39m()\n\u001b[1;32m   5800\u001b[0m iterables \u001b[38;5;241m=\u001b[39m \u001b[38;5;28mlist\u001b[39m(iterables)\n",
      "\u001b[0;31mNotImplementedError\u001b[0m: dask_expr does not support a token argument."
     ]
    }
   ],
   "source": [
    "# read delta table into Dask DataFrame\n",
    "delta_path = \"tmp/pandas-table/\"\n",
    "ddf = ddt.read_deltalake(delta_path)"
   ]
  },
  {
   "cell_type": "code",
   "execution_count": null,
   "id": "9e5be53b-8502-46c6-8eeb-32a57f9f48d0",
   "metadata": {},
   "outputs": [],
   "source": []
  },
  {
   "cell_type": "code",
   "execution_count": null,
   "id": "a901d7de-8282-45fb-89da-56c06161bc12",
   "metadata": {},
   "outputs": [],
   "source": []
  },
  {
   "cell_type": "code",
   "execution_count": null,
   "id": "7d3224d5-59ae-4827-80cf-75192547a26b",
   "metadata": {},
   "outputs": [],
   "source": []
  },
  {
   "cell_type": "code",
   "execution_count": null,
   "id": "58fa431d-64d9-459e-bd23-7437a5f82753",
   "metadata": {},
   "outputs": [],
   "source": []
  },
  {
   "cell_type": "markdown",
   "id": "dc6ceec9-acab-4db3-af2d-ca9aa1ceea91",
   "metadata": {},
   "source": [
    "## PySpark"
   ]
  },
  {
   "cell_type": "code",
   "execution_count": 1,
   "id": "a615edce-fffe-4224-924e-c2e98bf24c18",
   "metadata": {},
   "outputs": [
    {
     "name": "stdout",
     "output_type": "stream",
     "text": [
      "Requirement already satisfied: pyspark in /Users/rpelgrim/miniforge3/envs/pyspark-350-delta-320/lib/python3.11/site-packages (3.5.0)\n",
      "Requirement already satisfied: delta-spark in /Users/rpelgrim/miniforge3/envs/pyspark-350-delta-320/lib/python3.11/site-packages (3.2.0)\n",
      "Requirement already satisfied: py4j==0.10.9.7 in /Users/rpelgrim/miniforge3/envs/pyspark-350-delta-320/lib/python3.11/site-packages (from pyspark) (0.10.9.7)\n",
      "Requirement already satisfied: importlib-metadata>=1.0.0 in /Users/rpelgrim/miniforge3/envs/pyspark-350-delta-320/lib/python3.11/site-packages (from delta-spark) (7.1.0)\n",
      "Requirement already satisfied: zipp>=0.5 in /Users/rpelgrim/miniforge3/envs/pyspark-350-delta-320/lib/python3.11/site-packages (from importlib-metadata>=1.0.0->delta-spark) (3.17.0)\n"
     ]
    }
   ],
   "source": [
    "!pip install pyspark delta-spark"
   ]
  },
  {
   "cell_type": "markdown",
   "id": "cb8483cd-973c-47f2-84a4-fda16f2cd06e",
   "metadata": {},
   "source": [
    "## Use Delta Lake from a Jupyter Notebook"
   ]
  },
  {
   "cell_type": "code",
   "execution_count": 8,
   "id": "6713b6a5-d231-4c8a-81bd-be19ad077943",
   "metadata": {},
   "outputs": [],
   "source": [
    "import pyspark\n",
    "from delta import * \n",
    "\n",
    "builder = pyspark.sql.SparkSession.builder.appName(\"MyApp\") \\\n",
    "    .config(\"spark.sql.extensions\", \"io.delta.sql.DeltaSparkSessionExtension\") \\\n",
    "    .config(\"spark.sql.catalog.spark_catalog\", \"org.apache.spark.sql.delta.catalog.DeltaCatalog\")\n",
    "\n",
    "spark = configure_spark_with_delta_pip(builder).getOrCreate()"
   ]
  },
  {
   "cell_type": "code",
   "execution_count": 9,
   "id": "d39f39a4-70a5-4b1f-94dc-9e2a1b3f529f",
   "metadata": {},
   "outputs": [],
   "source": [
    "# create dataframe\n",
    "data = [\n",
    "    {'first_name': 'bob', 'age': 47},\n",
    "    {'first_name': 'li', 'age': 23},\n",
    "    {'first_name': 'leah', 'age': 51}\n",
    "]\n",
    "\n",
    "df = spark.createDataFrame(data=data)"
   ]
  },
  {
   "cell_type": "code",
   "execution_count": 10,
   "id": "98c77782-aedb-4fe1-a9e0-087a5d2993f5",
   "metadata": {},
   "outputs": [],
   "source": [
    "# write to Delta table\n",
    "df.write.format(\"delta\").save(\"tmp/spark-table\")"
   ]
  },
  {
   "cell_type": "code",
   "execution_count": 11,
   "id": "ecf291b6-39a5-4b35-8022-5ede7a20c0e7",
   "metadata": {},
   "outputs": [
    {
     "name": "stdout",
     "output_type": "stream",
     "text": [
      "+---+----------+\n",
      "|age|first_name|\n",
      "+---+----------+\n",
      "| 51|      leah|\n",
      "| 47|       bob|\n",
      "| 23|        li|\n",
      "+---+----------+\n",
      "\n"
     ]
    }
   ],
   "source": [
    "df = spark.read.format(\"delta\").load(\"tmp/spark-table\")\n",
    "df.show()"
   ]
  },
  {
   "cell_type": "code",
   "execution_count": null,
   "id": "8abcd615-ea9a-4872-86b8-f310bfc2a315",
   "metadata": {},
   "outputs": [],
   "source": []
  },
  {
   "cell_type": "code",
   "execution_count": 24,
   "id": "3d186f2f-2edb-4a5d-9469-66f6000f955e",
   "metadata": {},
   "outputs": [],
   "source": [
    "data2 = [\n",
    "    {'first_name': 'suh', 'age': 33},\n",
    "    {'first_name': 'anais', 'age': 68},\n",
    "]\n",
    "\n",
    "df2 = spark.createDataFrame(data=data2)"
   ]
  },
  {
   "cell_type": "code",
   "execution_count": 25,
   "id": "350ff601-01d6-43cd-86e7-46ec5f989032",
   "metadata": {},
   "outputs": [
    {
     "name": "stdout",
     "output_type": "stream",
     "text": [
      "+---+----------+\n",
      "|age|first_name|\n",
      "+---+----------+\n",
      "| 33|       suh|\n",
      "| 68|     anais|\n",
      "+---+----------+\n",
      "\n"
     ]
    }
   ],
   "source": [
    "df2.show()"
   ]
  },
  {
   "cell_type": "code",
   "execution_count": 27,
   "id": "8dc07310-a93c-43b0-8500-6f388ee6eafa",
   "metadata": {},
   "outputs": [],
   "source": [
    "df2.write.format(\"delta\").mode(\"append\").save(\"tmp/spark-table/\")"
   ]
  },
  {
   "cell_type": "code",
   "execution_count": 28,
   "id": "8ba495a6-203e-4ec6-9862-2d07b0c5e673",
   "metadata": {},
   "outputs": [
    {
     "name": "stdout",
     "output_type": "stream",
     "text": [
      "+---+----------+\n",
      "|age|first_name|\n",
      "+---+----------+\n",
      "| 68|     anais|\n",
      "| 51|      leah|\n",
      "| 33|       suh|\n",
      "| 47|       bob|\n",
      "| 23|        li|\n",
      "+---+----------+\n",
      "\n"
     ]
    }
   ],
   "source": [
    "df = spark.read.format(\"delta\").load(\"tmp/spark-table\")\n",
    "df.show()"
   ]
  },
  {
   "cell_type": "code",
   "execution_count": 30,
   "id": "d678a430-3b52-4407-a5e5-aa88e52b852b",
   "metadata": {},
   "outputs": [
    {
     "name": "stdout",
     "output_type": "stream",
     "text": [
      "+---+----------+\n",
      "|age|first_name|\n",
      "+---+----------+\n",
      "| 51|      leah|\n",
      "| 47|       bob|\n",
      "| 23|        li|\n",
      "+---+----------+\n",
      "\n"
     ]
    }
   ],
   "source": [
    "df = spark.read.format(\"delta\").option(\"versionAsOf\", 0).load(\"tmp/spark-table\")\n",
    "df.show()"
   ]
  },
  {
   "cell_type": "code",
   "execution_count": null,
   "id": "2a63d83c-927f-407e-95bb-49f23b737d92",
   "metadata": {},
   "outputs": [],
   "source": []
  }
 ],
 "metadata": {
  "kernelspec": {
   "display_name": "Python 3 (ipykernel)",
   "language": "python",
   "name": "python3"
  },
  "language_info": {
   "codemirror_mode": {
    "name": "ipython",
    "version": 3
   },
   "file_extension": ".py",
   "mimetype": "text/x-python",
   "name": "python",
   "nbconvert_exporter": "python",
   "pygments_lexer": "ipython3",
   "version": "3.11.9"
  }
 },
 "nbformat": 4,
 "nbformat_minor": 5
}
