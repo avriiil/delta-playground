{
 "cells": [
  {
   "cell_type": "markdown",
   "id": "e8b52798-149a-4296-beb6-715d5d858208",
   "metadata": {},
   "source": [
    "# Working with GeoParquet Files"
   ]
  },
  {
   "cell_type": "code",
   "execution_count": 1,
   "id": "14c07876-53c1-407c-a8ed-cda6eba46c8d",
   "metadata": {},
   "outputs": [],
   "source": [
    "import findspark\n",
    "findspark.init() \n",
    "\n",
    "import pyspark\n",
    "from delta import *\n",
    "\n",
    "conf = (\n",
    "    pyspark.conf.SparkConf()\n",
    "    .setAppName(\"MY_APP\")\n",
    "    .set(\n",
    "        \"spark.sql.catalog.spark_catalog\",\n",
    "        \"org.apache.spark.sql.delta.catalog.DeltaCatalog\",\n",
    "    )\n",
    "    .set(\"spark.sql.extensions\", \"io.delta.sql.DeltaSparkSessionExtension\")\n",
    "#    .set(\"spark.hadoop.fs.s3a.access.key\", access_key)\n",
    "#    .set(\"spark.hadoop.fs.s3a.secret.key\", secret_key)\n",
    "    .set(\"spark.sql.shuffle.partitions\", \"4\")\n",
    "    .setMaster(\n",
    "        \"local[*]\"\n",
    "    )  # replace the * with your desired number of cores. * for use all.\n",
    ")\n",
    "\n",
    "# extra_packages = [\n",
    "#     \"org.apache.hadoop:hadoop-aws:3.3.4\",\n",
    "#     \"org.apache.hadoop:hadoop-common:3.3.4\",\n",
    "#     \"com.amazonaws:aws-java-sdk-bundle:1.12.262\",\n",
    "# ]\n",
    "\n",
    "builder = pyspark.sql.SparkSession.builder.appName(\"MyApp\").config(conf=conf)\n",
    "spark = configure_spark_with_delta_pip(\n",
    "    builder, #extra_packages=extra_packages\n",
    ").getOrCreate()\n"
   ]
  },
  {
   "cell_type": "code",
   "execution_count": 1,
   "id": "7958826a-e2e0-4756-ab54-17c2e9511e12",
   "metadata": {},
   "outputs": [],
   "source": [
    "# import pyspark\n",
    "# from delta import *\n",
    "\n",
    "# conf = (\n",
    "#     pyspark.conf.SparkConf()\n",
    "#     .setAppName(\"geo\")\n",
    "#     .set(\n",
    "#         \"spark.sql.catalog.spark_catalog\",\n",
    "#         \"io.unitycatalog.spark.UCSingleCatalog\",\n",
    "#     )\n",
    "#     .set(\"spark.sql.extensions\", \"io.delta.sql.DeltaSparkSessionExtension\")\n",
    "#     .set(\"spark.sql.catalog.unity\", \"io.unitycatalog.spark.UCSingleCatalog\")\n",
    "#     .set(\"spark.sql.catalog.unity.uri\", \"http://localhost:8080\")\n",
    "#     .set(\"spark.sql.catalog.unity.token\", \"\")\n",
    "#     .set(\"spark.sql.defaultCatalog\", \"unity\")\n",
    "# #    .set(\"spark.hadoop.fs.s3a.access.key\", access_key)\n",
    "# #    .set(\"spark.hadoop.fs.s3a.secret.key\", secret_key)\n",
    "#     .set(\"spark.sql.shuffle.partitions\", \"4\")\n",
    "#     .setMaster(\n",
    "#         \"local[*]\"\n",
    "#     )  # replace the * with your desired number of cores. * for use all.\n",
    "# )\n",
    "\n",
    "# extra_packages = [\n",
    "# #     \"org.apache.hadoop:hadoop-aws:3.3.4\",\n",
    "# #     \"org.apache.hadoop:hadoop-common:3.3.4\",\n",
    "# #     \"com.amazonaws:aws-java-sdk-bundle:1.12.262\",\n",
    "#     \"io.delta:delta-spark_2.12:3.2.1\",\n",
    "#     \"io.unitycatalog:unitycatalog-spark_2.12:0.2.0\",\n",
    "#     \"org.datasyslab:geospark-sql\"\n",
    "# ]\n",
    "\n",
    "# builder = pyspark.sql.SparkSession.builder.appName(\"MyApp\").config(conf=conf)\n",
    "# spark = configure_spark_with_delta_pip(\n",
    "#     builder, extra_packages=extra_packages\n",
    "# ).getOrCreate()\n",
    "\n",
    "\n",
    "# #    --packages \"io.delta:delta-spark_2.12:3.2.1,io.unitycatalog:unitycatalog-spark_2.12:0.2.0\" \\\n",
    "# #    --conf \"spark.sql.extensions=io.delta.sql.DeltaSparkSessionExtension\" \\\n",
    "# #    --conf \"spark.sql.catalog.spark_catalog=io.unitycatalog.spark.UCSingleCatalog\" \\\n",
    "#     # --conf \"spark.sql.catalog.unity=io.unitycatalog.spark.UCSingleCatalog\" \\\n",
    "#     # --conf \"spark.sql.catalog.unity.uri=http://localhost:8080\" \\\n",
    "#     # --conf \"spark.sql.catalog.unity.token=\" \\\n",
    "#     # --conf \"spark.sql.defaultCatalog=unity\""
   ]
  },
  {
   "cell_type": "markdown",
   "id": "ed834e9e-7c9a-44de-ad8b-3671b8cbad6e",
   "metadata": {
    "jp-MarkdownHeadingCollapsed": true
   },
   "source": [
    "## Spark: Access Data with Unity Catalog\n",
    "NOT WORKING ATM"
   ]
  },
  {
   "cell_type": "code",
   "execution_count": 3,
   "id": "d0c74cec-322e-4ae5-ba76-f0fe8cdee770",
   "metadata": {},
   "outputs": [
    {
     "name": "stdout",
     "output_type": "stream",
     "text": [
      "+---------+\n",
      "|namespace|\n",
      "+---------+\n",
      "|  default|\n",
      "+---------+\n",
      "\n"
     ]
    }
   ],
   "source": [
    "spark.sql(\"SHOW SCHEMAS\").show()"
   ]
  },
  {
   "cell_type": "code",
   "execution_count": 4,
   "id": "2e96c7c4-c55c-442c-a6ea-24691699380e",
   "metadata": {},
   "outputs": [
    {
     "name": "stdout",
     "output_type": "stream",
     "text": [
      "+---------+-----------------+-----------+\n",
      "|namespace|        tableName|isTemporary|\n",
      "+---------+-----------------+-----------+\n",
      "|  default|        marksheet|      false|\n",
      "|  default|marksheet_uniform|      false|\n",
      "|  default|          numbers|      false|\n",
      "|  default|   user_countries|      false|\n",
      "+---------+-----------------+-----------+\n",
      "\n"
     ]
    }
   ],
   "source": [
    "spark.sql(\"SHOW TABLES IN default\").show()"
   ]
  },
  {
   "cell_type": "code",
   "execution_count": 5,
   "id": "d24d0ed8-429b-4393-9ad3-368217094849",
   "metadata": {
    "scrolled": true
   },
   "outputs": [
    {
     "ename": "ParseException",
     "evalue": "\n[PARSE_SYNTAX_ERROR] Syntax error at or near 'IN': missing 'FUNCTIONS'.(line 1, pos 13)\n\n== SQL ==\nSHOW VOLUMES IN default\n-------------^^^\n",
     "output_type": "error",
     "traceback": [
      "\u001b[0;31m---------------------------------------------------------------------------\u001b[0m",
      "\u001b[0;31mParseException\u001b[0m                            Traceback (most recent call last)",
      "Cell \u001b[0;32mIn[5], line 1\u001b[0m\n\u001b[0;32m----> 1\u001b[0m \u001b[43mspark\u001b[49m\u001b[38;5;241;43m.\u001b[39;49m\u001b[43msql\u001b[49m\u001b[43m(\u001b[49m\u001b[38;5;124;43m\"\u001b[39;49m\u001b[38;5;124;43mSHOW VOLUMES IN default\u001b[39;49m\u001b[38;5;124;43m\"\u001b[39;49m\u001b[43m)\u001b[49m\u001b[38;5;241m.\u001b[39mshow()\n",
      "File \u001b[0;32m~/miniforge3/envs/delta-geo/lib/python3.13/site-packages/pyspark/sql/session.py:1631\u001b[0m, in \u001b[0;36mSparkSession.sql\u001b[0;34m(self, sqlQuery, args, **kwargs)\u001b[0m\n\u001b[1;32m   1627\u001b[0m         \u001b[38;5;28;01massert\u001b[39;00m \u001b[38;5;28mself\u001b[39m\u001b[38;5;241m.\u001b[39m_jvm \u001b[38;5;129;01mis\u001b[39;00m \u001b[38;5;129;01mnot\u001b[39;00m \u001b[38;5;28;01mNone\u001b[39;00m\n\u001b[1;32m   1628\u001b[0m         litArgs \u001b[38;5;241m=\u001b[39m \u001b[38;5;28mself\u001b[39m\u001b[38;5;241m.\u001b[39m_jvm\u001b[38;5;241m.\u001b[39mPythonUtils\u001b[38;5;241m.\u001b[39mtoArray(\n\u001b[1;32m   1629\u001b[0m             [_to_java_column(lit(v)) \u001b[38;5;28;01mfor\u001b[39;00m v \u001b[38;5;129;01min\u001b[39;00m (args \u001b[38;5;129;01mor\u001b[39;00m [])]\n\u001b[1;32m   1630\u001b[0m         )\n\u001b[0;32m-> 1631\u001b[0m     \u001b[38;5;28;01mreturn\u001b[39;00m DataFrame(\u001b[38;5;28;43mself\u001b[39;49m\u001b[38;5;241;43m.\u001b[39;49m\u001b[43m_jsparkSession\u001b[49m\u001b[38;5;241;43m.\u001b[39;49m\u001b[43msql\u001b[49m\u001b[43m(\u001b[49m\u001b[43msqlQuery\u001b[49m\u001b[43m,\u001b[49m\u001b[43m \u001b[49m\u001b[43mlitArgs\u001b[49m\u001b[43m)\u001b[49m, \u001b[38;5;28mself\u001b[39m)\n\u001b[1;32m   1632\u001b[0m \u001b[38;5;28;01mfinally\u001b[39;00m:\n\u001b[1;32m   1633\u001b[0m     \u001b[38;5;28;01mif\u001b[39;00m \u001b[38;5;28mlen\u001b[39m(kwargs) \u001b[38;5;241m>\u001b[39m \u001b[38;5;241m0\u001b[39m:\n",
      "File \u001b[0;32m~/miniforge3/envs/delta-geo/lib/python3.13/site-packages/py4j/java_gateway.py:1322\u001b[0m, in \u001b[0;36mJavaMember.__call__\u001b[0;34m(self, *args)\u001b[0m\n\u001b[1;32m   1316\u001b[0m command \u001b[38;5;241m=\u001b[39m proto\u001b[38;5;241m.\u001b[39mCALL_COMMAND_NAME \u001b[38;5;241m+\u001b[39m\\\n\u001b[1;32m   1317\u001b[0m     \u001b[38;5;28mself\u001b[39m\u001b[38;5;241m.\u001b[39mcommand_header \u001b[38;5;241m+\u001b[39m\\\n\u001b[1;32m   1318\u001b[0m     args_command \u001b[38;5;241m+\u001b[39m\\\n\u001b[1;32m   1319\u001b[0m     proto\u001b[38;5;241m.\u001b[39mEND_COMMAND_PART\n\u001b[1;32m   1321\u001b[0m answer \u001b[38;5;241m=\u001b[39m \u001b[38;5;28mself\u001b[39m\u001b[38;5;241m.\u001b[39mgateway_client\u001b[38;5;241m.\u001b[39msend_command(command)\n\u001b[0;32m-> 1322\u001b[0m return_value \u001b[38;5;241m=\u001b[39m \u001b[43mget_return_value\u001b[49m\u001b[43m(\u001b[49m\n\u001b[1;32m   1323\u001b[0m \u001b[43m    \u001b[49m\u001b[43manswer\u001b[49m\u001b[43m,\u001b[49m\u001b[43m \u001b[49m\u001b[38;5;28;43mself\u001b[39;49m\u001b[38;5;241;43m.\u001b[39;49m\u001b[43mgateway_client\u001b[49m\u001b[43m,\u001b[49m\u001b[43m \u001b[49m\u001b[38;5;28;43mself\u001b[39;49m\u001b[38;5;241;43m.\u001b[39;49m\u001b[43mtarget_id\u001b[49m\u001b[43m,\u001b[49m\u001b[43m \u001b[49m\u001b[38;5;28;43mself\u001b[39;49m\u001b[38;5;241;43m.\u001b[39;49m\u001b[43mname\u001b[49m\u001b[43m)\u001b[49m\n\u001b[1;32m   1325\u001b[0m \u001b[38;5;28;01mfor\u001b[39;00m temp_arg \u001b[38;5;129;01min\u001b[39;00m temp_args:\n\u001b[1;32m   1326\u001b[0m     \u001b[38;5;28;01mif\u001b[39;00m \u001b[38;5;28mhasattr\u001b[39m(temp_arg, \u001b[38;5;124m\"\u001b[39m\u001b[38;5;124m_detach\u001b[39m\u001b[38;5;124m\"\u001b[39m):\n",
      "File \u001b[0;32m~/miniforge3/envs/delta-geo/lib/python3.13/site-packages/pyspark/errors/exceptions/captured.py:185\u001b[0m, in \u001b[0;36mcapture_sql_exception.<locals>.deco\u001b[0;34m(*a, **kw)\u001b[0m\n\u001b[1;32m    181\u001b[0m converted \u001b[38;5;241m=\u001b[39m convert_exception(e\u001b[38;5;241m.\u001b[39mjava_exception)\n\u001b[1;32m    182\u001b[0m \u001b[38;5;28;01mif\u001b[39;00m \u001b[38;5;129;01mnot\u001b[39;00m \u001b[38;5;28misinstance\u001b[39m(converted, UnknownException):\n\u001b[1;32m    183\u001b[0m     \u001b[38;5;66;03m# Hide where the exception came from that shows a non-Pythonic\u001b[39;00m\n\u001b[1;32m    184\u001b[0m     \u001b[38;5;66;03m# JVM exception message.\u001b[39;00m\n\u001b[0;32m--> 185\u001b[0m     \u001b[38;5;28;01mraise\u001b[39;00m converted \u001b[38;5;28;01mfrom\u001b[39;00m \u001b[38;5;28;01mNone\u001b[39;00m\n\u001b[1;32m    186\u001b[0m \u001b[38;5;28;01melse\u001b[39;00m:\n\u001b[1;32m    187\u001b[0m     \u001b[38;5;28;01mraise\u001b[39;00m\n",
      "\u001b[0;31mParseException\u001b[0m: \n[PARSE_SYNTAX_ERROR] Syntax error at or near 'IN': missing 'FUNCTIONS'.(line 1, pos 13)\n\n== SQL ==\nSHOW VOLUMES IN default\n-------------^^^\n"
     ]
    }
   ],
   "source": [
    "spark.sql(\"SHOW VOLUMES IN default\").show()"
   ]
  },
  {
   "cell_type": "code",
   "execution_count": null,
   "id": "515df06e-26ba-4a03-a649-5b63596150d3",
   "metadata": {},
   "outputs": [],
   "source": []
  },
  {
   "cell_type": "markdown",
   "id": "1df0f697-1840-470c-b498-e47bcd7ec491",
   "metadata": {
    "jp-MarkdownHeadingCollapsed": true
   },
   "source": [
    "## GeoPandas: Access Data and Plot"
   ]
  },
  {
   "cell_type": "code",
   "execution_count": 7,
   "id": "7964ac5e-812c-43ef-ae82-a85849b930f5",
   "metadata": {},
   "outputs": [],
   "source": [
    "import geopandas\n",
    "import matplotlib.pyplot as plt"
   ]
  },
  {
   "cell_type": "code",
   "execution_count": 8,
   "id": "eaf347f6-c2e0-445e-a6bf-6fee122d9861",
   "metadata": {},
   "outputs": [],
   "source": [
    "df_pd = geopandas.read_parquet(\"/Users/rpelgrim/Desktop/unity-data/boston.geoparquet\")"
   ]
  },
  {
   "cell_type": "code",
   "execution_count": 9,
   "id": "d5978de9-db65-461f-8a5e-d7a2d518e43e",
   "metadata": {},
   "outputs": [
    {
     "data": {
      "text/html": [
       "<div>\n",
       "<style scoped>\n",
       "    .dataframe tbody tr th:only-of-type {\n",
       "        vertical-align: middle;\n",
       "    }\n",
       "\n",
       "    .dataframe tbody tr th {\n",
       "        vertical-align: top;\n",
       "    }\n",
       "\n",
       "    .dataframe thead th {\n",
       "        text-align: right;\n",
       "    }\n",
       "</style>\n",
       "<table border=\"1\" class=\"dataframe\">\n",
       "  <thead>\n",
       "    <tr style=\"text-align: right;\">\n",
       "      <th></th>\n",
       "      <th>id</th>\n",
       "      <th>geometry</th>\n",
       "      <th>version</th>\n",
       "      <th>sources</th>\n",
       "      <th>subtype</th>\n",
       "      <th>class</th>\n",
       "      <th>names</th>\n",
       "      <th>level</th>\n",
       "      <th>has_parts</th>\n",
       "      <th>height</th>\n",
       "      <th>...</th>\n",
       "      <th>min_height</th>\n",
       "      <th>min_floor</th>\n",
       "      <th>facade_color</th>\n",
       "      <th>facade_material</th>\n",
       "      <th>roof_material</th>\n",
       "      <th>roof_shape</th>\n",
       "      <th>roof_direction</th>\n",
       "      <th>roof_orientation</th>\n",
       "      <th>roof_color</th>\n",
       "      <th>roof_height</th>\n",
       "    </tr>\n",
       "  </thead>\n",
       "  <tbody>\n",
       "    <tr>\n",
       "      <th>0</th>\n",
       "      <td>08b2a30663865fff0200d10759af600b</td>\n",
       "      <td>POLYGON ((-71.06744 42.35357, -71.06743 42.353...</td>\n",
       "      <td>0</td>\n",
       "      <td>[{'property': '', 'dataset': 'OpenStreetMap', ...</td>\n",
       "      <td>outbuilding</td>\n",
       "      <td>shed</td>\n",
       "      <td>None</td>\n",
       "      <td>NaN</td>\n",
       "      <td>False</td>\n",
       "      <td>2.0</td>\n",
       "      <td>...</td>\n",
       "      <td>NaN</td>\n",
       "      <td>NaN</td>\n",
       "      <td>None</td>\n",
       "      <td>wood</td>\n",
       "      <td>None</td>\n",
       "      <td>None</td>\n",
       "      <td>NaN</td>\n",
       "      <td>None</td>\n",
       "      <td>#000000</td>\n",
       "      <td>NaN</td>\n",
       "    </tr>\n",
       "    <tr>\n",
       "      <th>1</th>\n",
       "      <td>08b2a3066386cfff0200a7789900f307</td>\n",
       "      <td>POLYGON ((-71.06709 42.3531, -71.06706 42.3530...</td>\n",
       "      <td>0</td>\n",
       "      <td>[{'property': '', 'dataset': 'OpenStreetMap', ...</td>\n",
       "      <td>service</td>\n",
       "      <td>service</td>\n",
       "      <td>None</td>\n",
       "      <td>NaN</td>\n",
       "      <td>False</td>\n",
       "      <td>NaN</td>\n",
       "      <td>...</td>\n",
       "      <td>NaN</td>\n",
       "      <td>NaN</td>\n",
       "      <td>None</td>\n",
       "      <td>brick</td>\n",
       "      <td>None</td>\n",
       "      <td>None</td>\n",
       "      <td>NaN</td>\n",
       "      <td>None</td>\n",
       "      <td>None</td>\n",
       "      <td>NaN</td>\n",
       "    </tr>\n",
       "    <tr>\n",
       "      <th>2</th>\n",
       "      <td>08b2a3066394afff02005cd65f21d426</td>\n",
       "      <td>POLYGON ((-71.06723 42.3546, -71.06722 42.3545...</td>\n",
       "      <td>0</td>\n",
       "      <td>[{'property': '', 'dataset': 'OpenStreetMap', ...</td>\n",
       "      <td>outbuilding</td>\n",
       "      <td>shed</td>\n",
       "      <td>None</td>\n",
       "      <td>NaN</td>\n",
       "      <td>False</td>\n",
       "      <td>2.0</td>\n",
       "      <td>...</td>\n",
       "      <td>NaN</td>\n",
       "      <td>NaN</td>\n",
       "      <td>None</td>\n",
       "      <td>wood</td>\n",
       "      <td>None</td>\n",
       "      <td>None</td>\n",
       "      <td>NaN</td>\n",
       "      <td>None</td>\n",
       "      <td>#000000</td>\n",
       "      <td>NaN</td>\n",
       "    </tr>\n",
       "    <tr>\n",
       "      <th>3</th>\n",
       "      <td>08b2a3066394efff0200f13264df7784</td>\n",
       "      <td>POLYGON ((-71.06693 42.35488, -71.06697 42.354...</td>\n",
       "      <td>0</td>\n",
       "      <td>[{'property': '', 'dataset': 'OpenStreetMap', ...</td>\n",
       "      <td>transportation</td>\n",
       "      <td>parking</td>\n",
       "      <td>{'primary': 'Boston Common Parking Garage', 'c...</td>\n",
       "      <td>NaN</td>\n",
       "      <td>False</td>\n",
       "      <td>5.4</td>\n",
       "      <td>...</td>\n",
       "      <td>NaN</td>\n",
       "      <td>NaN</td>\n",
       "      <td>None</td>\n",
       "      <td>None</td>\n",
       "      <td>None</td>\n",
       "      <td>pyramidal</td>\n",
       "      <td>NaN</td>\n",
       "      <td>None</td>\n",
       "      <td>None</td>\n",
       "      <td>NaN</td>\n",
       "    </tr>\n",
       "    <tr>\n",
       "      <th>4</th>\n",
       "      <td>08b2a30663948fff02009e209407ebe8</td>\n",
       "      <td>POLYGON ((-71.0664 42.35434, -71.06643 42.3543...</td>\n",
       "      <td>0</td>\n",
       "      <td>[{'property': '', 'dataset': 'OpenStreetMap', ...</td>\n",
       "      <td>commercial</td>\n",
       "      <td>None</td>\n",
       "      <td>{'primary': 'Earl of Sandwich', 'common': None...</td>\n",
       "      <td>NaN</td>\n",
       "      <td>False</td>\n",
       "      <td>5.5</td>\n",
       "      <td>...</td>\n",
       "      <td>NaN</td>\n",
       "      <td>NaN</td>\n",
       "      <td>None</td>\n",
       "      <td>None</td>\n",
       "      <td>None</td>\n",
       "      <td>None</td>\n",
       "      <td>NaN</td>\n",
       "      <td>None</td>\n",
       "      <td>None</td>\n",
       "      <td>NaN</td>\n",
       "    </tr>\n",
       "    <tr>\n",
       "      <th>5</th>\n",
       "      <td>08b2a306614b6fff0200d5fa4a4cf210</td>\n",
       "      <td>POLYGON ((-71.06551 42.35431, -71.0655 42.3543...</td>\n",
       "      <td>0</td>\n",
       "      <td>[{'property': '', 'dataset': 'OpenStreetMap', ...</td>\n",
       "      <td>religious</td>\n",
       "      <td>temple</td>\n",
       "      <td>{'primary': 'Parkman Bandstand', 'common': Non...</td>\n",
       "      <td>NaN</td>\n",
       "      <td>False</td>\n",
       "      <td>9.8</td>\n",
       "      <td>...</td>\n",
       "      <td>NaN</td>\n",
       "      <td>NaN</td>\n",
       "      <td>None</td>\n",
       "      <td>stone</td>\n",
       "      <td>None</td>\n",
       "      <td>None</td>\n",
       "      <td>NaN</td>\n",
       "      <td>None</td>\n",
       "      <td>None</td>\n",
       "      <td>NaN</td>\n",
       "    </tr>\n",
       "    <tr>\n",
       "      <th>6</th>\n",
       "      <td>08b2a30663972fff02005db9a15a00c1</td>\n",
       "      <td>POLYGON ((-71.06803 42.35681, -71.06795 42.356...</td>\n",
       "      <td>0</td>\n",
       "      <td>[{'property': '', 'dataset': 'OpenStreetMap', ...</td>\n",
       "      <td>residential</td>\n",
       "      <td>apartments</td>\n",
       "      <td>None</td>\n",
       "      <td>NaN</td>\n",
       "      <td>False</td>\n",
       "      <td>24.3</td>\n",
       "      <td>...</td>\n",
       "      <td>NaN</td>\n",
       "      <td>NaN</td>\n",
       "      <td>None</td>\n",
       "      <td>None</td>\n",
       "      <td>None</td>\n",
       "      <td>None</td>\n",
       "      <td>NaN</td>\n",
       "      <td>None</td>\n",
       "      <td>None</td>\n",
       "      <td>NaN</td>\n",
       "    </tr>\n",
       "    <tr>\n",
       "      <th>7</th>\n",
       "      <td>08b2a30663909fff0200ef685b4124de</td>\n",
       "      <td>POLYGON ((-71.06817 42.357, -71.06813 42.35687...</td>\n",
       "      <td>0</td>\n",
       "      <td>[{'property': '', 'dataset': 'OpenStreetMap', ...</td>\n",
       "      <td>residential</td>\n",
       "      <td>apartments</td>\n",
       "      <td>None</td>\n",
       "      <td>NaN</td>\n",
       "      <td>False</td>\n",
       "      <td>19.3</td>\n",
       "      <td>...</td>\n",
       "      <td>NaN</td>\n",
       "      <td>NaN</td>\n",
       "      <td>None</td>\n",
       "      <td>None</td>\n",
       "      <td>None</td>\n",
       "      <td>None</td>\n",
       "      <td>NaN</td>\n",
       "      <td>None</td>\n",
       "      <td>None</td>\n",
       "      <td>NaN</td>\n",
       "    </tr>\n",
       "    <tr>\n",
       "      <th>8</th>\n",
       "      <td>08b2a30663972fff0200157564f37dd1</td>\n",
       "      <td>POLYGON ((-71.06803 42.35702, -71.06799 42.356...</td>\n",
       "      <td>0</td>\n",
       "      <td>[{'property': '', 'dataset': 'OpenStreetMap', ...</td>\n",
       "      <td>residential</td>\n",
       "      <td>apartments</td>\n",
       "      <td>None</td>\n",
       "      <td>NaN</td>\n",
       "      <td>False</td>\n",
       "      <td>24.5</td>\n",
       "      <td>...</td>\n",
       "      <td>NaN</td>\n",
       "      <td>NaN</td>\n",
       "      <td>None</td>\n",
       "      <td>None</td>\n",
       "      <td>None</td>\n",
       "      <td>None</td>\n",
       "      <td>NaN</td>\n",
       "      <td>None</td>\n",
       "      <td>None</td>\n",
       "      <td>NaN</td>\n",
       "    </tr>\n",
       "    <tr>\n",
       "      <th>9</th>\n",
       "      <td>08b2a30663972fff0200ece732cafed7</td>\n",
       "      <td>POLYGON ((-71.06795 42.35704, -71.0678 42.3566...</td>\n",
       "      <td>0</td>\n",
       "      <td>[{'property': '', 'dataset': 'OpenStreetMap', ...</td>\n",
       "      <td>residential</td>\n",
       "      <td>apartments</td>\n",
       "      <td>None</td>\n",
       "      <td>NaN</td>\n",
       "      <td>False</td>\n",
       "      <td>23.5</td>\n",
       "      <td>...</td>\n",
       "      <td>NaN</td>\n",
       "      <td>NaN</td>\n",
       "      <td>None</td>\n",
       "      <td>None</td>\n",
       "      <td>None</td>\n",
       "      <td>None</td>\n",
       "      <td>NaN</td>\n",
       "      <td>None</td>\n",
       "      <td>None</td>\n",
       "      <td>NaN</td>\n",
       "    </tr>\n",
       "    <tr>\n",
       "      <th>10</th>\n",
       "      <td>08b2a3066390dfff020029577b428e32</td>\n",
       "      <td>POLYGON ((-71.06806 42.35691, -71.06799 42.356...</td>\n",
       "      <td>0</td>\n",
       "      <td>[{'property': '', 'dataset': 'OpenStreetMap', ...</td>\n",
       "      <td>None</td>\n",
       "      <td>None</td>\n",
       "      <td>None</td>\n",
       "      <td>NaN</td>\n",
       "      <td>False</td>\n",
       "      <td>14.6</td>\n",
       "      <td>...</td>\n",
       "      <td>NaN</td>\n",
       "      <td>NaN</td>\n",
       "      <td>None</td>\n",
       "      <td>None</td>\n",
       "      <td>None</td>\n",
       "      <td>None</td>\n",
       "      <td>NaN</td>\n",
       "      <td>None</td>\n",
       "      <td>None</td>\n",
       "      <td>NaN</td>\n",
       "    </tr>\n",
       "    <tr>\n",
       "      <th>11</th>\n",
       "      <td>08b2a3066390dfff020023f10673e2ab</td>\n",
       "      <td>POLYGON ((-71.06803 42.35735, -71.06798 42.357...</td>\n",
       "      <td>0</td>\n",
       "      <td>[{'property': '', 'dataset': 'OpenStreetMap', ...</td>\n",
       "      <td>None</td>\n",
       "      <td>None</td>\n",
       "      <td>None</td>\n",
       "      <td>NaN</td>\n",
       "      <td>False</td>\n",
       "      <td>16.5</td>\n",
       "      <td>...</td>\n",
       "      <td>NaN</td>\n",
       "      <td>NaN</td>\n",
       "      <td>None</td>\n",
       "      <td>None</td>\n",
       "      <td>None</td>\n",
       "      <td>None</td>\n",
       "      <td>NaN</td>\n",
       "      <td>None</td>\n",
       "      <td>None</td>\n",
       "      <td>NaN</td>\n",
       "    </tr>\n",
       "    <tr>\n",
       "      <th>12</th>\n",
       "      <td>08b2a3066390dfff02009015f830528c</td>\n",
       "      <td>POLYGON ((-71.0681 42.35733, -71.06805 42.3572...</td>\n",
       "      <td>0</td>\n",
       "      <td>[{'property': '', 'dataset': 'OpenStreetMap', ...</td>\n",
       "      <td>None</td>\n",
       "      <td>None</td>\n",
       "      <td>None</td>\n",
       "      <td>NaN</td>\n",
       "      <td>False</td>\n",
       "      <td>17.3</td>\n",
       "      <td>...</td>\n",
       "      <td>NaN</td>\n",
       "      <td>NaN</td>\n",
       "      <td>None</td>\n",
       "      <td>None</td>\n",
       "      <td>None</td>\n",
       "      <td>None</td>\n",
       "      <td>NaN</td>\n",
       "      <td>None</td>\n",
       "      <td>None</td>\n",
       "      <td>NaN</td>\n",
       "    </tr>\n",
       "    <tr>\n",
       "      <th>13</th>\n",
       "      <td>08b2a3066392bfff02003a74a638ae22</td>\n",
       "      <td>POLYGON ((-71.06785 42.35768, -71.06793 42.357...</td>\n",
       "      <td>0</td>\n",
       "      <td>[{'property': '', 'dataset': 'OpenStreetMap', ...</td>\n",
       "      <td>None</td>\n",
       "      <td>None</td>\n",
       "      <td>None</td>\n",
       "      <td>NaN</td>\n",
       "      <td>False</td>\n",
       "      <td>15.7</td>\n",
       "      <td>...</td>\n",
       "      <td>NaN</td>\n",
       "      <td>NaN</td>\n",
       "      <td>None</td>\n",
       "      <td>None</td>\n",
       "      <td>None</td>\n",
       "      <td>None</td>\n",
       "      <td>NaN</td>\n",
       "      <td>None</td>\n",
       "      <td>None</td>\n",
       "      <td>NaN</td>\n",
       "    </tr>\n",
       "    <tr>\n",
       "      <th>14</th>\n",
       "      <td>08b2a3066390cfff02006ec185b1ccb3</td>\n",
       "      <td>POLYGON ((-71.06797 42.35752, -71.06803 42.357...</td>\n",
       "      <td>0</td>\n",
       "      <td>[{'property': '', 'dataset': 'OpenStreetMap', ...</td>\n",
       "      <td>None</td>\n",
       "      <td>None</td>\n",
       "      <td>None</td>\n",
       "      <td>NaN</td>\n",
       "      <td>False</td>\n",
       "      <td>20.0</td>\n",
       "      <td>...</td>\n",
       "      <td>NaN</td>\n",
       "      <td>NaN</td>\n",
       "      <td>None</td>\n",
       "      <td>None</td>\n",
       "      <td>None</td>\n",
       "      <td>None</td>\n",
       "      <td>NaN</td>\n",
       "      <td>None</td>\n",
       "      <td>None</td>\n",
       "      <td>NaN</td>\n",
       "    </tr>\n",
       "  </tbody>\n",
       "</table>\n",
       "<p>15 rows × 23 columns</p>\n",
       "</div>"
      ],
      "text/plain": [
       "                                  id  \\\n",
       "0   08b2a30663865fff0200d10759af600b   \n",
       "1   08b2a3066386cfff0200a7789900f307   \n",
       "2   08b2a3066394afff02005cd65f21d426   \n",
       "3   08b2a3066394efff0200f13264df7784   \n",
       "4   08b2a30663948fff02009e209407ebe8   \n",
       "5   08b2a306614b6fff0200d5fa4a4cf210   \n",
       "6   08b2a30663972fff02005db9a15a00c1   \n",
       "7   08b2a30663909fff0200ef685b4124de   \n",
       "8   08b2a30663972fff0200157564f37dd1   \n",
       "9   08b2a30663972fff0200ece732cafed7   \n",
       "10  08b2a3066390dfff020029577b428e32   \n",
       "11  08b2a3066390dfff020023f10673e2ab   \n",
       "12  08b2a3066390dfff02009015f830528c   \n",
       "13  08b2a3066392bfff02003a74a638ae22   \n",
       "14  08b2a3066390cfff02006ec185b1ccb3   \n",
       "\n",
       "                                             geometry  version  \\\n",
       "0   POLYGON ((-71.06744 42.35357, -71.06743 42.353...        0   \n",
       "1   POLYGON ((-71.06709 42.3531, -71.06706 42.3530...        0   \n",
       "2   POLYGON ((-71.06723 42.3546, -71.06722 42.3545...        0   \n",
       "3   POLYGON ((-71.06693 42.35488, -71.06697 42.354...        0   \n",
       "4   POLYGON ((-71.0664 42.35434, -71.06643 42.3543...        0   \n",
       "5   POLYGON ((-71.06551 42.35431, -71.0655 42.3543...        0   \n",
       "6   POLYGON ((-71.06803 42.35681, -71.06795 42.356...        0   \n",
       "7   POLYGON ((-71.06817 42.357, -71.06813 42.35687...        0   \n",
       "8   POLYGON ((-71.06803 42.35702, -71.06799 42.356...        0   \n",
       "9   POLYGON ((-71.06795 42.35704, -71.0678 42.3566...        0   \n",
       "10  POLYGON ((-71.06806 42.35691, -71.06799 42.356...        0   \n",
       "11  POLYGON ((-71.06803 42.35735, -71.06798 42.357...        0   \n",
       "12  POLYGON ((-71.0681 42.35733, -71.06805 42.3572...        0   \n",
       "13  POLYGON ((-71.06785 42.35768, -71.06793 42.357...        0   \n",
       "14  POLYGON ((-71.06797 42.35752, -71.06803 42.357...        0   \n",
       "\n",
       "                                              sources         subtype  \\\n",
       "0   [{'property': '', 'dataset': 'OpenStreetMap', ...     outbuilding   \n",
       "1   [{'property': '', 'dataset': 'OpenStreetMap', ...         service   \n",
       "2   [{'property': '', 'dataset': 'OpenStreetMap', ...     outbuilding   \n",
       "3   [{'property': '', 'dataset': 'OpenStreetMap', ...  transportation   \n",
       "4   [{'property': '', 'dataset': 'OpenStreetMap', ...      commercial   \n",
       "5   [{'property': '', 'dataset': 'OpenStreetMap', ...       religious   \n",
       "6   [{'property': '', 'dataset': 'OpenStreetMap', ...     residential   \n",
       "7   [{'property': '', 'dataset': 'OpenStreetMap', ...     residential   \n",
       "8   [{'property': '', 'dataset': 'OpenStreetMap', ...     residential   \n",
       "9   [{'property': '', 'dataset': 'OpenStreetMap', ...     residential   \n",
       "10  [{'property': '', 'dataset': 'OpenStreetMap', ...            None   \n",
       "11  [{'property': '', 'dataset': 'OpenStreetMap', ...            None   \n",
       "12  [{'property': '', 'dataset': 'OpenStreetMap', ...            None   \n",
       "13  [{'property': '', 'dataset': 'OpenStreetMap', ...            None   \n",
       "14  [{'property': '', 'dataset': 'OpenStreetMap', ...            None   \n",
       "\n",
       "         class                                              names  level  \\\n",
       "0         shed                                               None    NaN   \n",
       "1      service                                               None    NaN   \n",
       "2         shed                                               None    NaN   \n",
       "3      parking  {'primary': 'Boston Common Parking Garage', 'c...    NaN   \n",
       "4         None  {'primary': 'Earl of Sandwich', 'common': None...    NaN   \n",
       "5       temple  {'primary': 'Parkman Bandstand', 'common': Non...    NaN   \n",
       "6   apartments                                               None    NaN   \n",
       "7   apartments                                               None    NaN   \n",
       "8   apartments                                               None    NaN   \n",
       "9   apartments                                               None    NaN   \n",
       "10        None                                               None    NaN   \n",
       "11        None                                               None    NaN   \n",
       "12        None                                               None    NaN   \n",
       "13        None                                               None    NaN   \n",
       "14        None                                               None    NaN   \n",
       "\n",
       "    has_parts  height  ...  min_height  min_floor  facade_color  \\\n",
       "0       False     2.0  ...         NaN        NaN          None   \n",
       "1       False     NaN  ...         NaN        NaN          None   \n",
       "2       False     2.0  ...         NaN        NaN          None   \n",
       "3       False     5.4  ...         NaN        NaN          None   \n",
       "4       False     5.5  ...         NaN        NaN          None   \n",
       "5       False     9.8  ...         NaN        NaN          None   \n",
       "6       False    24.3  ...         NaN        NaN          None   \n",
       "7       False    19.3  ...         NaN        NaN          None   \n",
       "8       False    24.5  ...         NaN        NaN          None   \n",
       "9       False    23.5  ...         NaN        NaN          None   \n",
       "10      False    14.6  ...         NaN        NaN          None   \n",
       "11      False    16.5  ...         NaN        NaN          None   \n",
       "12      False    17.3  ...         NaN        NaN          None   \n",
       "13      False    15.7  ...         NaN        NaN          None   \n",
       "14      False    20.0  ...         NaN        NaN          None   \n",
       "\n",
       "    facade_material  roof_material roof_shape roof_direction roof_orientation  \\\n",
       "0              wood           None       None            NaN             None   \n",
       "1             brick           None       None            NaN             None   \n",
       "2              wood           None       None            NaN             None   \n",
       "3              None           None  pyramidal            NaN             None   \n",
       "4              None           None       None            NaN             None   \n",
       "5             stone           None       None            NaN             None   \n",
       "6              None           None       None            NaN             None   \n",
       "7              None           None       None            NaN             None   \n",
       "8              None           None       None            NaN             None   \n",
       "9              None           None       None            NaN             None   \n",
       "10             None           None       None            NaN             None   \n",
       "11             None           None       None            NaN             None   \n",
       "12             None           None       None            NaN             None   \n",
       "13             None           None       None            NaN             None   \n",
       "14             None           None       None            NaN             None   \n",
       "\n",
       "   roof_color  roof_height  \n",
       "0     #000000          NaN  \n",
       "1        None          NaN  \n",
       "2     #000000          NaN  \n",
       "3        None          NaN  \n",
       "4        None          NaN  \n",
       "5        None          NaN  \n",
       "6        None          NaN  \n",
       "7        None          NaN  \n",
       "8        None          NaN  \n",
       "9        None          NaN  \n",
       "10       None          NaN  \n",
       "11       None          NaN  \n",
       "12       None          NaN  \n",
       "13       None          NaN  \n",
       "14       None          NaN  \n",
       "\n",
       "[15 rows x 23 columns]"
      ]
     },
     "execution_count": 9,
     "metadata": {},
     "output_type": "execute_result"
    }
   ],
   "source": [
    "df_pd.head(15)"
   ]
  },
  {
   "cell_type": "code",
   "execution_count": 12,
   "id": "51b0aead-6808-4d7a-a88b-a420d585526f",
   "metadata": {},
   "outputs": [
    {
     "data": {
      "image/png": "[encoded data removed]",
      "text/plain": [
       "<Figure size 640x480 with 1 Axes>"
      ]
     },
     "metadata": {},
     "output_type": "display_data"
    }
   ],
   "source": [
    "df_pd.plot()\n",
    "plt.savefig(\"boston.jpg\")"
   ]
  },
  {
   "cell_type": "code",
   "execution_count": null,
   "id": "457d919e-5841-45dc-a0bc-556a5592580d",
   "metadata": {},
   "outputs": [],
   "source": []
  },
  {
   "cell_type": "markdown",
   "id": "f1b87081-6a4b-4baa-ab0f-85dea25d7e72",
   "metadata": {
    "jp-MarkdownHeadingCollapsed": true
   },
   "source": [
    "## Spark: Access Data without Unity Catalog"
   ]
  },
  {
   "cell_type": "code",
   "execution_count": 26,
   "id": "73325dcf-5273-4735-9c0b-d5ba651da8c0",
   "metadata": {},
   "outputs": [],
   "source": [
    "# load buildings in Boston\n",
    "df = spark.read.parquet(\"/Users/rpelgrim/Desktop/unity-data/boston.geoparquet\")"
   ]
  },
  {
   "cell_type": "code",
   "execution_count": 27,
   "id": "1b494ba6-22c8-4963-88e3-386a0ce49b3f",
   "metadata": {},
   "outputs": [
    {
     "data": {
      "text/plain": [
       "['id',\n",
       " 'geometry',\n",
       " 'bbox',\n",
       " 'version',\n",
       " 'sources',\n",
       " 'subtype',\n",
       " 'class',\n",
       " 'names',\n",
       " 'level',\n",
       " 'has_parts',\n",
       " 'height',\n",
       " 'is_underground',\n",
       " 'num_floors',\n",
       " 'num_floors_underground',\n",
       " 'min_height',\n",
       " 'min_floor',\n",
       " 'facade_color',\n",
       " 'facade_material',\n",
       " 'roof_material',\n",
       " 'roof_shape',\n",
       " 'roof_direction',\n",
       " 'roof_orientation',\n",
       " 'roof_color',\n",
       " 'roof_height']"
      ]
     },
     "execution_count": 27,
     "metadata": {},
     "output_type": "execute_result"
    }
   ],
   "source": [
    "df.columns"
   ]
  },
  {
   "cell_type": "code",
   "execution_count": 29,
   "id": "6252aa34-cadc-4953-8de8-dd5cd7a795d5",
   "metadata": {},
   "outputs": [
    {
     "name": "stdout",
     "output_type": "stream",
     "text": [
      "+--------------------+-----+-----------+------+----------+--------------------+\n",
      "|                  id|names|    subtype|height|num_floors|            geometry|\n",
      "+--------------------+-----+-----------+------+----------+--------------------+\n",
      "|08b2a30663865fff0...| NULL|outbuilding|   2.0|      NULL|[00 00 00 00 03 0...|\n",
      "|08b2a3066386cfff0...| NULL|    service|  NULL|      NULL|[00 00 00 00 03 0...|\n",
      "|08b2a3066394afff0...| NULL|outbuilding|   2.0|      NULL|[00 00 00 00 03 0...|\n",
      "+--------------------+-----+-----------+------+----------+--------------------+\n",
      "only showing top 3 rows\n",
      "\n"
     ]
    }
   ],
   "source": [
    "df.select(df.id, df.names, df.subtype, df.height, df.num_floors, df.geometry).show(3)"
   ]
  },
  {
   "cell_type": "code",
   "execution_count": 30,
   "id": "741f1159-413b-4a39-a038-a52946e54b15",
   "metadata": {},
   "outputs": [
    {
     "data": {
      "text/plain": [
       "920"
      ]
     },
     "execution_count": 30,
     "metadata": {},
     "output_type": "execute_result"
    }
   ],
   "source": [
    "df.count()"
   ]
  },
  {
   "cell_type": "markdown",
   "id": "0066a885-b462-4a6c-8e0f-553621011b03",
   "metadata": {
    "jp-MarkdownHeadingCollapsed": true
   },
   "source": [
    "## Transform data"
   ]
  },
  {
   "cell_type": "code",
   "execution_count": 10,
   "id": "d5fe9647-ea0f-49c2-a6c1-25b208562285",
   "metadata": {},
   "outputs": [],
   "source": [
    "# filter residential buildings only\n",
    "df_res = df.where(df.subtype == \"residential\")"
   ]
  },
  {
   "cell_type": "code",
   "execution_count": 11,
   "id": "4ad7681b-cbe6-45c3-9e2c-be24669b9bf7",
   "metadata": {},
   "outputs": [
    {
     "data": {
      "text/plain": [
       "223"
      ]
     },
     "execution_count": 11,
     "metadata": {},
     "output_type": "execute_result"
    }
   ],
   "source": [
    "df_res.count()"
   ]
  },
  {
   "cell_type": "markdown",
   "id": "1c4655ea-d3a5-4a8e-826d-6b0efcfdf27f",
   "metadata": {
    "jp-MarkdownHeadingCollapsed": true
   },
   "source": [
    "## Write to Delta Lake"
   ]
  },
  {
   "cell_type": "code",
   "execution_count": 42,
   "id": "05d9130e-ce78-4ade-a499-b6a4721dc803",
   "metadata": {},
   "outputs": [],
   "source": [
    "df_res.write.format(\"delta\").save(\"data/boston-residential\")"
   ]
  },
  {
   "cell_type": "code",
   "execution_count": null,
   "id": "81dc0aca-c4da-4ce9-beee-09c7f4667f53",
   "metadata": {},
   "outputs": [],
   "source": []
  },
  {
   "cell_type": "markdown",
   "id": "95c42fb9-070f-4162-ba86-0299054a5170",
   "metadata": {
    "jp-MarkdownHeadingCollapsed": true
   },
   "source": [
    "## Read Delta Lake"
   ]
  },
  {
   "cell_type": "code",
   "execution_count": 43,
   "id": "5977dc82-6a97-4328-a86a-7d56b63f0966",
   "metadata": {},
   "outputs": [],
   "source": [
    "df = spark.read.format(\"delta\").load(\"data/boston-residential\")"
   ]
  },
  {
   "cell_type": "code",
   "execution_count": 44,
   "id": "b67a38ab-b80f-4acf-b7ee-46070eb74ac8",
   "metadata": {},
   "outputs": [
    {
     "name": "stdout",
     "output_type": "stream",
     "text": [
      "+--------------------+--------------------+--------------------+-------+--------------------+-----------+----------+-----+-----+---------+------+--------------+----------+----------------------+----------+---------+------------+---------------+-------------+----------+--------------+----------------+----------+-----------+\n",
      "|                  id|            geometry|                bbox|version|             sources|    subtype|     class|names|level|has_parts|height|is_underground|num_floors|num_floors_underground|min_height|min_floor|facade_color|facade_material|roof_material|roof_shape|roof_direction|roof_orientation|roof_color|roof_height|\n",
      "+--------------------+--------------------+--------------------+-------+--------------------+-----------+----------+-----+-----+---------+------+--------------+----------+----------------------+----------+---------+------------+---------------+-------------+----------+--------------+----------------+----------+-----------+\n",
      "|08b2a30663972fff0...|[00 00 00 00 03 0...|{-71.06803, -71.0...|      0|[{, OpenStreetMap...|residential|apartments| NULL| NULL|    false|  24.3|         false|      NULL|                  NULL|      NULL|     NULL|        NULL|           NULL|         NULL|      NULL|          NULL|            NULL|      NULL|       NULL|\n",
      "|08b2a30663909fff0...|[00 00 00 00 03 0...|{-71.06818, -71.0...|      0|[{, OpenStreetMap...|residential|apartments| NULL| NULL|    false|  19.3|         false|      NULL|                  NULL|      NULL|     NULL|        NULL|           NULL|         NULL|      NULL|          NULL|            NULL|      NULL|       NULL|\n",
      "+--------------------+--------------------+--------------------+-------+--------------------+-----------+----------+-----+-----+---------+------+--------------+----------+----------------------+----------+---------+------------+---------------+-------------+----------+--------------+----------------+----------+-----------+\n",
      "only showing top 2 rows\n",
      "\n"
     ]
    }
   ],
   "source": [
    "df.show(2)"
   ]
  },
  {
   "cell_type": "code",
   "execution_count": 45,
   "id": "c2291cbd-a764-4b14-bef7-f11aaab517d0",
   "metadata": {},
   "outputs": [
    {
     "data": {
      "text/plain": [
       "223"
      ]
     },
     "execution_count": 45,
     "metadata": {},
     "output_type": "execute_result"
    }
   ],
   "source": [
    "df.count()"
   ]
  },
  {
   "cell_type": "code",
   "execution_count": null,
   "id": "d20f2109-3c02-4dfd-924a-fe025b444f97",
   "metadata": {},
   "outputs": [],
   "source": []
  },
  {
   "cell_type": "markdown",
   "id": "12b157e4-7942-4cf7-a839-67fc5904ad4e",
   "metadata": {},
   "source": [
    "# Places Dataset"
   ]
  },
  {
   "cell_type": "code",
   "execution_count": 2,
   "id": "1316648c-a8da-4161-93af-118c0b5f3894",
   "metadata": {},
   "outputs": [],
   "source": [
    "# load complete Places dataset\n",
    "df = spark.read.parquet(\"/Users/rpelgrim/Desktop/unity-data/places.geoparquet\")"
   ]
  },
  {
   "cell_type": "code",
   "execution_count": 3,
   "id": "96774ef9-03b8-466f-b287-2cc02d0b3b40",
   "metadata": {},
   "outputs": [
    {
     "data": {
      "text/plain": [
       "['id',\n",
       " 'geometry',\n",
       " 'bbox',\n",
       " 'version',\n",
       " 'sources',\n",
       " 'names',\n",
       " 'categories',\n",
       " 'confidence',\n",
       " 'websites',\n",
       " 'socials',\n",
       " 'emails',\n",
       " 'phones',\n",
       " 'brand',\n",
       " 'addresses']"
      ]
     },
     "execution_count": 3,
     "metadata": {},
     "output_type": "execute_result"
    }
   ],
   "source": [
    "df.columns"
   ]
  },
  {
   "cell_type": "code",
   "execution_count": 4,
   "id": "3d7b9e67-8667-4c0e-8027-b816e1a64e9d",
   "metadata": {},
   "outputs": [
    {
     "name": "stdout",
     "output_type": "stream",
     "text": [
      "+--------------------+--------------------+--------------------+-----+--------------------+--------------------+\n",
      "|                  id|               names|          categories|brand|           addresses|            geometry|\n",
      "+--------------------+--------------------+--------------------+-----+--------------------+--------------------+\n",
      "|08ff39b22bae03010...|{Mount Boyd, NULL...|    {mountain, NULL}| NULL|[{NULL, NULL, NUL...|[00 00 00 00 01 C...|\n",
      "|08ff39ba2b6909990...|{Erickson Glacier...|{landmark_and_his...| NULL|                NULL|[00 00 00 00 01 C...|\n",
      "|08ff39b209b20c1b0...|{Mount Cromie, NU...|    {mountain, NULL}| NULL|[{NULL, NULL, NUL...|[00 00 00 00 01 C...|\n",
      "|08ff39b273830b240...|{Monte Bennett, N...|    {mountain, NULL}| NULL|[{NULL, NULL, NUL...|[00 00 00 00 01 C...|\n",
      "|08ff39ba555544a30...|{O'Leary Peak (An...|    {mountain, NULL}| NULL|[{NULL, NULL, NUL...|[00 00 00 00 01 C...|\n",
      "+--------------------+--------------------+--------------------+-----+--------------------+--------------------+\n",
      "only showing top 5 rows\n",
      "\n"
     ]
    }
   ],
   "source": [
    "df.select(df.id, df.names, df.categories, df.brand, df.addresses, df.geometry).show(5)"
   ]
  },
  {
   "cell_type": "code",
   "execution_count": 5,
   "id": "691cbff9-6d37-4879-98fd-aa190fc2d829",
   "metadata": {},
   "outputs": [
    {
     "data": {
      "text/plain": [
       "53311644"
      ]
     },
     "execution_count": 5,
     "metadata": {},
     "output_type": "execute_result"
    }
   ],
   "source": [
    "df.count()"
   ]
  },
  {
   "cell_type": "markdown",
   "id": "7299765a-6025-4866-87b9-48d528dba31f",
   "metadata": {},
   "source": [
    "There are more than 53M rows in this Places dataset. Size on disk is ~8GB."
   ]
  },
  {
   "cell_type": "code",
   "execution_count": 9,
   "id": "2eaa73fd-118c-4bfc-88be-b38b8e043921",
   "metadata": {},
   "outputs": [
    {
     "name": "stdout",
     "output_type": "stream",
     "text": [
      "CPU times: user 14.3 s, sys: 556 ms, total: 14.9 s\n",
      "Wall time: 25 s\n"
     ]
    }
   ],
   "source": [
    "%%time\n",
    "df2 = df.groupBy(\"categories\").count().collect()"
   ]
  },
  {
   "cell_type": "code",
   "execution_count": null,
   "id": "4c17de7b-3872-4bff-ae9f-1dd2ef85aa04",
   "metadata": {},
   "outputs": [],
   "source": []
  },
  {
   "cell_type": "code",
   "execution_count": 10,
   "id": "5c726e19-8e92-49ba-9b63-c07263b78f0d",
   "metadata": {},
   "outputs": [],
   "source": [
    "df3 = df.limit(10_000)"
   ]
  },
  {
   "cell_type": "code",
   "execution_count": 11,
   "id": "e8d1efe7-0533-4f87-815d-2f177867dc76",
   "metadata": {},
   "outputs": [],
   "source": [
    "df3.write.format(\"delta\").save(\"/Users/rpelgrim/Desktop/unity-data/places_10K\")"
   ]
  },
  {
   "cell_type": "code",
   "execution_count": 12,
   "id": "a2e6b9de-8810-46b7-ad63-84734adfb6b6",
   "metadata": {},
   "outputs": [
    {
     "name": "stderr",
     "output_type": "stream",
     "text": [
      "ERROR:root:Exception while sending command.\n",
      "Traceback (most recent call last):\n",
      "  File \"/Users/rpelgrim/miniforge3/envs/delta-geo/lib/python3.13/site-packages/pyspark/errors/exceptions/captured.py\", line 179, in deco\n",
      "    return f(*a, **kw)\n",
      "  File \"/Users/rpelgrim/miniforge3/envs/delta-geo/lib/python3.13/site-packages/py4j/protocol.py\", line 326, in get_return_value\n",
      "    raise Py4JJavaError(\n",
      "        \"An error occurred while calling {0}{1}{2}.\\n\".\n",
      "        format(target_id, \".\", name), value)\n",
      "py4j.protocol.Py4JJavaError: <exception str() failed>\n",
      "\n",
      "During handling of the above exception, another exception occurred:\n",
      "\n",
      "Traceback (most recent call last):\n",
      "  File \"/Users/rpelgrim/miniforge3/envs/delta-geo/lib/python3.13/site-packages/py4j/clientserver.py\", line 516, in send_command\n",
      "    raise Py4JNetworkError(\"Answer from Java side is empty\")\n",
      "py4j.protocol.Py4JNetworkError: Answer from Java side is empty\n",
      "\n",
      "During handling of the above exception, another exception occurred:\n",
      "\n",
      "Traceback (most recent call last):\n",
      "  File \"/Users/rpelgrim/miniforge3/envs/delta-geo/lib/python3.13/site-packages/py4j/java_gateway.py\", line 1038, in send_command\n",
      "    response = connection.send_command(command)\n",
      "  File \"/Users/rpelgrim/miniforge3/envs/delta-geo/lib/python3.13/site-packages/py4j/clientserver.py\", line 539, in send_command\n",
      "    raise Py4JNetworkError(\n",
      "        \"Error while sending or receiving\", e, proto.ERROR_ON_RECEIVE)\n",
      "py4j.protocol.Py4JNetworkError: Error while sending or receiving\n",
      "ERROR:root:Exception while sending command.\n",
      "Traceback (most recent call last):\n",
      "  File \"/Users/rpelgrim/miniforge3/envs/delta-geo/lib/python3.13/site-packages/py4j/clientserver.py\", line 516, in send_command\n",
      "    raise Py4JNetworkError(\"Answer from Java side is empty\")\n",
      "py4j.protocol.Py4JNetworkError: Answer from Java side is empty\n",
      "\n",
      "During handling of the above exception, another exception occurred:\n",
      "\n",
      "Traceback (most recent call last):\n",
      "  File \"/Users/rpelgrim/miniforge3/envs/delta-geo/lib/python3.13/site-packages/py4j/java_gateway.py\", line 1038, in send_command\n",
      "    response = connection.send_command(command)\n",
      "  File \"/Users/rpelgrim/miniforge3/envs/delta-geo/lib/python3.13/site-packages/py4j/clientserver.py\", line 539, in send_command\n",
      "    raise Py4JNetworkError(\n",
      "        \"Error while sending or receiving\", e, proto.ERROR_ON_RECEIVE)\n",
      "py4j.protocol.Py4JNetworkError: Error while sending or receiving\n"
     ]
    },
    {
     "ename": "Py4JError",
     "evalue": "org does not exist in the JVM",
     "output_type": "error",
     "traceback": [
      "\u001b[0;31m---------------------------------------------------------------------------\u001b[0m",
      "\u001b[0;31mPy4JJavaError\u001b[0m                             Traceback (most recent call last)",
      "File \u001b[0;32m~/miniforge3/envs/delta-geo/lib/python3.13/site-packages/pyspark/errors/exceptions/captured.py:179\u001b[0m, in \u001b[0;36mcapture_sql_exception.<locals>.deco\u001b[0;34m(*a, **kw)\u001b[0m\n\u001b[1;32m    178\u001b[0m \u001b[38;5;28;01mtry\u001b[39;00m:\n\u001b[0;32m--> 179\u001b[0m     \u001b[38;5;28;01mreturn\u001b[39;00m \u001b[43mf\u001b[49m\u001b[43m(\u001b[49m\u001b[38;5;241;43m*\u001b[39;49m\u001b[43ma\u001b[49m\u001b[43m,\u001b[49m\u001b[43m \u001b[49m\u001b[38;5;241;43m*\u001b[39;49m\u001b[38;5;241;43m*\u001b[39;49m\u001b[43mkw\u001b[49m\u001b[43m)\u001b[49m\n\u001b[1;32m    180\u001b[0m \u001b[38;5;28;01mexcept\u001b[39;00m Py4JJavaError \u001b[38;5;28;01mas\u001b[39;00m e:\n",
      "File \u001b[0;32m~/miniforge3/envs/delta-geo/lib/python3.13/site-packages/py4j/protocol.py:326\u001b[0m, in \u001b[0;36mget_return_value\u001b[0;34m(answer, gateway_client, target_id, name)\u001b[0m\n\u001b[1;32m    325\u001b[0m \u001b[38;5;28;01mif\u001b[39;00m answer[\u001b[38;5;241m1\u001b[39m] \u001b[38;5;241m==\u001b[39m REFERENCE_TYPE:\n\u001b[0;32m--> 326\u001b[0m     \u001b[38;5;28;01mraise\u001b[39;00m Py4JJavaError(\n\u001b[1;32m    327\u001b[0m         \u001b[38;5;124m\"\u001b[39m\u001b[38;5;124mAn error occurred while calling \u001b[39m\u001b[38;5;132;01m{0}\u001b[39;00m\u001b[38;5;132;01m{1}\u001b[39;00m\u001b[38;5;132;01m{2}\u001b[39;00m\u001b[38;5;124m.\u001b[39m\u001b[38;5;130;01m\\n\u001b[39;00m\u001b[38;5;124m\"\u001b[39m\u001b[38;5;241m.\u001b[39m\n\u001b[1;32m    328\u001b[0m         \u001b[38;5;28mformat\u001b[39m(target_id, \u001b[38;5;124m\"\u001b[39m\u001b[38;5;124m.\u001b[39m\u001b[38;5;124m\"\u001b[39m, name), value)\n\u001b[1;32m    329\u001b[0m \u001b[38;5;28;01melse\u001b[39;00m:\n",
      "\u001b[0;31m<class 'str'>\u001b[0m: (<class 'ConnectionRefusedError'>, ConnectionRefusedError(61, 'Connection refused'))",
      "\nDuring handling of the above exception, another exception occurred:\n",
      "\u001b[0;31mPy4JError\u001b[0m                                 Traceback (most recent call last)",
      "Cell \u001b[0;32mIn[12], line 1\u001b[0m\n\u001b[0;32m----> 1\u001b[0m \u001b[43mdf\u001b[49m\u001b[38;5;241;43m.\u001b[39;49m\u001b[43mwrite\u001b[49m\u001b[38;5;241;43m.\u001b[39;49m\u001b[43mformat\u001b[49m\u001b[43m(\u001b[49m\u001b[38;5;124;43m\"\u001b[39;49m\u001b[38;5;124;43mdelta\u001b[39;49m\u001b[38;5;124;43m\"\u001b[39;49m\u001b[43m)\u001b[49m\u001b[38;5;241;43m.\u001b[39;49m\u001b[43msave\u001b[49m\u001b[43m(\u001b[49m\u001b[38;5;124;43m\"\u001b[39;49m\u001b[38;5;124;43m/Users/rpelgrim/Desktop/unity-data/places_all\u001b[39;49m\u001b[38;5;124;43m\"\u001b[39;49m\u001b[43m)\u001b[49m\n",
      "File \u001b[0;32m~/miniforge3/envs/delta-geo/lib/python3.13/site-packages/pyspark/sql/readwriter.py:1463\u001b[0m, in \u001b[0;36mDataFrameWriter.save\u001b[0;34m(self, path, format, mode, partitionBy, **options)\u001b[0m\n\u001b[1;32m   1461\u001b[0m     \u001b[38;5;28mself\u001b[39m\u001b[38;5;241m.\u001b[39m_jwrite\u001b[38;5;241m.\u001b[39msave()\n\u001b[1;32m   1462\u001b[0m \u001b[38;5;28;01melse\u001b[39;00m:\n\u001b[0;32m-> 1463\u001b[0m     \u001b[38;5;28;43mself\u001b[39;49m\u001b[38;5;241;43m.\u001b[39;49m\u001b[43m_jwrite\u001b[49m\u001b[38;5;241;43m.\u001b[39;49m\u001b[43msave\u001b[49m\u001b[43m(\u001b[49m\u001b[43mpath\u001b[49m\u001b[43m)\u001b[49m\n",
      "File \u001b[0;32m~/miniforge3/envs/delta-geo/lib/python3.13/site-packages/py4j/java_gateway.py:1322\u001b[0m, in \u001b[0;36mJavaMember.__call__\u001b[0;34m(self, *args)\u001b[0m\n\u001b[1;32m   1316\u001b[0m command \u001b[38;5;241m=\u001b[39m proto\u001b[38;5;241m.\u001b[39mCALL_COMMAND_NAME \u001b[38;5;241m+\u001b[39m\\\n\u001b[1;32m   1317\u001b[0m     \u001b[38;5;28mself\u001b[39m\u001b[38;5;241m.\u001b[39mcommand_header \u001b[38;5;241m+\u001b[39m\\\n\u001b[1;32m   1318\u001b[0m     args_command \u001b[38;5;241m+\u001b[39m\\\n\u001b[1;32m   1319\u001b[0m     proto\u001b[38;5;241m.\u001b[39mEND_COMMAND_PART\n\u001b[1;32m   1321\u001b[0m answer \u001b[38;5;241m=\u001b[39m \u001b[38;5;28mself\u001b[39m\u001b[38;5;241m.\u001b[39mgateway_client\u001b[38;5;241m.\u001b[39msend_command(command)\n\u001b[0;32m-> 1322\u001b[0m return_value \u001b[38;5;241m=\u001b[39m \u001b[43mget_return_value\u001b[49m\u001b[43m(\u001b[49m\n\u001b[1;32m   1323\u001b[0m \u001b[43m    \u001b[49m\u001b[43manswer\u001b[49m\u001b[43m,\u001b[49m\u001b[43m \u001b[49m\u001b[38;5;28;43mself\u001b[39;49m\u001b[38;5;241;43m.\u001b[39;49m\u001b[43mgateway_client\u001b[49m\u001b[43m,\u001b[49m\u001b[43m \u001b[49m\u001b[38;5;28;43mself\u001b[39;49m\u001b[38;5;241;43m.\u001b[39;49m\u001b[43mtarget_id\u001b[49m\u001b[43m,\u001b[49m\u001b[43m \u001b[49m\u001b[38;5;28;43mself\u001b[39;49m\u001b[38;5;241;43m.\u001b[39;49m\u001b[43mname\u001b[49m\u001b[43m)\u001b[49m\n\u001b[1;32m   1325\u001b[0m \u001b[38;5;28;01mfor\u001b[39;00m temp_arg \u001b[38;5;129;01min\u001b[39;00m temp_args:\n\u001b[1;32m   1326\u001b[0m     \u001b[38;5;28;01mif\u001b[39;00m \u001b[38;5;28mhasattr\u001b[39m(temp_arg, \u001b[38;5;124m\"\u001b[39m\u001b[38;5;124m_detach\u001b[39m\u001b[38;5;124m\"\u001b[39m):\n",
      "File \u001b[0;32m~/miniforge3/envs/delta-geo/lib/python3.13/site-packages/pyspark/errors/exceptions/captured.py:181\u001b[0m, in \u001b[0;36mcapture_sql_exception.<locals>.deco\u001b[0;34m(*a, **kw)\u001b[0m\n\u001b[1;32m    179\u001b[0m     \u001b[38;5;28;01mreturn\u001b[39;00m f(\u001b[38;5;241m*\u001b[39ma, \u001b[38;5;241m*\u001b[39m\u001b[38;5;241m*\u001b[39mkw)\n\u001b[1;32m    180\u001b[0m \u001b[38;5;28;01mexcept\u001b[39;00m Py4JJavaError \u001b[38;5;28;01mas\u001b[39;00m e:\n\u001b[0;32m--> 181\u001b[0m     converted \u001b[38;5;241m=\u001b[39m \u001b[43mconvert_exception\u001b[49m\u001b[43m(\u001b[49m\u001b[43me\u001b[49m\u001b[38;5;241;43m.\u001b[39;49m\u001b[43mjava_exception\u001b[49m\u001b[43m)\u001b[49m\n\u001b[1;32m    182\u001b[0m     \u001b[38;5;28;01mif\u001b[39;00m \u001b[38;5;129;01mnot\u001b[39;00m \u001b[38;5;28misinstance\u001b[39m(converted, UnknownException):\n\u001b[1;32m    183\u001b[0m         \u001b[38;5;66;03m# Hide where the exception came from that shows a non-Pythonic\u001b[39;00m\n\u001b[1;32m    184\u001b[0m         \u001b[38;5;66;03m# JVM exception message.\u001b[39;00m\n\u001b[1;32m    185\u001b[0m         \u001b[38;5;28;01mraise\u001b[39;00m converted \u001b[38;5;28;01mfrom\u001b[39;00m \u001b[38;5;28;01mNone\u001b[39;00m\n",
      "File \u001b[0;32m~/miniforge3/envs/delta-geo/lib/python3.13/site-packages/delta/exceptions.py:160\u001b[0m, in \u001b[0;36m_patch_convert_exception.<locals>.convert_delta_exception\u001b[0;34m(e)\u001b[0m\n\u001b[1;32m    158\u001b[0m \u001b[38;5;28;01mif\u001b[39;00m delta_exception \u001b[38;5;129;01mis\u001b[39;00m \u001b[38;5;129;01mnot\u001b[39;00m \u001b[38;5;28;01mNone\u001b[39;00m:\n\u001b[1;32m    159\u001b[0m     \u001b[38;5;28;01mreturn\u001b[39;00m delta_exception\n\u001b[0;32m--> 160\u001b[0m \u001b[38;5;28;01mreturn\u001b[39;00m \u001b[43moriginal_convert_sql_exception\u001b[49m\u001b[43m(\u001b[49m\u001b[43me\u001b[49m\u001b[43m)\u001b[49m\n",
      "File \u001b[0;32m~/miniforge3/envs/delta-geo/lib/python3.13/site-packages/pyspark/errors/exceptions/captured.py:173\u001b[0m, in \u001b[0;36mconvert_exception\u001b[0;34m(e)\u001b[0m\n\u001b[1;32m    167\u001b[0m     msg \u001b[38;5;241m=\u001b[39m (\n\u001b[1;32m    168\u001b[0m         \u001b[38;5;124m\"\u001b[39m\u001b[38;5;130;01m\\n\u001b[39;00m\u001b[38;5;124m  An exception was thrown from the Python worker. \u001b[39m\u001b[38;5;124m\"\u001b[39m\n\u001b[1;32m    169\u001b[0m         \u001b[38;5;124m\"\u001b[39m\u001b[38;5;124mPlease see the stack trace below.\u001b[39m\u001b[38;5;130;01m\\n\u001b[39;00m\u001b[38;5;132;01m%s\u001b[39;00m\u001b[38;5;124m\"\u001b[39m \u001b[38;5;241m%\u001b[39m c\u001b[38;5;241m.\u001b[39mgetMessage()\n\u001b[1;32m    170\u001b[0m     )\n\u001b[1;32m    171\u001b[0m     \u001b[38;5;28;01mreturn\u001b[39;00m PythonException(msg, stacktrace)\n\u001b[0;32m--> 173\u001b[0m \u001b[38;5;28;01mreturn\u001b[39;00m \u001b[43mUnknownException\u001b[49m\u001b[43m(\u001b[49m\u001b[43mdesc\u001b[49m\u001b[38;5;241;43m=\u001b[39;49m\u001b[43me\u001b[49m\u001b[38;5;241;43m.\u001b[39;49m\u001b[43mtoString\u001b[49m\u001b[43m(\u001b[49m\u001b[43m)\u001b[49m\u001b[43m,\u001b[49m\u001b[43m \u001b[49m\u001b[43mstackTrace\u001b[49m\u001b[38;5;241;43m=\u001b[39;49m\u001b[43mstacktrace\u001b[49m\u001b[43m,\u001b[49m\u001b[43m \u001b[49m\u001b[43mcause\u001b[49m\u001b[38;5;241;43m=\u001b[39;49m\u001b[43mc\u001b[49m\u001b[43m)\u001b[49m\n",
      "File \u001b[0;32m~/miniforge3/envs/delta-geo/lib/python3.13/site-packages/pyspark/errors/exceptions/captured.py:65\u001b[0m, in \u001b[0;36mCapturedException.__init__\u001b[0;34m(self, desc, stackTrace, cause, origin)\u001b[0m\n\u001b[1;32m     59\u001b[0m \u001b[38;5;28;01massert\u001b[39;00m SparkContext\u001b[38;5;241m.\u001b[39m_jvm \u001b[38;5;129;01mis\u001b[39;00m \u001b[38;5;129;01mnot\u001b[39;00m \u001b[38;5;28;01mNone\u001b[39;00m\n\u001b[1;32m     60\u001b[0m \u001b[38;5;28mself\u001b[39m\u001b[38;5;241m.\u001b[39mstackTrace \u001b[38;5;241m=\u001b[39m (\n\u001b[1;32m     61\u001b[0m     stackTrace\n\u001b[1;32m     62\u001b[0m     \u001b[38;5;28;01mif\u001b[39;00m stackTrace \u001b[38;5;129;01mis\u001b[39;00m \u001b[38;5;129;01mnot\u001b[39;00m \u001b[38;5;28;01mNone\u001b[39;00m\n\u001b[1;32m     63\u001b[0m     \u001b[38;5;28;01melse\u001b[39;00m (SparkContext\u001b[38;5;241m.\u001b[39m_jvm\u001b[38;5;241m.\u001b[39morg\u001b[38;5;241m.\u001b[39mapache\u001b[38;5;241m.\u001b[39mspark\u001b[38;5;241m.\u001b[39mutil\u001b[38;5;241m.\u001b[39mUtils\u001b[38;5;241m.\u001b[39mexceptionString(origin))\n\u001b[1;32m     64\u001b[0m )\n\u001b[0;32m---> 65\u001b[0m \u001b[38;5;28mself\u001b[39m\u001b[38;5;241m.\u001b[39mcause \u001b[38;5;241m=\u001b[39m \u001b[43mconvert_exception\u001b[49m\u001b[43m(\u001b[49m\u001b[43mcause\u001b[49m\u001b[43m)\u001b[49m \u001b[38;5;28;01mif\u001b[39;00m cause \u001b[38;5;129;01mis\u001b[39;00m \u001b[38;5;129;01mnot\u001b[39;00m \u001b[38;5;28;01mNone\u001b[39;00m \u001b[38;5;28;01melse\u001b[39;00m \u001b[38;5;28;01mNone\u001b[39;00m\n\u001b[1;32m     66\u001b[0m \u001b[38;5;28;01mif\u001b[39;00m \u001b[38;5;28mself\u001b[39m\u001b[38;5;241m.\u001b[39mcause \u001b[38;5;129;01mis\u001b[39;00m \u001b[38;5;28;01mNone\u001b[39;00m \u001b[38;5;129;01mand\u001b[39;00m origin \u001b[38;5;129;01mis\u001b[39;00m \u001b[38;5;129;01mnot\u001b[39;00m \u001b[38;5;28;01mNone\u001b[39;00m \u001b[38;5;129;01mand\u001b[39;00m origin\u001b[38;5;241m.\u001b[39mgetCause() \u001b[38;5;129;01mis\u001b[39;00m \u001b[38;5;129;01mnot\u001b[39;00m \u001b[38;5;28;01mNone\u001b[39;00m:\n\u001b[1;32m     67\u001b[0m     \u001b[38;5;28mself\u001b[39m\u001b[38;5;241m.\u001b[39mcause \u001b[38;5;241m=\u001b[39m convert_exception(origin\u001b[38;5;241m.\u001b[39mgetCause())\n",
      "File \u001b[0;32m~/miniforge3/envs/delta-geo/lib/python3.13/site-packages/delta/exceptions.py:157\u001b[0m, in \u001b[0;36m_patch_convert_exception.<locals>.convert_delta_exception\u001b[0;34m(e)\u001b[0m\n\u001b[1;32m    156\u001b[0m \u001b[38;5;28;01mdef\u001b[39;00m \u001b[38;5;21mconvert_delta_exception\u001b[39m(e: \u001b[38;5;124m\"\u001b[39m\u001b[38;5;124mJavaObject\u001b[39m\u001b[38;5;124m\"\u001b[39m) \u001b[38;5;241m-\u001b[39m\u001b[38;5;241m>\u001b[39m CapturedException:\n\u001b[0;32m--> 157\u001b[0m     delta_exception \u001b[38;5;241m=\u001b[39m \u001b[43m_convert_delta_exception\u001b[49m\u001b[43m(\u001b[49m\u001b[43me\u001b[49m\u001b[43m)\u001b[49m\n\u001b[1;32m    158\u001b[0m     \u001b[38;5;28;01mif\u001b[39;00m delta_exception \u001b[38;5;129;01mis\u001b[39;00m \u001b[38;5;129;01mnot\u001b[39;00m \u001b[38;5;28;01mNone\u001b[39;00m:\n\u001b[1;32m    159\u001b[0m         \u001b[38;5;28;01mreturn\u001b[39;00m delta_exception\n",
      "File \u001b[0;32m~/miniforge3/envs/delta-geo/lib/python3.13/site-packages/delta/exceptions.py:128\u001b[0m, in \u001b[0;36m_convert_delta_exception\u001b[0;34m(e)\u001b[0m\n\u001b[1;32m    126\u001b[0m jvm: \u001b[38;5;124m\"\u001b[39m\u001b[38;5;124mJVMView\u001b[39m\u001b[38;5;124m\"\u001b[39m \u001b[38;5;241m=\u001b[39m SparkContext\u001b[38;5;241m.\u001b[39m_jvm  \u001b[38;5;66;03m# type: ignore[attr-defined]\u001b[39;00m\n\u001b[1;32m    127\u001b[0m gw \u001b[38;5;241m=\u001b[39m SparkContext\u001b[38;5;241m.\u001b[39m_gateway  \u001b[38;5;66;03m# type: ignore[attr-defined]\u001b[39;00m\n\u001b[0;32m--> 128\u001b[0m stacktrace \u001b[38;5;241m=\u001b[39m \u001b[43mjvm\u001b[49m\u001b[38;5;241;43m.\u001b[39;49m\u001b[43morg\u001b[49m\u001b[38;5;241m.\u001b[39mapache\u001b[38;5;241m.\u001b[39mspark\u001b[38;5;241m.\u001b[39mutil\u001b[38;5;241m.\u001b[39mUtils\u001b[38;5;241m.\u001b[39mexceptionString(e)\n\u001b[1;32m    130\u001b[0m \u001b[38;5;28;01mif\u001b[39;00m s\u001b[38;5;241m.\u001b[39mstartswith(\u001b[38;5;124m'\u001b[39m\u001b[38;5;124mio.delta.exceptions.DeltaConcurrentModificationException: \u001b[39m\u001b[38;5;124m'\u001b[39m):\n\u001b[1;32m    131\u001b[0m     \u001b[38;5;28;01mreturn\u001b[39;00m DeltaConcurrentModificationException(s\u001b[38;5;241m.\u001b[39msplit(\u001b[38;5;124m'\u001b[39m\u001b[38;5;124m: \u001b[39m\u001b[38;5;124m'\u001b[39m, \u001b[38;5;241m1\u001b[39m)[\u001b[38;5;241m1\u001b[39m], stacktrace, c)\n",
      "File \u001b[0;32m~/miniforge3/envs/delta-geo/lib/python3.13/site-packages/py4j/java_gateway.py:1725\u001b[0m, in \u001b[0;36mJVMView.__getattr__\u001b[0;34m(self, name)\u001b[0m\n\u001b[1;32m   1722\u001b[0m _, error_message \u001b[38;5;241m=\u001b[39m get_error_message(answer)\n\u001b[1;32m   1723\u001b[0m message \u001b[38;5;241m=\u001b[39m compute_exception_message(\n\u001b[1;32m   1724\u001b[0m     \u001b[38;5;124m\"\u001b[39m\u001b[38;5;132;01m{0}\u001b[39;00m\u001b[38;5;124m does not exist in the JVM\u001b[39m\u001b[38;5;124m\"\u001b[39m\u001b[38;5;241m.\u001b[39mformat(name), error_message)\n\u001b[0;32m-> 1725\u001b[0m \u001b[38;5;28;01mraise\u001b[39;00m Py4JError(message)\n",
      "\u001b[0;31mPy4JError\u001b[0m: org does not exist in the JVM"
     ]
    }
   ],
   "source": [
    "df.write.format(\"delta\").save(\"/Users/rpelgrim/Desktop/unity-data/places_all\")"
   ]
  },
  {
   "cell_type": "code",
   "execution_count": null,
   "id": "8201e986-88da-48dc-8672-607965e0c74b",
   "metadata": {},
   "outputs": [],
   "source": []
  }
 ],
 "metadata": {
  "kernelspec": {
   "display_name": "Python [conda env:delta-geo] *",
   "language": "python",
   "name": "conda-env-delta-geo-py"
  },
  "language_info": {
   "codemirror_mode": {
    "name": "ipython",
    "version": 3
   },
   "file_extension": ".py",
   "mimetype": "text/x-python",
   "name": "python",
   "nbconvert_exporter": "python",
   "pygments_lexer": "ipython3",
   "version": "3.13.0"
  }
 },
 "nbformat": 4,
 "nbformat_minor": 5
}
