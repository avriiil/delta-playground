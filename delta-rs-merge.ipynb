{
 "cells": [
  {
   "cell_type": "markdown",
   "id": "883ea32b-9721-4ba1-be44-0322a44a305c",
   "metadata": {},
   "source": [
    "# Delta-rs: MERGE guide\n",
    "\n",
    "```\n",
    "merge(source: Union[pyarrow.Table, pyarrow.RecordBatch, pyarrow.RecordBatchReader, ds.Dataset, pd.DataFrame], predicate: str, source_alias: Optional[str] = None, target_alias: Optional[str] = None, error_on_type_mismatch: bool = True, writer_properties: Optional[WriterProperties] = None, large_dtypes: Optional[bool] = None, custom_metadata: Optional[Dict[str, str]] = None, post_commithook_properties: Optional[PostCommitHookProperties] = None, commit_properties: Optional[CommitProperties] = None) -> TableMerger\n",
    "```"
   ]
  },
  {
   "cell_type": "code",
   "execution_count": null,
   "id": "463d5e69-c0ae-415d-babc-b6ec345f5ecb",
   "metadata": {},
   "outputs": [],
   "source": [
    "from deltalake import DeltaTable, write_deltalake\n",
    "import pyarrow as pa"
   ]
  },
  {
   "cell_type": "markdown",
   "id": "d2f121bd-af29-48ff-af6c-285b70273c97",
   "metadata": {},
   "source": [
    "## Update"
   ]
  },
  {
   "cell_type": "code",
   "execution_count": 38,
   "id": "faa06b55-9ff3-4d93-97be-4dda35aecfdb",
   "metadata": {},
   "outputs": [],
   "source": [
    "target_data = pa.table({\"x\": [1, 2, 3], \"y\": [4, 5, 6]})\n",
    "write_deltalake(\"tmp_table\", target_data)\n",
    "dt = DeltaTable(\"tmp_table\")\n",
    "source_data = pa.table({\"x\": [2, 3], \"y\": [5,8]})"
   ]
  },
  {
   "cell_type": "code",
   "execution_count": 41,
   "id": "ae3eb38c-5611-4f2a-be12-8077742660ab",
   "metadata": {},
   "outputs": [
    {
     "data": {
      "text/plain": [
       "{'num_source_rows': 2,\n",
       " 'num_target_rows_inserted': 0,\n",
       " 'num_target_rows_updated': 2,\n",
       " 'num_target_rows_deleted': 0,\n",
       " 'num_target_rows_copied': 1,\n",
       " 'num_output_rows': 3,\n",
       " 'num_target_files_scanned': 1,\n",
       " 'num_target_files_skipped_during_scan': 0,\n",
       " 'num_target_files_added': 1,\n",
       " 'num_target_files_removed': 1,\n",
       " 'execution_time_ms': 20,\n",
       " 'scan_time_ms': 0,\n",
       " 'rewrite_time_ms': 3}"
      ]
     },
     "execution_count": 41,
     "metadata": {},
     "output_type": "execute_result"
    }
   ],
   "source": [
    "(\n",
    "    dt.merge(\n",
    "        source=source_data,\n",
    "        predicate=\"target.x = source.x\",\n",
    "        source_alias=\"source\",\n",
    "        target_alias=\"target\")\n",
    "    .when_matched_update(\n",
    "        updates={\"x\": \"source.x\", \"y\":\"source.y\"})\n",
    "    .execute()\n",
    ")"
   ]
  },
  {
   "cell_type": "code",
   "execution_count": 43,
   "id": "e2d26f52-f470-4fca-a1b0-0cd4aa0c9ae8",
   "metadata": {},
   "outputs": [
    {
     "name": "stdout",
     "output_type": "stream",
     "text": [
      "   x  y\n",
      "0  1  4\n",
      "1  2  5\n",
      "2  3  8\n"
     ]
    }
   ],
   "source": [
    "print(dt.to_pandas().sort_values(\"x\", ignore_index=True))"
   ]
  },
  {
   "cell_type": "code",
   "execution_count": null,
   "id": "de4f7b64-d3c9-428b-9049-12e80206d0ee",
   "metadata": {},
   "outputs": [],
   "source": []
  },
  {
   "cell_type": "markdown",
   "id": "748bea86-d60e-47c8-bbaf-49b656060828",
   "metadata": {},
   "source": [
    "## Insert"
   ]
  },
  {
   "cell_type": "code",
   "execution_count": 48,
   "id": "e4a51141-af4b-4f96-89bb-0cc45b64f854",
   "metadata": {},
   "outputs": [],
   "source": [
    "target_data = pa.table({\"x\": [1, 2, 3], \"y\": [4, 5, 6]})\n",
    "write_deltalake(\"tmp_table\", target_data)\n",
    "dt = DeltaTable(\"tmp_table\")\n",
    "source_data = pa.table({\"x\": [2, 3, 7], \"y\": [4, 5, 8]})"
   ]
  },
  {
   "cell_type": "code",
   "execution_count": 49,
   "id": "c4e25411-ae6f-48ea-bd77-cb302e3be351",
   "metadata": {},
   "outputs": [
    {
     "data": {
      "text/plain": [
       "{'num_source_rows': 3,\n",
       " 'num_target_rows_inserted': 1,\n",
       " 'num_target_rows_updated': 0,\n",
       " 'num_target_rows_deleted': 0,\n",
       " 'num_target_rows_copied': 0,\n",
       " 'num_output_rows': 1,\n",
       " 'num_target_files_scanned': 1,\n",
       " 'num_target_files_skipped_during_scan': 0,\n",
       " 'num_target_files_added': 1,\n",
       " 'num_target_files_removed': 0,\n",
       " 'execution_time_ms': 19,\n",
       " 'scan_time_ms': 0,\n",
       " 'rewrite_time_ms': 2}"
      ]
     },
     "execution_count": 49,
     "metadata": {},
     "output_type": "execute_result"
    }
   ],
   "source": [
    "(\n",
    "    dt.merge(\n",
    "        source=source_data,\n",
    "        predicate=\"target.x = source.x\",\n",
    "        source_alias=\"source\",\n",
    "        target_alias=\"target\")\n",
    "    .when_not_matched_insert(\n",
    "        updates={\"x\": \"source.x\", \"y\":\"source.y\"})\n",
    "    .execute()\n",
    ")"
   ]
  },
  {
   "cell_type": "code",
   "execution_count": 50,
   "id": "144eeb40-8f31-4736-a1e9-6c44425affab",
   "metadata": {},
   "outputs": [
    {
     "name": "stdout",
     "output_type": "stream",
     "text": [
      "   x  y\n",
      "0  1  4\n",
      "1  2  5\n",
      "2  3  6\n",
      "3  7  8\n"
     ]
    }
   ],
   "source": [
    "print(dt.to_pandas().sort_values(\"x\", ignore_index=True))"
   ]
  },
  {
   "cell_type": "code",
   "execution_count": null,
   "id": "e17d7434-01fb-49f0-b801-bb0caa963ff3",
   "metadata": {},
   "outputs": [],
   "source": []
  },
  {
   "cell_type": "markdown",
   "id": "52b1bdb5-8f94-4190-a4b5-f2b0f45b7380",
   "metadata": {},
   "source": [
    "## Delete"
   ]
  },
  {
   "cell_type": "code",
   "execution_count": 56,
   "id": "06896fdb-396a-4933-9cd1-a150d4d007bd",
   "metadata": {},
   "outputs": [],
   "source": [
    "target_data = pa.table({\"x\": [1, 2, 3], \"y\": [4, 5, 6]})\n",
    "write_deltalake(\"tmp_table\", target_data)\n",
    "dt = DeltaTable(\"tmp_table\")\n",
    "source_data = pa.table({\"x\": [2, 3], \"deleted\": [False, True]})"
   ]
  },
  {
   "cell_type": "code",
   "execution_count": 57,
   "id": "dcb81f07-24bc-4092-ba50-b7316ba680f3",
   "metadata": {},
   "outputs": [
    {
     "data": {
      "text/plain": [
       "{'num_source_rows': 2,\n",
       " 'num_target_rows_inserted': 0,\n",
       " 'num_target_rows_updated': 0,\n",
       " 'num_target_rows_deleted': 1,\n",
       " 'num_target_rows_copied': 2,\n",
       " 'num_output_rows': 2,\n",
       " 'num_target_files_scanned': 1,\n",
       " 'num_target_files_skipped_during_scan': 0,\n",
       " 'num_target_files_added': 1,\n",
       " 'num_target_files_removed': 1,\n",
       " 'execution_time_ms': 22,\n",
       " 'scan_time_ms': 0,\n",
       " 'rewrite_time_ms': 2}"
      ]
     },
     "execution_count": 57,
     "metadata": {},
     "output_type": "execute_result"
    }
   ],
   "source": [
    "(\n",
    "    dt.merge(\n",
    "        source=source_data,\n",
    "        predicate=\"target.x = source.x\",\n",
    "        source_alias=\"source\",\n",
    "        target_alias=\"target\")\n",
    "    .when_matched_delete(\n",
    "        predicate=\"source.deleted = true\")\n",
    "    .execute()\n",
    ")"
   ]
  },
  {
   "cell_type": "code",
   "execution_count": 58,
   "id": "4fe656a1-7813-4caa-b9cb-c7716569d5e7",
   "metadata": {},
   "outputs": [
    {
     "data": {
      "text/html": [
       "<div>\n",
       "<style scoped>\n",
       "    .dataframe tbody tr th:only-of-type {\n",
       "        vertical-align: middle;\n",
       "    }\n",
       "\n",
       "    .dataframe tbody tr th {\n",
       "        vertical-align: top;\n",
       "    }\n",
       "\n",
       "    .dataframe thead th {\n",
       "        text-align: right;\n",
       "    }\n",
       "</style>\n",
       "<table border=\"1\" class=\"dataframe\">\n",
       "  <thead>\n",
       "    <tr style=\"text-align: right;\">\n",
       "      <th></th>\n",
       "      <th>x</th>\n",
       "      <th>y</th>\n",
       "    </tr>\n",
       "  </thead>\n",
       "  <tbody>\n",
       "    <tr>\n",
       "      <th>0</th>\n",
       "      <td>1</td>\n",
       "      <td>4</td>\n",
       "    </tr>\n",
       "    <tr>\n",
       "      <th>1</th>\n",
       "      <td>2</td>\n",
       "      <td>5</td>\n",
       "    </tr>\n",
       "  </tbody>\n",
       "</table>\n",
       "</div>"
      ],
      "text/plain": [
       "   x  y\n",
       "0  1  4\n",
       "1  2  5"
      ]
     },
     "execution_count": 58,
     "metadata": {},
     "output_type": "execute_result"
    }
   ],
   "source": [
    "dt.to_pandas().sort_values(\"x\", ignore_index=True)"
   ]
  },
  {
   "cell_type": "code",
   "execution_count": null,
   "id": "028513be-f921-4249-9a35-554aa9610d36",
   "metadata": {},
   "outputs": [],
   "source": []
  },
  {
   "cell_type": "code",
   "execution_count": null,
   "id": "8290a74a-0d8b-4518-a4a7-119f2f3351c5",
   "metadata": {},
   "outputs": [],
   "source": []
  },
  {
   "cell_type": "markdown",
   "id": "e9505ef5-e515-4377-97fa-ed83528f98a7",
   "metadata": {},
   "source": [
    "## Upsert"
   ]
  },
  {
   "cell_type": "code",
   "execution_count": 12,
   "id": "566daa58-48ab-4852-af98-cc6e5e51d7e0",
   "metadata": {},
   "outputs": [],
   "source": [
    "target_data = pa.table({\"x\": [1, 2, 3], \"y\": [4, 5, 6]})\n",
    "write_deltalake(\"tmp_table\", target_data)\n",
    "dt = DeltaTable(\"tmp_table\")\n",
    "source_data = pa.table({\"x\": [2, 3, 5], \"y\": [5, 8, 11]})"
   ]
  },
  {
   "cell_type": "code",
   "execution_count": 13,
   "id": "487315a3-34dc-4308-8e18-238c43d95552",
   "metadata": {},
   "outputs": [
    {
     "data": {
      "text/html": [
       "<div>\n",
       "<style scoped>\n",
       "    .dataframe tbody tr th:only-of-type {\n",
       "        vertical-align: middle;\n",
       "    }\n",
       "\n",
       "    .dataframe tbody tr th {\n",
       "        vertical-align: top;\n",
       "    }\n",
       "\n",
       "    .dataframe thead th {\n",
       "        text-align: right;\n",
       "    }\n",
       "</style>\n",
       "<table border=\"1\" class=\"dataframe\">\n",
       "  <thead>\n",
       "    <tr style=\"text-align: right;\">\n",
       "      <th></th>\n",
       "      <th>x</th>\n",
       "      <th>y</th>\n",
       "    </tr>\n",
       "  </thead>\n",
       "  <tbody>\n",
       "    <tr>\n",
       "      <th>0</th>\n",
       "      <td>1</td>\n",
       "      <td>4</td>\n",
       "    </tr>\n",
       "    <tr>\n",
       "      <th>1</th>\n",
       "      <td>2</td>\n",
       "      <td>5</td>\n",
       "    </tr>\n",
       "    <tr>\n",
       "      <th>2</th>\n",
       "      <td>3</td>\n",
       "      <td>6</td>\n",
       "    </tr>\n",
       "  </tbody>\n",
       "</table>\n",
       "</div>"
      ],
      "text/plain": [
       "   x  y\n",
       "0  1  4\n",
       "1  2  5\n",
       "2  3  6"
      ]
     },
     "execution_count": 13,
     "metadata": {},
     "output_type": "execute_result"
    }
   ],
   "source": [
    "dt.to_pandas().sort_values(\"x\", ignore_index=True)"
   ]
  },
  {
   "cell_type": "code",
   "execution_count": 14,
   "id": "18293743-df20-4c5a-bfad-1f3fade6f210",
   "metadata": {},
   "outputs": [
    {
     "data": {
      "text/plain": [
       "{'num_source_rows': 3,\n",
       " 'num_target_rows_inserted': 1,\n",
       " 'num_target_rows_updated': 2,\n",
       " 'num_target_rows_deleted': 0,\n",
       " 'num_target_rows_copied': 1,\n",
       " 'num_output_rows': 4,\n",
       " 'num_target_files_scanned': 1,\n",
       " 'num_target_files_skipped_during_scan': 0,\n",
       " 'num_target_files_added': 1,\n",
       " 'num_target_files_removed': 1,\n",
       " 'execution_time_ms': 20,\n",
       " 'scan_time_ms': 0,\n",
       " 'rewrite_time_ms': 3}"
      ]
     },
     "execution_count": 14,
     "metadata": {},
     "output_type": "execute_result"
    }
   ],
   "source": [
    "(\n",
    "    dt.merge(\n",
    "        source=source_data,\n",
    "        predicate=\"target.x = source.x\",\n",
    "        source_alias=\"source\",\n",
    "        target_alias=\"target\")\n",
    "    .when_matched_update(\n",
    "        updates={\"x\": \"source.x\", \"y\":\"source.y\"})\n",
    "    .when_not_matched_insert(\n",
    "        updates={\"x\": \"source.x\", \"y\":\"source.y\"})\n",
    "    .execute()\n",
    ")"
   ]
  },
  {
   "cell_type": "code",
   "execution_count": 15,
   "id": "de47255c-d655-433f-9146-d5574bc3df9b",
   "metadata": {},
   "outputs": [
    {
     "data": {
      "text/html": [
       "<div>\n",
       "<style scoped>\n",
       "    .dataframe tbody tr th:only-of-type {\n",
       "        vertical-align: middle;\n",
       "    }\n",
       "\n",
       "    .dataframe tbody tr th {\n",
       "        vertical-align: top;\n",
       "    }\n",
       "\n",
       "    .dataframe thead th {\n",
       "        text-align: right;\n",
       "    }\n",
       "</style>\n",
       "<table border=\"1\" class=\"dataframe\">\n",
       "  <thead>\n",
       "    <tr style=\"text-align: right;\">\n",
       "      <th></th>\n",
       "      <th>x</th>\n",
       "      <th>y</th>\n",
       "    </tr>\n",
       "  </thead>\n",
       "  <tbody>\n",
       "    <tr>\n",
       "      <th>0</th>\n",
       "      <td>1</td>\n",
       "      <td>4</td>\n",
       "    </tr>\n",
       "    <tr>\n",
       "      <th>1</th>\n",
       "      <td>2</td>\n",
       "      <td>5</td>\n",
       "    </tr>\n",
       "    <tr>\n",
       "      <th>2</th>\n",
       "      <td>3</td>\n",
       "      <td>8</td>\n",
       "    </tr>\n",
       "    <tr>\n",
       "      <th>3</th>\n",
       "      <td>5</td>\n",
       "      <td>11</td>\n",
       "    </tr>\n",
       "  </tbody>\n",
       "</table>\n",
       "</div>"
      ],
      "text/plain": [
       "   x   y\n",
       "0  1   4\n",
       "1  2   5\n",
       "2  3   8\n",
       "3  5  11"
      ]
     },
     "execution_count": 15,
     "metadata": {},
     "output_type": "execute_result"
    }
   ],
   "source": [
    "dt.to_pandas().sort_values(\"x\", ignore_index=True)"
   ]
  },
  {
   "cell_type": "code",
   "execution_count": null,
   "id": "13b3e6a3-8d9a-4a65-851b-3ebd30c8f6f5",
   "metadata": {},
   "outputs": [],
   "source": []
  },
  {
   "cell_type": "markdown",
   "id": "02a1470d-379d-4b70-9a73-9b66ff439d63",
   "metadata": {},
   "source": [
    "## Upsert with Delete"
   ]
  },
  {
   "cell_type": "code",
   "execution_count": 62,
   "id": "f50f3433-45ed-4233-ace4-16c7a3b67689",
   "metadata": {},
   "outputs": [],
   "source": [
    "target_data = pa.table({\"x\": [1, 2, 3], \"y\": [4, 5, 6]})\n",
    "write_deltalake(\"tmp_table\", target_data)\n",
    "dt = DeltaTable(\"tmp_table\")\n",
    "source_data = pa.table({\"x\": [2, 3, 5], \"y\": [5, 8, 11]})"
   ]
  },
  {
   "cell_type": "code",
   "execution_count": 63,
   "id": "5c4c64f7-f5e4-4ecc-a37a-a6435b765887",
   "metadata": {},
   "outputs": [
    {
     "data": {
      "text/plain": [
       "{'num_source_rows': 3,\n",
       " 'num_target_rows_inserted': 1,\n",
       " 'num_target_rows_updated': 2,\n",
       " 'num_target_rows_deleted': 1,\n",
       " 'num_target_rows_copied': 0,\n",
       " 'num_output_rows': 3,\n",
       " 'num_target_files_scanned': 1,\n",
       " 'num_target_files_skipped_during_scan': 0,\n",
       " 'num_target_files_added': 2,\n",
       " 'num_target_files_removed': 1,\n",
       " 'execution_time_ms': 21,\n",
       " 'scan_time_ms': 0,\n",
       " 'rewrite_time_ms': 3}"
      ]
     },
     "execution_count": 63,
     "metadata": {},
     "output_type": "execute_result"
    }
   ],
   "source": [
    "(\n",
    "    dt.merge(\n",
    "        source=source_data,\n",
    "        predicate=\"target.x = source.x\",\n",
    "        source_alias=\"source\",\n",
    "        target_alias=\"target\")\n",
    "    .when_matched_update(\n",
    "        updates={\"x\": \"source.x\", \"y\":\"source.y\"})\n",
    "    .when_not_matched_insert(\n",
    "        updates={\"x\": \"source.x\", \"y\":\"source.y\"})\n",
    "    .when_not_matched_by_source_delete()\n",
    "    .execute()\n",
    ")"
   ]
  },
  {
   "cell_type": "code",
   "execution_count": 64,
   "id": "a46a5a8b-b19f-4f3c-8f22-037df0986497",
   "metadata": {},
   "outputs": [
    {
     "data": {
      "text/html": [
       "<div>\n",
       "<style scoped>\n",
       "    .dataframe tbody tr th:only-of-type {\n",
       "        vertical-align: middle;\n",
       "    }\n",
       "\n",
       "    .dataframe tbody tr th {\n",
       "        vertical-align: top;\n",
       "    }\n",
       "\n",
       "    .dataframe thead th {\n",
       "        text-align: right;\n",
       "    }\n",
       "</style>\n",
       "<table border=\"1\" class=\"dataframe\">\n",
       "  <thead>\n",
       "    <tr style=\"text-align: right;\">\n",
       "      <th></th>\n",
       "      <th>x</th>\n",
       "      <th>y</th>\n",
       "    </tr>\n",
       "  </thead>\n",
       "  <tbody>\n",
       "    <tr>\n",
       "      <th>0</th>\n",
       "      <td>2</td>\n",
       "      <td>5</td>\n",
       "    </tr>\n",
       "    <tr>\n",
       "      <th>1</th>\n",
       "      <td>3</td>\n",
       "      <td>8</td>\n",
       "    </tr>\n",
       "    <tr>\n",
       "      <th>2</th>\n",
       "      <td>5</td>\n",
       "      <td>11</td>\n",
       "    </tr>\n",
       "  </tbody>\n",
       "</table>\n",
       "</div>"
      ],
      "text/plain": [
       "   x   y\n",
       "0  2   5\n",
       "1  3   8\n",
       "2  5  11"
      ]
     },
     "execution_count": 64,
     "metadata": {},
     "output_type": "execute_result"
    }
   ],
   "source": [
    "dt.to_pandas().sort_values(\"x\", ignore_index=True)"
   ]
  },
  {
   "cell_type": "code",
   "execution_count": null,
   "id": "0f4b2e28-2339-42ad-a302-f95fa4e852df",
   "metadata": {},
   "outputs": [],
   "source": []
  },
  {
   "cell_type": "code",
   "execution_count": null,
   "id": "fbae9361-5f2a-4de7-b300-14dca3410b8d",
   "metadata": {},
   "outputs": [],
   "source": []
  },
  {
   "cell_type": "markdown",
   "id": "77dad6cf-cb94-4af6-91c4-7fdeb3a84c32",
   "metadata": {},
   "source": [
    "## Multiple Matches"
   ]
  },
  {
   "cell_type": "code",
   "execution_count": 51,
   "id": "f457f911-3fd4-480f-81b9-7e290357cf01",
   "metadata": {},
   "outputs": [],
   "source": [
    "target_data = pa.table({\"x\": [1, 2, 3], \"y\": [4, 5, 6]})\n",
    "write_deltalake(\"tmp_table\", target_data)\n",
    "dt = DeltaTable(\"tmp_table\")\n",
    "source_data = pa.table({\"x\": [2, 3, 5], \"y\": [5, 8, 11]})"
   ]
  },
  {
   "cell_type": "code",
   "execution_count": 52,
   "id": "e0133ba6-5b1e-496d-8f3f-50cdb19302a8",
   "metadata": {},
   "outputs": [
    {
     "data": {
      "text/html": [
       "<div>\n",
       "<style scoped>\n",
       "    .dataframe tbody tr th:only-of-type {\n",
       "        vertical-align: middle;\n",
       "    }\n",
       "\n",
       "    .dataframe tbody tr th {\n",
       "        vertical-align: top;\n",
       "    }\n",
       "\n",
       "    .dataframe thead th {\n",
       "        text-align: right;\n",
       "    }\n",
       "</style>\n",
       "<table border=\"1\" class=\"dataframe\">\n",
       "  <thead>\n",
       "    <tr style=\"text-align: right;\">\n",
       "      <th></th>\n",
       "      <th>x</th>\n",
       "      <th>y</th>\n",
       "    </tr>\n",
       "  </thead>\n",
       "  <tbody>\n",
       "    <tr>\n",
       "      <th>0</th>\n",
       "      <td>1</td>\n",
       "      <td>4</td>\n",
       "    </tr>\n",
       "    <tr>\n",
       "      <th>1</th>\n",
       "      <td>2</td>\n",
       "      <td>5</td>\n",
       "    </tr>\n",
       "    <tr>\n",
       "      <th>2</th>\n",
       "      <td>3</td>\n",
       "      <td>6</td>\n",
       "    </tr>\n",
       "  </tbody>\n",
       "</table>\n",
       "</div>"
      ],
      "text/plain": [
       "   x  y\n",
       "0  1  4\n",
       "1  2  5\n",
       "2  3  6"
      ]
     },
     "execution_count": 52,
     "metadata": {},
     "output_type": "execute_result"
    }
   ],
   "source": [
    "dt.to_pandas().sort_values(\"x\", ignore_index=True)"
   ]
  },
  {
   "cell_type": "code",
   "execution_count": 53,
   "id": "cb874725-559e-4da3-b66b-cf26040c9f49",
   "metadata": {},
   "outputs": [
    {
     "data": {
      "text/plain": [
       "{'num_source_rows': 3,\n",
       " 'num_target_rows_inserted': 0,\n",
       " 'num_target_rows_updated': 2,\n",
       " 'num_target_rows_deleted': 0,\n",
       " 'num_target_rows_copied': 1,\n",
       " 'num_output_rows': 3,\n",
       " 'num_target_files_scanned': 1,\n",
       " 'num_target_files_skipped_during_scan': 0,\n",
       " 'num_target_files_added': 1,\n",
       " 'num_target_files_removed': 1,\n",
       " 'execution_time_ms': 21,\n",
       " 'scan_time_ms': 0,\n",
       " 'rewrite_time_ms': 2}"
      ]
     },
     "execution_count": 53,
     "metadata": {},
     "output_type": "execute_result"
    }
   ],
   "source": [
    "(\n",
    "    dt.merge(\n",
    "        source=source_data,\n",
    "        predicate=\"target.x = source.x\",\n",
    "        source_alias=\"source\",\n",
    "        target_alias=\"target\")\n",
    "    .when_matched_update(\n",
    "        updates={\"x\": \"source.x\", \"y\":\"source.y\"})\n",
    "    .when_matched_delete(\n",
    "        predicate=\"source.x = target.x\")\n",
    "    .execute()\n",
    ")"
   ]
  },
  {
   "cell_type": "code",
   "execution_count": 54,
   "id": "af452e60-f291-4e84-84bb-20abbe4cd621",
   "metadata": {},
   "outputs": [
    {
     "data": {
      "text/html": [
       "<div>\n",
       "<style scoped>\n",
       "    .dataframe tbody tr th:only-of-type {\n",
       "        vertical-align: middle;\n",
       "    }\n",
       "\n",
       "    .dataframe tbody tr th {\n",
       "        vertical-align: top;\n",
       "    }\n",
       "\n",
       "    .dataframe thead th {\n",
       "        text-align: right;\n",
       "    }\n",
       "</style>\n",
       "<table border=\"1\" class=\"dataframe\">\n",
       "  <thead>\n",
       "    <tr style=\"text-align: right;\">\n",
       "      <th></th>\n",
       "      <th>x</th>\n",
       "      <th>y</th>\n",
       "    </tr>\n",
       "  </thead>\n",
       "  <tbody>\n",
       "    <tr>\n",
       "      <th>0</th>\n",
       "      <td>1</td>\n",
       "      <td>4</td>\n",
       "    </tr>\n",
       "    <tr>\n",
       "      <th>1</th>\n",
       "      <td>2</td>\n",
       "      <td>5</td>\n",
       "    </tr>\n",
       "    <tr>\n",
       "      <th>2</th>\n",
       "      <td>3</td>\n",
       "      <td>8</td>\n",
       "    </tr>\n",
       "  </tbody>\n",
       "</table>\n",
       "</div>"
      ],
      "text/plain": [
       "   x  y\n",
       "0  1  4\n",
       "1  2  5\n",
       "2  3  8"
      ]
     },
     "execution_count": 54,
     "metadata": {},
     "output_type": "execute_result"
    }
   ],
   "source": [
    "dt.to_pandas().sort_values(\"x\", ignore_index=True)"
   ]
  },
  {
   "cell_type": "code",
   "execution_count": 31,
   "id": "13f6c821-2bd3-44e1-b548-af16b4c0daaa",
   "metadata": {},
   "outputs": [
    {
     "data": {
      "text/html": [
       "<div>\n",
       "<style scoped>\n",
       "    .dataframe tbody tr th:only-of-type {\n",
       "        vertical-align: middle;\n",
       "    }\n",
       "\n",
       "    .dataframe tbody tr th {\n",
       "        vertical-align: top;\n",
       "    }\n",
       "\n",
       "    .dataframe thead th {\n",
       "        text-align: right;\n",
       "    }\n",
       "</style>\n",
       "<table border=\"1\" class=\"dataframe\">\n",
       "  <thead>\n",
       "    <tr style=\"text-align: right;\">\n",
       "      <th></th>\n",
       "      <th>x</th>\n",
       "      <th>y</th>\n",
       "    </tr>\n",
       "  </thead>\n",
       "  <tbody>\n",
       "    <tr>\n",
       "      <th>0</th>\n",
       "      <td>1</td>\n",
       "      <td>4</td>\n",
       "    </tr>\n",
       "  </tbody>\n",
       "</table>\n",
       "</div>"
      ],
      "text/plain": [
       "   x  y\n",
       "0  1  4"
      ]
     },
     "execution_count": 31,
     "metadata": {},
     "output_type": "execute_result"
    }
   ],
   "source": [
    "dt = DeltaTable(\"tmp_table\", version=0)\n",
    "dt.to_pandas().sort_values(\"x\", ignore_index=True)"
   ]
  },
  {
   "cell_type": "code",
   "execution_count": null,
   "id": "f36ef661-7942-4de7-ad0f-3972c31ea22f",
   "metadata": {},
   "outputs": [],
   "source": []
  },
  {
   "cell_type": "markdown",
   "id": "c40e8b67-5679-4be7-82a2-3117505da3f5",
   "metadata": {},
   "source": [
    "### Delete on Predicate"
   ]
  },
  {
   "cell_type": "code",
   "execution_count": 1,
   "id": "1199eada-bc00-46c1-925e-e4d2817af3ef",
   "metadata": {},
   "outputs": [],
   "source": [
    "from deltalake import DeltaTable, write_deltalake\n",
    "import pyarrow as pa\n",
    "\n",
    "data = pa.table({\"x\": [1, 2, 3], \"y\": [4, 5, 6]})\n",
    "write_deltalake(\"tmp\", data)\n",
    "dt = DeltaTable(\"tmp\")\n",
    "new_data = pa.table({\"x\": [2, 3], \"deleted\": [False, True]})"
   ]
  },
  {
   "cell_type": "code",
   "execution_count": 2,
   "id": "e8449588-6093-4bed-b32f-0280bbe21ce5",
   "metadata": {},
   "outputs": [
    {
     "data": {
      "text/plain": [
       "{'num_source_rows': 2,\n",
       " 'num_target_rows_inserted': 0,\n",
       " 'num_target_rows_updated': 0,\n",
       " 'num_target_rows_deleted': 1,\n",
       " 'num_target_rows_copied': 2,\n",
       " 'num_output_rows': 2,\n",
       " 'num_target_files_scanned': 1,\n",
       " 'num_target_files_skipped_during_scan': 0,\n",
       " 'num_target_files_added': 1,\n",
       " 'num_target_files_removed': 1,\n",
       " 'execution_time_ms': 31,\n",
       " 'scan_time_ms': 0,\n",
       " 'rewrite_time_ms': 4}"
      ]
     },
     "execution_count": 2,
     "metadata": {},
     "output_type": "execute_result"
    }
   ],
   "source": [
    "(\n",
    "    dt.merge(\n",
    "        source=new_data,\n",
    "        predicate='target.x = source.x',\n",
    "        source_alias='source',\n",
    "        target_alias='target')\n",
    "    .when_matched_delete(\n",
    "        predicate=\"source.deleted = true\")\n",
    "    .execute()\n",
    ")"
   ]
  },
  {
   "cell_type": "code",
   "execution_count": 3,
   "id": "16e3ace6-4a46-4540-b4b1-6120b28a941a",
   "metadata": {},
   "outputs": [
    {
     "data": {
      "text/html": [
       "<div>\n",
       "<style scoped>\n",
       "    .dataframe tbody tr th:only-of-type {\n",
       "        vertical-align: middle;\n",
       "    }\n",
       "\n",
       "    .dataframe tbody tr th {\n",
       "        vertical-align: top;\n",
       "    }\n",
       "\n",
       "    .dataframe thead th {\n",
       "        text-align: right;\n",
       "    }\n",
       "</style>\n",
       "<table border=\"1\" class=\"dataframe\">\n",
       "  <thead>\n",
       "    <tr style=\"text-align: right;\">\n",
       "      <th></th>\n",
       "      <th>x</th>\n",
       "      <th>y</th>\n",
       "    </tr>\n",
       "  </thead>\n",
       "  <tbody>\n",
       "    <tr>\n",
       "      <th>0</th>\n",
       "      <td>1</td>\n",
       "      <td>4</td>\n",
       "    </tr>\n",
       "    <tr>\n",
       "      <th>1</th>\n",
       "      <td>2</td>\n",
       "      <td>5</td>\n",
       "    </tr>\n",
       "  </tbody>\n",
       "</table>\n",
       "</div>"
      ],
      "text/plain": [
       "   x  y\n",
       "0  1  4\n",
       "1  2  5"
      ]
     },
     "execution_count": 3,
     "metadata": {},
     "output_type": "execute_result"
    }
   ],
   "source": [
    "dt.to_pandas().sort_values(\"x\", ignore_index=True)"
   ]
  },
  {
   "cell_type": "code",
   "execution_count": null,
   "id": "53fab703-3685-4aaf-995e-c972fd13fb24",
   "metadata": {},
   "outputs": [],
   "source": []
  },
  {
   "cell_type": "markdown",
   "id": "bd44a061-c699-4b13-9345-aac0affa488f",
   "metadata": {},
   "source": [
    "### Delete All Matched Records"
   ]
  },
  {
   "cell_type": "code",
   "execution_count": 4,
   "id": "98f87b50-92de-4ecd-8fa1-a4484829dfcc",
   "metadata": {},
   "outputs": [
    {
     "data": {
      "text/html": [
       "<div>\n",
       "<style scoped>\n",
       "    .dataframe tbody tr th:only-of-type {\n",
       "        vertical-align: middle;\n",
       "    }\n",
       "\n",
       "    .dataframe tbody tr th {\n",
       "        vertical-align: top;\n",
       "    }\n",
       "\n",
       "    .dataframe thead th {\n",
       "        text-align: right;\n",
       "    }\n",
       "</style>\n",
       "<table border=\"1\" class=\"dataframe\">\n",
       "  <thead>\n",
       "    <tr style=\"text-align: right;\">\n",
       "      <th></th>\n",
       "      <th>x</th>\n",
       "      <th>y</th>\n",
       "    </tr>\n",
       "  </thead>\n",
       "  <tbody>\n",
       "    <tr>\n",
       "      <th>0</th>\n",
       "      <td>1</td>\n",
       "      <td>4</td>\n",
       "    </tr>\n",
       "  </tbody>\n",
       "</table>\n",
       "</div>"
      ],
      "text/plain": [
       "   x  y\n",
       "0  1  4"
      ]
     },
     "execution_count": 4,
     "metadata": {},
     "output_type": "execute_result"
    }
   ],
   "source": [
    "dt = DeltaTable(\"tmp\")\n",
    "(\n",
    "    dt.merge(\n",
    "        source=new_data,\n",
    "        predicate='target.x = source.x',\n",
    "        source_alias='source',\n",
    "        target_alias='target')\n",
    "    .when_matched_delete()\n",
    "    .execute()\n",
    ")\n",
    "dt.to_pandas()\n",
    "\n"
   ]
  },
  {
   "cell_type": "code",
   "execution_count": null,
   "id": "67d338d3-e8e4-49f8-9dae-111d4a822108",
   "metadata": {},
   "outputs": [],
   "source": []
  }
 ],
 "metadata": {
  "kernelspec": {
   "display_name": "Python 3 (ipykernel)",
   "language": "python",
   "name": "python3"
  },
  "language_info": {
   "codemirror_mode": {
    "name": "ipython",
    "version": 3
   },
   "file_extension": ".py",
   "mimetype": "text/x-python",
   "name": "python",
   "nbconvert_exporter": "python",
   "pygments_lexer": "ipython3",
   "version": "3.12.6"
  }
 },
 "nbformat": 4,
 "nbformat_minor": 5
}
