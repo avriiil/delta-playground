{
 "cells": [
  {
   "cell_type": "markdown",
   "id": "c0af7a4a-3750-4ab7-8c4d-e5e2a1db3072",
   "metadata": {},
   "source": [
    "# Working with GeoSpark"
   ]
  },
  {
   "cell_type": "code",
   "execution_count": 1,
   "id": "c7493405-75ca-43f8-8f39-d537d0ab2ccb",
   "metadata": {},
   "outputs": [],
   "source": [
    "import findspark\n",
    "findspark.init() \n",
    "\n",
    "import pyspark\n",
    "from delta import *\n",
    "\n",
    "conf = (\n",
    "    pyspark.conf.SparkConf()\n",
    "    .setAppName(\"MY_APP\")\n",
    "    .set(\n",
    "        \"spark.sql.catalog.spark_catalog\",\n",
    "        \"org.apache.spark.sql.delta.catalog.DeltaCatalog\",\n",
    "    )\n",
    "    .set(\"spark.sql.extensions\", \"io.delta.sql.DeltaSparkSessionExtension\")\n",
    "#    .set(\"spark.hadoop.fs.s3a.access.key\", access_key)\n",
    "#    .set(\"spark.hadoop.fs.s3a.secret.key\", secret_key)\n",
    "    .set(\"spark.sql.shuffle.partitions\", \"4\")\n",
    "    .setMaster(\n",
    "        \"local[*]\"\n",
    "    )  # replace the * with your desired number of cores. * for use all.\n",
    ")\n",
    "\n",
    "extra_packages = [\n",
    "#     \"org.apache.hadoop:hadoop-aws:3.3.4\",\n",
    "#     \"org.apache.hadoop:hadoop-common:3.3.4\",\n",
    "#     \"com.amazonaws:aws-java-sdk-bundle:1.12.262\",\n",
    "    \"org.datasyslab:geospark-sql_2.3:1.3.1\",\n",
    "    \"org.datasyslab:geospark:1.3.1\",\n",
    "]\n",
    "\n",
    "builder = pyspark.sql.SparkSession.builder.appName(\"MyApp\").config(conf=conf)\n",
    "spark = configure_spark_with_delta_pip(\n",
    "    builder, extra_packages=extra_packages\n",
    ").getOrCreate()"
   ]
  },
  {
   "cell_type": "code",
   "execution_count": null,
   "id": "49e89304-f29f-4ac2-b263-673358deb1ce",
   "metadata": {},
   "outputs": [],
   "source": []
  },
  {
   "cell_type": "code",
   "execution_count": null,
   "id": "3986c787-457b-4110-8211-a3369d86becc",
   "metadata": {},
   "outputs": [],
   "source": []
  },
  {
   "cell_type": "code",
   "execution_count": null,
   "id": "bda4c5c3-cbc7-4a88-b6e0-8d2f4eed5eff",
   "metadata": {},
   "outputs": [],
   "source": []
  },
  {
   "cell_type": "code",
   "execution_count": null,
   "id": "70af6d8d-7bd8-4173-990e-ac079c3d83da",
   "metadata": {},
   "outputs": [],
   "source": []
  }
 ],
 "metadata": {
  "kernelspec": {
   "display_name": "Python [conda env:delta-geo] *",
   "language": "python",
   "name": "conda-env-delta-geo-py"
  },
  "language_info": {
   "codemirror_mode": {
    "name": "ipython",
    "version": 3
   },
   "file_extension": ".py",
   "mimetype": "text/x-python",
   "name": "python",
   "nbconvert_exporter": "python",
   "pygments_lexer": "ipython3",
   "version": "3.13.0"
  }
 },
 "nbformat": 4,
 "nbformat_minor": 5
}
