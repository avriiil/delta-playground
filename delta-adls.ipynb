{
 "cells": [
  {
   "cell_type": "markdown",
   "id": "a8473bce-5443-42cd-a8a6-a013ac0abe2e",
   "metadata": {},
   "source": [
    "# Delta for ADLS"
   ]
  },
  {
   "cell_type": "code",
   "execution_count": null,
   "id": "697ec3cc-d25a-48bd-8a30-72a20de96df2",
   "metadata": {},
   "outputs": [],
   "source": []
  },
  {
   "cell_type": "markdown",
   "id": "612957ad-c8e2-4428-a0ce-b9718e9964aa",
   "metadata": {},
   "source": [
    "## pandas"
   ]
  },
  {
   "cell_type": "code",
   "execution_count": 10,
   "id": "7a15a02d-8a1f-4019-bd5a-1b56b491ef60",
   "metadata": {},
   "outputs": [],
   "source": [
    "import pandas as pd\n",
    "\n",
    "data = {'Column1': [4, 5, 6], 'Column2': [\"D\", \"E\", \"F\"]}\n",
    "df = pd.DataFrame(data)"
   ]
  },
  {
   "cell_type": "code",
   "execution_count": 3,
   "id": "1c3a32ff-2aab-4f1e-b5fa-5714b3747346",
   "metadata": {
    "scrolled": true
   },
   "outputs": [
    {
     "ename": "ArrowNotImplementedError",
     "evalue": "Got Azure Blob File System URI but Arrow compiled without Azure Blob File System support",
     "output_type": "error",
     "traceback": [
      "\u001b[0;31m---------------------------------------------------------------------------\u001b[0m",
      "\u001b[0;31mArrowNotImplementedError\u001b[0m                  Traceback (most recent call last)",
      "Cell \u001b[0;32mIn[3], line 1\u001b[0m\n\u001b[0;32m----> 1\u001b[0m \u001b[43mdf\u001b[49m\u001b[38;5;241;43m.\u001b[39;49m\u001b[43mto_parquet\u001b[49m\u001b[43m(\u001b[49m\u001b[38;5;124;43mf\u001b[39;49m\u001b[38;5;124;43m'\u001b[39;49m\u001b[38;5;124;43mabfss://test-container/test.parquet\u001b[39;49m\u001b[38;5;124;43m'\u001b[39;49m\u001b[43m)\u001b[49m\n",
      "File \u001b[0;32m~/miniforge3/envs/deltalake-no-spark/lib/python3.11/site-packages/pandas/util/_decorators.py:333\u001b[0m, in \u001b[0;36mdeprecate_nonkeyword_arguments.<locals>.decorate.<locals>.wrapper\u001b[0;34m(*args, **kwargs)\u001b[0m\n\u001b[1;32m    327\u001b[0m \u001b[38;5;28;01mif\u001b[39;00m \u001b[38;5;28mlen\u001b[39m(args) \u001b[38;5;241m>\u001b[39m num_allow_args:\n\u001b[1;32m    328\u001b[0m     warnings\u001b[38;5;241m.\u001b[39mwarn(\n\u001b[1;32m    329\u001b[0m         msg\u001b[38;5;241m.\u001b[39mformat(arguments\u001b[38;5;241m=\u001b[39m_format_argument_list(allow_args)),\n\u001b[1;32m    330\u001b[0m         \u001b[38;5;167;01mFutureWarning\u001b[39;00m,\n\u001b[1;32m    331\u001b[0m         stacklevel\u001b[38;5;241m=\u001b[39mfind_stack_level(),\n\u001b[1;32m    332\u001b[0m     )\n\u001b[0;32m--> 333\u001b[0m \u001b[38;5;28;01mreturn\u001b[39;00m \u001b[43mfunc\u001b[49m\u001b[43m(\u001b[49m\u001b[38;5;241;43m*\u001b[39;49m\u001b[43margs\u001b[49m\u001b[43m,\u001b[49m\u001b[43m \u001b[49m\u001b[38;5;241;43m*\u001b[39;49m\u001b[38;5;241;43m*\u001b[39;49m\u001b[43mkwargs\u001b[49m\u001b[43m)\u001b[49m\n",
      "File \u001b[0;32m~/miniforge3/envs/deltalake-no-spark/lib/python3.11/site-packages/pandas/core/frame.py:3113\u001b[0m, in \u001b[0;36mDataFrame.to_parquet\u001b[0;34m(self, path, engine, compression, index, partition_cols, storage_options, **kwargs)\u001b[0m\n\u001b[1;32m   3032\u001b[0m \u001b[38;5;250m\u001b[39m\u001b[38;5;124;03m\"\"\"\u001b[39;00m\n\u001b[1;32m   3033\u001b[0m \u001b[38;5;124;03mWrite a DataFrame to the binary parquet format.\u001b[39;00m\n\u001b[1;32m   3034\u001b[0m \n\u001b[0;32m   (...)\u001b[0m\n\u001b[1;32m   3109\u001b[0m \u001b[38;5;124;03m>>> content = f.read()\u001b[39;00m\n\u001b[1;32m   3110\u001b[0m \u001b[38;5;124;03m\"\"\"\u001b[39;00m\n\u001b[1;32m   3111\u001b[0m \u001b[38;5;28;01mfrom\u001b[39;00m \u001b[38;5;21;01mpandas\u001b[39;00m\u001b[38;5;21;01m.\u001b[39;00m\u001b[38;5;21;01mio\u001b[39;00m\u001b[38;5;21;01m.\u001b[39;00m\u001b[38;5;21;01mparquet\u001b[39;00m \u001b[38;5;28;01mimport\u001b[39;00m to_parquet\n\u001b[0;32m-> 3113\u001b[0m \u001b[38;5;28;01mreturn\u001b[39;00m \u001b[43mto_parquet\u001b[49m\u001b[43m(\u001b[49m\n\u001b[1;32m   3114\u001b[0m \u001b[43m    \u001b[49m\u001b[38;5;28;43mself\u001b[39;49m\u001b[43m,\u001b[49m\n\u001b[1;32m   3115\u001b[0m \u001b[43m    \u001b[49m\u001b[43mpath\u001b[49m\u001b[43m,\u001b[49m\n\u001b[1;32m   3116\u001b[0m \u001b[43m    \u001b[49m\u001b[43mengine\u001b[49m\u001b[43m,\u001b[49m\n\u001b[1;32m   3117\u001b[0m \u001b[43m    \u001b[49m\u001b[43mcompression\u001b[49m\u001b[38;5;241;43m=\u001b[39;49m\u001b[43mcompression\u001b[49m\u001b[43m,\u001b[49m\n\u001b[1;32m   3118\u001b[0m \u001b[43m    \u001b[49m\u001b[43mindex\u001b[49m\u001b[38;5;241;43m=\u001b[39;49m\u001b[43mindex\u001b[49m\u001b[43m,\u001b[49m\n\u001b[1;32m   3119\u001b[0m \u001b[43m    \u001b[49m\u001b[43mpartition_cols\u001b[49m\u001b[38;5;241;43m=\u001b[39;49m\u001b[43mpartition_cols\u001b[49m\u001b[43m,\u001b[49m\n\u001b[1;32m   3120\u001b[0m \u001b[43m    \u001b[49m\u001b[43mstorage_options\u001b[49m\u001b[38;5;241;43m=\u001b[39;49m\u001b[43mstorage_options\u001b[49m\u001b[43m,\u001b[49m\n\u001b[1;32m   3121\u001b[0m \u001b[43m    \u001b[49m\u001b[38;5;241;43m*\u001b[39;49m\u001b[38;5;241;43m*\u001b[39;49m\u001b[43mkwargs\u001b[49m\u001b[43m,\u001b[49m\n\u001b[1;32m   3122\u001b[0m \u001b[43m\u001b[49m\u001b[43m)\u001b[49m\n",
      "File \u001b[0;32m~/miniforge3/envs/deltalake-no-spark/lib/python3.11/site-packages/pandas/io/parquet.py:480\u001b[0m, in \u001b[0;36mto_parquet\u001b[0;34m(df, path, engine, compression, index, storage_options, partition_cols, filesystem, **kwargs)\u001b[0m\n\u001b[1;32m    476\u001b[0m impl \u001b[38;5;241m=\u001b[39m get_engine(engine)\n\u001b[1;32m    478\u001b[0m path_or_buf: FilePath \u001b[38;5;241m|\u001b[39m WriteBuffer[\u001b[38;5;28mbytes\u001b[39m] \u001b[38;5;241m=\u001b[39m io\u001b[38;5;241m.\u001b[39mBytesIO() \u001b[38;5;28;01mif\u001b[39;00m path \u001b[38;5;129;01mis\u001b[39;00m \u001b[38;5;28;01mNone\u001b[39;00m \u001b[38;5;28;01melse\u001b[39;00m path\n\u001b[0;32m--> 480\u001b[0m \u001b[43mimpl\u001b[49m\u001b[38;5;241;43m.\u001b[39;49m\u001b[43mwrite\u001b[49m\u001b[43m(\u001b[49m\n\u001b[1;32m    481\u001b[0m \u001b[43m    \u001b[49m\u001b[43mdf\u001b[49m\u001b[43m,\u001b[49m\n\u001b[1;32m    482\u001b[0m \u001b[43m    \u001b[49m\u001b[43mpath_or_buf\u001b[49m\u001b[43m,\u001b[49m\n\u001b[1;32m    483\u001b[0m \u001b[43m    \u001b[49m\u001b[43mcompression\u001b[49m\u001b[38;5;241;43m=\u001b[39;49m\u001b[43mcompression\u001b[49m\u001b[43m,\u001b[49m\n\u001b[1;32m    484\u001b[0m \u001b[43m    \u001b[49m\u001b[43mindex\u001b[49m\u001b[38;5;241;43m=\u001b[39;49m\u001b[43mindex\u001b[49m\u001b[43m,\u001b[49m\n\u001b[1;32m    485\u001b[0m \u001b[43m    \u001b[49m\u001b[43mpartition_cols\u001b[49m\u001b[38;5;241;43m=\u001b[39;49m\u001b[43mpartition_cols\u001b[49m\u001b[43m,\u001b[49m\n\u001b[1;32m    486\u001b[0m \u001b[43m    \u001b[49m\u001b[43mstorage_options\u001b[49m\u001b[38;5;241;43m=\u001b[39;49m\u001b[43mstorage_options\u001b[49m\u001b[43m,\u001b[49m\n\u001b[1;32m    487\u001b[0m \u001b[43m    \u001b[49m\u001b[43mfilesystem\u001b[49m\u001b[38;5;241;43m=\u001b[39;49m\u001b[43mfilesystem\u001b[49m\u001b[43m,\u001b[49m\n\u001b[1;32m    488\u001b[0m \u001b[43m    \u001b[49m\u001b[38;5;241;43m*\u001b[39;49m\u001b[38;5;241;43m*\u001b[39;49m\u001b[43mkwargs\u001b[49m\u001b[43m,\u001b[49m\n\u001b[1;32m    489\u001b[0m \u001b[43m\u001b[49m\u001b[43m)\u001b[49m\n\u001b[1;32m    491\u001b[0m \u001b[38;5;28;01mif\u001b[39;00m path \u001b[38;5;129;01mis\u001b[39;00m \u001b[38;5;28;01mNone\u001b[39;00m:\n\u001b[1;32m    492\u001b[0m     \u001b[38;5;28;01massert\u001b[39;00m \u001b[38;5;28misinstance\u001b[39m(path_or_buf, io\u001b[38;5;241m.\u001b[39mBytesIO)\n",
      "File \u001b[0;32m~/miniforge3/envs/deltalake-no-spark/lib/python3.11/site-packages/pandas/io/parquet.py:198\u001b[0m, in \u001b[0;36mPyArrowImpl.write\u001b[0;34m(self, df, path, compression, index, storage_options, partition_cols, filesystem, **kwargs)\u001b[0m\n\u001b[1;32m    195\u001b[0m     merged_metadata \u001b[38;5;241m=\u001b[39m {\u001b[38;5;241m*\u001b[39m\u001b[38;5;241m*\u001b[39mexisting_metadata, \u001b[38;5;241m*\u001b[39m\u001b[38;5;241m*\u001b[39mdf_metadata}\n\u001b[1;32m    196\u001b[0m     table \u001b[38;5;241m=\u001b[39m table\u001b[38;5;241m.\u001b[39mreplace_schema_metadata(merged_metadata)\n\u001b[0;32m--> 198\u001b[0m path_or_handle, handles, filesystem \u001b[38;5;241m=\u001b[39m \u001b[43m_get_path_or_handle\u001b[49m\u001b[43m(\u001b[49m\n\u001b[1;32m    199\u001b[0m \u001b[43m    \u001b[49m\u001b[43mpath\u001b[49m\u001b[43m,\u001b[49m\n\u001b[1;32m    200\u001b[0m \u001b[43m    \u001b[49m\u001b[43mfilesystem\u001b[49m\u001b[43m,\u001b[49m\n\u001b[1;32m    201\u001b[0m \u001b[43m    \u001b[49m\u001b[43mstorage_options\u001b[49m\u001b[38;5;241;43m=\u001b[39;49m\u001b[43mstorage_options\u001b[49m\u001b[43m,\u001b[49m\n\u001b[1;32m    202\u001b[0m \u001b[43m    \u001b[49m\u001b[43mmode\u001b[49m\u001b[38;5;241;43m=\u001b[39;49m\u001b[38;5;124;43m\"\u001b[39;49m\u001b[38;5;124;43mwb\u001b[39;49m\u001b[38;5;124;43m\"\u001b[39;49m\u001b[43m,\u001b[49m\n\u001b[1;32m    203\u001b[0m \u001b[43m    \u001b[49m\u001b[43mis_dir\u001b[49m\u001b[38;5;241;43m=\u001b[39;49m\u001b[43mpartition_cols\u001b[49m\u001b[43m \u001b[49m\u001b[38;5;129;43;01mis\u001b[39;49;00m\u001b[43m \u001b[49m\u001b[38;5;129;43;01mnot\u001b[39;49;00m\u001b[43m \u001b[49m\u001b[38;5;28;43;01mNone\u001b[39;49;00m\u001b[43m,\u001b[49m\n\u001b[1;32m    204\u001b[0m \u001b[43m\u001b[49m\u001b[43m)\u001b[49m\n\u001b[1;32m    205\u001b[0m \u001b[38;5;28;01mif\u001b[39;00m (\n\u001b[1;32m    206\u001b[0m     \u001b[38;5;28misinstance\u001b[39m(path_or_handle, io\u001b[38;5;241m.\u001b[39mBufferedWriter)\n\u001b[1;32m    207\u001b[0m     \u001b[38;5;129;01mand\u001b[39;00m \u001b[38;5;28mhasattr\u001b[39m(path_or_handle, \u001b[38;5;124m\"\u001b[39m\u001b[38;5;124mname\u001b[39m\u001b[38;5;124m\"\u001b[39m)\n\u001b[1;32m    208\u001b[0m     \u001b[38;5;129;01mand\u001b[39;00m \u001b[38;5;28misinstance\u001b[39m(path_or_handle\u001b[38;5;241m.\u001b[39mname, (\u001b[38;5;28mstr\u001b[39m, \u001b[38;5;28mbytes\u001b[39m))\n\u001b[1;32m    209\u001b[0m ):\n\u001b[1;32m    210\u001b[0m     \u001b[38;5;28;01mif\u001b[39;00m \u001b[38;5;28misinstance\u001b[39m(path_or_handle\u001b[38;5;241m.\u001b[39mname, \u001b[38;5;28mbytes\u001b[39m):\n",
      "File \u001b[0;32m~/miniforge3/envs/deltalake-no-spark/lib/python3.11/site-packages/pandas/io/parquet.py:117\u001b[0m, in \u001b[0;36m_get_path_or_handle\u001b[0;34m(path, fs, storage_options, mode, is_dir)\u001b[0m\n\u001b[1;32m    114\u001b[0m pa_fs \u001b[38;5;241m=\u001b[39m import_optional_dependency(\u001b[38;5;124m\"\u001b[39m\u001b[38;5;124mpyarrow.fs\u001b[39m\u001b[38;5;124m\"\u001b[39m)\n\u001b[1;32m    116\u001b[0m \u001b[38;5;28;01mtry\u001b[39;00m:\n\u001b[0;32m--> 117\u001b[0m     fs, path_or_handle \u001b[38;5;241m=\u001b[39m \u001b[43mpa_fs\u001b[49m\u001b[38;5;241;43m.\u001b[39;49m\u001b[43mFileSystem\u001b[49m\u001b[38;5;241;43m.\u001b[39;49m\u001b[43mfrom_uri\u001b[49m\u001b[43m(\u001b[49m\u001b[43mpath\u001b[49m\u001b[43m)\u001b[49m\n\u001b[1;32m    118\u001b[0m \u001b[38;5;28;01mexcept\u001b[39;00m (\u001b[38;5;167;01mTypeError\u001b[39;00m, pa\u001b[38;5;241m.\u001b[39mArrowInvalid):\n\u001b[1;32m    119\u001b[0m     \u001b[38;5;28;01mpass\u001b[39;00m\n",
      "File \u001b[0;32m~/miniforge3/envs/deltalake-no-spark/lib/python3.11/site-packages/pyarrow/_fs.pyx:471\u001b[0m, in \u001b[0;36mpyarrow._fs.FileSystem.from_uri\u001b[0;34m()\u001b[0m\n",
      "File \u001b[0;32m~/miniforge3/envs/deltalake-no-spark/lib/python3.11/site-packages/pyarrow/error.pxi:154\u001b[0m, in \u001b[0;36mpyarrow.lib.pyarrow_internal_check_status\u001b[0;34m()\u001b[0m\n",
      "File \u001b[0;32m~/miniforge3/envs/deltalake-no-spark/lib/python3.11/site-packages/pyarrow/error.pxi:91\u001b[0m, in \u001b[0;36mpyarrow.lib.check_status\u001b[0;34m()\u001b[0m\n",
      "\u001b[0;31mArrowNotImplementedError\u001b[0m: Got Azure Blob File System URI but Arrow compiled without Azure Blob File System support"
     ]
    }
   ],
   "source": [
    "df.to_parquet(f'abfs://test-container/test.parquet')"
   ]
  },
  {
   "cell_type": "code",
   "execution_count": 9,
   "id": "53f7ad6c-5fad-4823-acde-7d231b326dbb",
   "metadata": {},
   "outputs": [],
   "source": [
    "azure_connection_string = \"\"\n",
    "container_name = \"test-container\""
   ]
  },
  {
   "cell_type": "code",
   "execution_count": 10,
   "id": "da8fd825-611a-48fc-bc35-6d8487b126a5",
   "metadata": {
    "scrolled": true
   },
   "outputs": [
    {
     "name": "stdout",
     "output_type": "stream",
     "text": [
      "Requirement already satisfied: adlfs in /Users/rpelgrim/miniforge3/envs/deltalake-no-spark/lib/python3.11/site-packages (2024.7.0)\n",
      "Requirement already satisfied: fastparquet in /Users/rpelgrim/miniforge3/envs/deltalake-no-spark/lib/python3.11/site-packages (2024.5.0)\n",
      "Requirement already satisfied: fsspec in /Users/rpelgrim/miniforge3/envs/deltalake-no-spark/lib/python3.11/site-packages (2024.5.0)\n",
      "Requirement already satisfied: azure-core<2.0.0,>=1.23.1 in /Users/rpelgrim/miniforge3/envs/deltalake-no-spark/lib/python3.11/site-packages (from adlfs) (1.31.0)\n",
      "Requirement already satisfied: azure-datalake-store<0.1,>=0.0.46 in /Users/rpelgrim/miniforge3/envs/deltalake-no-spark/lib/python3.11/site-packages (from adlfs) (0.0.53)\n",
      "Requirement already satisfied: azure-identity in /Users/rpelgrim/miniforge3/envs/deltalake-no-spark/lib/python3.11/site-packages (from adlfs) (1.18.0)\n",
      "Requirement already satisfied: azure-storage-blob>=12.12.0 in /Users/rpelgrim/miniforge3/envs/deltalake-no-spark/lib/python3.11/site-packages (from adlfs) (12.23.0)\n",
      "Requirement already satisfied: aiohttp>=3.7.0 in /Users/rpelgrim/miniforge3/envs/deltalake-no-spark/lib/python3.11/site-packages (from adlfs) (3.10.6)\n",
      "Requirement already satisfied: pandas>=1.5.0 in /Users/rpelgrim/miniforge3/envs/deltalake-no-spark/lib/python3.11/site-packages (from fastparquet) (2.2.2)\n",
      "Requirement already satisfied: numpy in /Users/rpelgrim/miniforge3/envs/deltalake-no-spark/lib/python3.11/site-packages (from fastparquet) (1.26.4)\n",
      "Requirement already satisfied: cramjam>=2.3 in /Users/rpelgrim/miniforge3/envs/deltalake-no-spark/lib/python3.11/site-packages (from fastparquet) (2.8.4)\n",
      "Requirement already satisfied: packaging in /Users/rpelgrim/miniforge3/envs/deltalake-no-spark/lib/python3.11/site-packages (from fastparquet) (24.0)\n",
      "Requirement already satisfied: aiohappyeyeballs>=2.3.0 in /Users/rpelgrim/miniforge3/envs/deltalake-no-spark/lib/python3.11/site-packages (from aiohttp>=3.7.0->adlfs) (2.4.0)\n",
      "Requirement already satisfied: aiosignal>=1.1.2 in /Users/rpelgrim/miniforge3/envs/deltalake-no-spark/lib/python3.11/site-packages (from aiohttp>=3.7.0->adlfs) (1.3.1)\n",
      "Requirement already satisfied: attrs>=17.3.0 in /Users/rpelgrim/miniforge3/envs/deltalake-no-spark/lib/python3.11/site-packages (from aiohttp>=3.7.0->adlfs) (23.2.0)\n",
      "Requirement already satisfied: frozenlist>=1.1.1 in /Users/rpelgrim/miniforge3/envs/deltalake-no-spark/lib/python3.11/site-packages (from aiohttp>=3.7.0->adlfs) (1.4.1)\n",
      "Requirement already satisfied: multidict<7.0,>=4.5 in /Users/rpelgrim/miniforge3/envs/deltalake-no-spark/lib/python3.11/site-packages (from aiohttp>=3.7.0->adlfs) (6.1.0)\n",
      "Requirement already satisfied: yarl<2.0,>=1.12.0 in /Users/rpelgrim/miniforge3/envs/deltalake-no-spark/lib/python3.11/site-packages (from aiohttp>=3.7.0->adlfs) (1.12.1)\n",
      "Requirement already satisfied: requests>=2.21.0 in /Users/rpelgrim/miniforge3/envs/deltalake-no-spark/lib/python3.11/site-packages (from azure-core<2.0.0,>=1.23.1->adlfs) (2.32.2)\n",
      "Requirement already satisfied: six>=1.11.0 in /Users/rpelgrim/miniforge3/envs/deltalake-no-spark/lib/python3.11/site-packages (from azure-core<2.0.0,>=1.23.1->adlfs) (1.16.0)\n",
      "Requirement already satisfied: typing-extensions>=4.6.0 in /Users/rpelgrim/miniforge3/envs/deltalake-no-spark/lib/python3.11/site-packages (from azure-core<2.0.0,>=1.23.1->adlfs) (4.11.0)\n",
      "Requirement already satisfied: cffi in /Users/rpelgrim/miniforge3/envs/deltalake-no-spark/lib/python3.11/site-packages (from azure-datalake-store<0.1,>=0.0.46->adlfs) (1.16.0)\n",
      "Requirement already satisfied: msal<2,>=1.16.0 in /Users/rpelgrim/miniforge3/envs/deltalake-no-spark/lib/python3.11/site-packages (from azure-datalake-store<0.1,>=0.0.46->adlfs) (1.31.0)\n",
      "Requirement already satisfied: cryptography>=2.1.4 in /Users/rpelgrim/miniforge3/envs/deltalake-no-spark/lib/python3.11/site-packages (from azure-storage-blob>=12.12.0->adlfs) (43.0.1)\n",
      "Requirement already satisfied: isodate>=0.6.1 in /Users/rpelgrim/miniforge3/envs/deltalake-no-spark/lib/python3.11/site-packages (from azure-storage-blob>=12.12.0->adlfs) (0.6.1)\n",
      "Requirement already satisfied: python-dateutil>=2.8.2 in /Users/rpelgrim/miniforge3/envs/deltalake-no-spark/lib/python3.11/site-packages (from pandas>=1.5.0->fastparquet) (2.9.0)\n",
      "Requirement already satisfied: pytz>=2020.1 in /Users/rpelgrim/miniforge3/envs/deltalake-no-spark/lib/python3.11/site-packages (from pandas>=1.5.0->fastparquet) (2024.1)\n",
      "Requirement already satisfied: tzdata>=2022.7 in /Users/rpelgrim/miniforge3/envs/deltalake-no-spark/lib/python3.11/site-packages (from pandas>=1.5.0->fastparquet) (2024.1)\n",
      "Requirement already satisfied: msal-extensions>=1.2.0 in /Users/rpelgrim/miniforge3/envs/deltalake-no-spark/lib/python3.11/site-packages (from azure-identity->adlfs) (1.2.0)\n",
      "Requirement already satisfied: pycparser in /Users/rpelgrim/miniforge3/envs/deltalake-no-spark/lib/python3.11/site-packages (from cffi->azure-datalake-store<0.1,>=0.0.46->adlfs) (2.22)\n",
      "Requirement already satisfied: PyJWT<3,>=1.0.0 in /Users/rpelgrim/miniforge3/envs/deltalake-no-spark/lib/python3.11/site-packages (from PyJWT[crypto]<3,>=1.0.0->msal<2,>=1.16.0->azure-datalake-store<0.1,>=0.0.46->adlfs) (2.9.0)\n",
      "Requirement already satisfied: portalocker<3,>=1.4 in /Users/rpelgrim/miniforge3/envs/deltalake-no-spark/lib/python3.11/site-packages (from msal-extensions>=1.2.0->azure-identity->adlfs) (2.10.1)\n",
      "Requirement already satisfied: charset-normalizer<4,>=2 in /Users/rpelgrim/miniforge3/envs/deltalake-no-spark/lib/python3.11/site-packages (from requests>=2.21.0->azure-core<2.0.0,>=1.23.1->adlfs) (3.3.2)\n",
      "Requirement already satisfied: idna<4,>=2.5 in /Users/rpelgrim/miniforge3/envs/deltalake-no-spark/lib/python3.11/site-packages (from requests>=2.21.0->azure-core<2.0.0,>=1.23.1->adlfs) (3.7)\n",
      "Requirement already satisfied: urllib3<3,>=1.21.1 in /Users/rpelgrim/miniforge3/envs/deltalake-no-spark/lib/python3.11/site-packages (from requests>=2.21.0->azure-core<2.0.0,>=1.23.1->adlfs) (2.2.1)\n",
      "Requirement already satisfied: certifi>=2017.4.17 in /Users/rpelgrim/miniforge3/envs/deltalake-no-spark/lib/python3.11/site-packages (from requests>=2.21.0->azure-core<2.0.0,>=1.23.1->adlfs) (2024.2.2)\n"
     ]
    }
   ],
   "source": [
    "!pip install adlfs fastparquet fsspec"
   ]
  },
  {
   "cell_type": "code",
   "execution_count": 15,
   "id": "8e9842ab-00dd-4c4e-a9eb-7fcf423b0690",
   "metadata": {},
   "outputs": [],
   "source": [
    "df.to_parquet(f'abfs://{container_name}/test.parquet', storage_options={'connection_string':azure_connection_string})"
   ]
  },
  {
   "cell_type": "code",
   "execution_count": 16,
   "id": "c95b0eaa-66b7-4b1d-9f72-895e44bae1bf",
   "metadata": {},
   "outputs": [
    {
     "data": {
      "text/html": [
       "<div>\n",
       "<style scoped>\n",
       "    .dataframe tbody tr th:only-of-type {\n",
       "        vertical-align: middle;\n",
       "    }\n",
       "\n",
       "    .dataframe tbody tr th {\n",
       "        vertical-align: top;\n",
       "    }\n",
       "\n",
       "    .dataframe thead th {\n",
       "        text-align: right;\n",
       "    }\n",
       "</style>\n",
       "<table border=\"1\" class=\"dataframe\">\n",
       "  <thead>\n",
       "    <tr style=\"text-align: right;\">\n",
       "      <th></th>\n",
       "      <th>Column1</th>\n",
       "      <th>Column2</th>\n",
       "    </tr>\n",
       "  </thead>\n",
       "  <tbody>\n",
       "    <tr>\n",
       "      <th>0</th>\n",
       "      <td>4</td>\n",
       "      <td>D</td>\n",
       "    </tr>\n",
       "    <tr>\n",
       "      <th>1</th>\n",
       "      <td>5</td>\n",
       "      <td>E</td>\n",
       "    </tr>\n",
       "    <tr>\n",
       "      <th>2</th>\n",
       "      <td>6</td>\n",
       "      <td>F</td>\n",
       "    </tr>\n",
       "  </tbody>\n",
       "</table>\n",
       "</div>"
      ],
      "text/plain": [
       "   Column1 Column2\n",
       "0        4       D\n",
       "1        5       E\n",
       "2        6       F"
      ]
     },
     "execution_count": 16,
     "metadata": {},
     "output_type": "execute_result"
    }
   ],
   "source": [
    "pd.read_parquet(f'abfs://{container_name}/test.parquet', storage_options={'connection_string':azure_connection_string})"
   ]
  },
  {
   "cell_type": "markdown",
   "id": "a921f63d-a5de-4646-bdc2-155ee0e164a1",
   "metadata": {},
   "source": [
    "Nice. This works for Parquet with pandas.\n",
    "\n",
    "Let's now try Delta with pandas. Then Delta with polars."
   ]
  },
  {
   "cell_type": "code",
   "execution_count": 7,
   "id": "8b8fea5d-2d8e-41bc-8bef-7aa2137b14ba",
   "metadata": {},
   "outputs": [],
   "source": [
    "from deltalake import write_deltalake"
   ]
  },
  {
   "cell_type": "code",
   "execution_count": 12,
   "id": "f56cace1-5461-4c0e-99d2-e01b35e05864",
   "metadata": {},
   "outputs": [],
   "source": [
    "write_deltalake(\n",
    "    f\"abfs://{container_name}/delta_table_pandas\", \n",
    "    df,\n",
    "    storage_options=storage_options\n",
    ")"
   ]
  },
  {
   "cell_type": "code",
   "execution_count": null,
   "id": "620c937e-6bbe-4288-bfa3-79150464a545",
   "metadata": {},
   "outputs": [],
   "source": []
  },
  {
   "cell_type": "code",
   "execution_count": null,
   "id": "ef23fc10-f9ba-4641-9d8d-004bfad74562",
   "metadata": {},
   "outputs": [],
   "source": []
  },
  {
   "cell_type": "markdown",
   "id": "974e61e4-7a97-4c00-b948-cb8ea4fdb872",
   "metadata": {},
   "source": [
    "## Polars"
   ]
  },
  {
   "cell_type": "code",
   "execution_count": 1,
   "id": "b4c71bd6-7fbf-4bd4-be93-d9c72cfe6147",
   "metadata": {},
   "outputs": [],
   "source": [
    "import polars as pl"
   ]
  },
  {
   "cell_type": "code",
   "execution_count": 2,
   "id": "9d3ed5c6-cfdb-45d0-ba6e-232a65ec05f1",
   "metadata": {},
   "outputs": [],
   "source": [
    "df_pl = pl.DataFrame(\n",
    "    {\n",
    "        \"foo\": [1, 2, 3, 4, 5],\n",
    "        \"bar\": [6, 7, 8, 9, 10],\n",
    "        \"ham\": [\"a\", \"b\", \"c\", \"d\", \"e\"],\n",
    "    }\n",
    ")"
   ]
  },
  {
   "cell_type": "code",
   "execution_count": 8,
   "id": "000adbc4-65f9-4ac8-beb6-865d2fa2799c",
   "metadata": {},
   "outputs": [
    {
     "ename": "FileNotFoundError",
     "evalue": "No such file or directory (os error 2)",
     "output_type": "error",
     "traceback": [
      "\u001b[0;31m---------------------------------------------------------------------------\u001b[0m",
      "\u001b[0;31mFileNotFoundError\u001b[0m                         Traceback (most recent call last)",
      "\u001b[0;32m/var/folders/ky/bqjn_gxn1xv0cn_8q5xvp3q40000gn/T/ipykernel_78472/2582175042.py\u001b[0m in \u001b[0;36m?\u001b[0;34m()\u001b[0m\n\u001b[1;32m      1\u001b[0m \u001b[0;31m# no storage_options\u001b[0m\u001b[0;34m\u001b[0m\u001b[0;34m\u001b[0m\u001b[0m\n\u001b[0;32m----> 2\u001b[0;31m \u001b[0mdf_pl\u001b[0m\u001b[0;34m.\u001b[0m\u001b[0mwrite_parquet\u001b[0m\u001b[0;34m(\u001b[0m\u001b[0;34mf'abfs://test-container/test2.parquet'\u001b[0m\u001b[0;34m)\u001b[0m\u001b[0;34m\u001b[0m\u001b[0;34m\u001b[0m\u001b[0m\n\u001b[0m",
      "\u001b[0;32m~/miniforge3/envs/deltalake-no-spark/lib/python3.11/site-packages/polars/dataframe/frame.py\u001b[0m in \u001b[0;36m?\u001b[0;34m(self, file, compression, compression_level, statistics, row_group_size, data_page_size, use_pyarrow, pyarrow_options)\u001b[0m\n\u001b[1;32m   3288\u001b[0m                     \u001b[0;34m**\u001b[0m\u001b[0;34m(\u001b[0m\u001b[0mpyarrow_options\u001b[0m \u001b[0;32mor\u001b[0m \u001b[0;34m{\u001b[0m\u001b[0;34m}\u001b[0m\u001b[0;34m)\u001b[0m\u001b[0;34m,\u001b[0m\u001b[0;34m\u001b[0m\u001b[0;34m\u001b[0m\u001b[0m\n\u001b[1;32m   3289\u001b[0m                 )\n\u001b[1;32m   3290\u001b[0m \u001b[0;34m\u001b[0m\u001b[0m\n\u001b[1;32m   3291\u001b[0m         \u001b[0;32melse\u001b[0m\u001b[0;34m:\u001b[0m\u001b[0;34m\u001b[0m\u001b[0;34m\u001b[0m\u001b[0m\n\u001b[0;32m-> 3292\u001b[0;31m             self._df.write_parquet(\n\u001b[0m\u001b[1;32m   3293\u001b[0m                 \u001b[0mfile\u001b[0m\u001b[0;34m,\u001b[0m\u001b[0;34m\u001b[0m\u001b[0;34m\u001b[0m\u001b[0m\n\u001b[1;32m   3294\u001b[0m                 \u001b[0mcompression\u001b[0m\u001b[0;34m,\u001b[0m\u001b[0;34m\u001b[0m\u001b[0;34m\u001b[0m\u001b[0m\n\u001b[1;32m   3295\u001b[0m                 \u001b[0mcompression_level\u001b[0m\u001b[0;34m,\u001b[0m\u001b[0;34m\u001b[0m\u001b[0;34m\u001b[0m\u001b[0m\n",
      "\u001b[0;31mFileNotFoundError\u001b[0m: No such file or directory (os error 2)"
     ]
    }
   ],
   "source": [
    "# # no storage_options\n",
    "# df_pl.write_parquet(f'abfs://test-container/test2.parquet')"
   ]
  },
  {
   "cell_type": "code",
   "execution_count": 3,
   "id": "fdae830f-67ab-43b8-885b-442a68c72fbf",
   "metadata": {},
   "outputs": [],
   "source": [
    "storage_options = {\n",
    "    \"ACCOUNT_NAME\": \"avriiil\",\n",
    "    \"ACCESS_KEY\": \"\",\n",
    "}"
   ]
  },
  {
   "cell_type": "code",
   "execution_count": 5,
   "id": "1576fa7d-8fd4-4b8d-9457-58aad4883d34",
   "metadata": {},
   "outputs": [],
   "source": [
    "container_name = \"test-container\""
   ]
  },
  {
   "cell_type": "code",
   "execution_count": 6,
   "id": "0b225746-31f1-49f4-9f6f-f53e56c5b5e4",
   "metadata": {},
   "outputs": [],
   "source": [
    "df_pl.write_delta(\n",
    "    f\"abfs://{container_name}/delta_table2\",\n",
    "    mode=\"overwrite\",\n",
    "    storage_options = storage_options\n",
    ")"
   ]
  },
  {
   "cell_type": "code",
   "execution_count": null,
   "id": "daeadf0b-c4b1-4ee8-8a63-403bec238962",
   "metadata": {},
   "outputs": [],
   "source": []
  },
  {
   "cell_type": "code",
   "execution_count": 14,
   "id": "fbc52333-2536-4020-b043-2c01e1e08a7e",
   "metadata": {},
   "outputs": [
    {
     "data": {
      "text/html": [
       "<div><style>\n",
       ".dataframe > thead > tr,\n",
       ".dataframe > tbody > tr {\n",
       "  text-align: right;\n",
       "  white-space: pre-wrap;\n",
       "}\n",
       "</style>\n",
       "<small>shape: (5, 3)</small><table border=\"1\" class=\"dataframe\"><thead><tr><th>foo</th><th>bar</th><th>ham</th></tr><tr><td>i64</td><td>i64</td><td>str</td></tr></thead><tbody><tr><td>1</td><td>6</td><td>&quot;a&quot;</td></tr><tr><td>2</td><td>7</td><td>&quot;b&quot;</td></tr><tr><td>3</td><td>8</td><td>&quot;c&quot;</td></tr><tr><td>4</td><td>9</td><td>&quot;d&quot;</td></tr><tr><td>5</td><td>10</td><td>&quot;e&quot;</td></tr></tbody></table></div>"
      ],
      "text/plain": [
       "shape: (5, 3)\n",
       "┌─────┬─────┬─────┐\n",
       "│ foo ┆ bar ┆ ham │\n",
       "│ --- ┆ --- ┆ --- │\n",
       "│ i64 ┆ i64 ┆ str │\n",
       "╞═════╪═════╪═════╡\n",
       "│ 1   ┆ 6   ┆ a   │\n",
       "│ 2   ┆ 7   ┆ b   │\n",
       "│ 3   ┆ 8   ┆ c   │\n",
       "│ 4   ┆ 9   ┆ d   │\n",
       "│ 5   ┆ 10  ┆ e   │\n",
       "└─────┴─────┴─────┘"
      ]
     },
     "execution_count": 14,
     "metadata": {},
     "output_type": "execute_result"
    }
   ],
   "source": [
    "pl.read_delta(\n",
    "    f\"abfs://{container_name}/delta_table\", \n",
    "    storage_options = storage_options   \n",
    ")"
   ]
  },
  {
   "cell_type": "code",
   "execution_count": null,
   "id": "8411d57a-753f-480f-b3ae-34f0bf77d7fe",
   "metadata": {},
   "outputs": [],
   "source": []
  },
  {
   "cell_type": "code",
   "execution_count": null,
   "id": "bb0af350-9dcd-4e61-8706-f29b7d7d5380",
   "metadata": {},
   "outputs": [],
   "source": []
  },
  {
   "cell_type": "code",
   "execution_count": null,
   "id": "be762c96-6f36-415a-a9dc-a490cef589cb",
   "metadata": {},
   "outputs": [],
   "source": []
  },
  {
   "cell_type": "code",
   "execution_count": null,
   "id": "6decb05e-0938-4289-9771-f3e1b1f538c2",
   "metadata": {},
   "outputs": [],
   "source": [
    "table_path = \"az://container/path/to/delta-table/\"\n",
    "storage_options = {\n",
    "    \"AZURE_STORAGE_ACCOUNT_NAME\": \"AZURE_STORAGE_ACCOUNT_NAME\",\n",
    "    \"AZURE_STORAGE_ACCOUNT_KEY\": \"AZURE_STORAGE_ACCOUNT_KEY\",\n",
    "}\n",
    "pl.read_delta(table_path, storage_options=storage_options)  "
   ]
  },
  {
   "cell_type": "code",
   "execution_count": null,
   "id": "d06e31bb-38b3-4ff0-9158-c8b453b25c2f",
   "metadata": {},
   "outputs": [],
   "source": [
    "df.write_parquet(\"gs://avriiil/test-df.parquet\", use_pyarrow=True)"
   ]
  },
  {
   "cell_type": "code",
   "execution_count": null,
   "id": "8f15e931-e641-4b9c-a5f7-1f44fcbea940",
   "metadata": {},
   "outputs": [],
   "source": [
    "df.write_delta(\n",
    "    table_path,\n",
    "    # storage_options={\n",
    "    #     \"SERVICE_ACCOUNT\": \"THE_AWS_REGION\",\n",
    "    #     \"SERVICE_ACCOUNT_KEY\": \"THE_AWS_ACCESS_KEY_ID\",\n",
    "    #     \"AWS_SECRET_ACCESS_KEY\": \"THE_AWS_SECRET_ACCESS_KEY\",\n",
    "    # },\n",
    ")  "
   ]
  },
  {
   "cell_type": "code",
   "execution_count": null,
   "id": "1a1f3434-f61f-42dd-8ace-45136423e2a7",
   "metadata": {},
   "outputs": [],
   "source": [
    "df_read = pl.read_delta(table_path)"
   ]
  },
  {
   "cell_type": "code",
   "execution_count": null,
   "id": "a62047c2-ef4e-4bcb-a55f-7ddfffdd5bb4",
   "metadata": {},
   "outputs": [],
   "source": [
    "df_read"
   ]
  }
 ],
 "metadata": {
  "kernelspec": {
   "display_name": "Python 3 (ipykernel)",
   "language": "python",
   "name": "python3"
  },
  "language_info": {
   "codemirror_mode": {
    "name": "ipython",
    "version": 3
   },
   "file_extension": ".py",
   "mimetype": "text/x-python",
   "name": "python",
   "nbconvert_exporter": "python",
   "pygments_lexer": "ipython3",
   "version": "3.12.6"
  }
 },
 "nbformat": 4,
 "nbformat_minor": 5
}
