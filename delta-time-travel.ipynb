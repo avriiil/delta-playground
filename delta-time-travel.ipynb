{
 "cells": [
  {
   "cell_type": "markdown",
   "id": "25f52635-fce0-402f-99bf-6698554914ee",
   "metadata": {},
   "source": [
    "# Delta Lake Time Travel"
   ]
  },
  {
   "cell_type": "code",
   "execution_count": 1,
   "id": "6965b7fc-416a-43ba-a778-94a1692f6aae",
   "metadata": {},
   "outputs": [],
   "source": [
    "import pyspark\n",
    "from delta import *\n",
    "\n",
    "conf = (\n",
    "    pyspark.conf.SparkConf()\n",
    "    .setAppName(\"MY_APP\") # replace with your desired name\n",
    "    .set(\"spark.sql.catalog.spark_catalog\",\"org.apache.spark.sql.delta.catalog.DeltaCatalog\")\n",
    "    .set(\"spark.sql.extensions\", \"io.delta.sql.DeltaSparkSessionExtension\")\n",
    "    .set(\"spark.sql.shuffle.partitions\", \"4\") # default is 200 partitions which is too many for local\n",
    "    .setMaster(\"local[*]\") # replace the * with your desired number of cores. * for use all.\n",
    ")\n",
    "\n",
    "builder = pyspark.sql.SparkSession.builder.appName(\"MyApp\").config(conf=conf)\n",
    "spark = configure_spark_with_delta_pip(builder).getOrCreate()"
   ]
  },
  {
   "cell_type": "code",
   "execution_count": null,
   "id": "662652cd-ee8b-466b-85f8-dca96a9a96a2",
   "metadata": {},
   "outputs": [],
   "source": []
  },
  {
   "cell_type": "code",
   "execution_count": null,
   "id": "e974656f-5cbc-419a-879b-72981bb4b13b",
   "metadata": {},
   "outputs": [],
   "source": []
  },
  {
   "cell_type": "code",
   "execution_count": null,
   "id": "ae95f2bc-254b-4e89-a4b2-213991975471",
   "metadata": {},
   "outputs": [],
   "source": []
  },
  {
   "cell_type": "code",
   "execution_count": 3,
   "id": "9c02ddcf-20bf-4555-a546-9fa963711631",
   "metadata": {},
   "outputs": [],
   "source": [
    "# create delta table with 3 rows\n",
    "df = spark.range(0, 3)\n",
    "df.repartition(1).write.format(\"delta\").save(\"tmp/some_nums\")\n",
    "\n",
    "# append 3 more rows\n",
    "df = spark.range(8, 11)\n",
    "df.repartition(1).write.mode(\"append\").format(\"delta\").save(\"tmp/some_nums\")\n",
    "\n",
    "# overwrite new data\n",
    "df = spark.createDataFrame([(55,), (66,), (77,)]).toDF(\"id\")\n",
    "df.repartition(1).write.mode(\"overwrite\").format(\"delta\").save(\"tmp/some_nums\")"
   ]
  },
  {
   "cell_type": "code",
   "execution_count": 5,
   "id": "a36966cc-43be-4466-ac3b-c307a794673e",
   "metadata": {},
   "outputs": [
    {
     "name": "stdout",
     "output_type": "stream",
     "text": [
      "+---+\n",
      "| id|\n",
      "+---+\n",
      "| 55|\n",
      "| 66|\n",
      "| 77|\n",
      "+---+\n",
      "\n"
     ]
    }
   ],
   "source": [
    "# read latest version\n",
    "spark.read.format(\"delta\").load(\"tmp/some_nums\").show()"
   ]
  },
  {
   "cell_type": "code",
   "execution_count": 6,
   "id": "cdf355cf-d3a5-4950-9fba-e41febf26b52",
   "metadata": {},
   "outputs": [
    {
     "name": "stdout",
     "output_type": "stream",
     "text": [
      "+---+\n",
      "| id|\n",
      "+---+\n",
      "|  8|\n",
      "|  9|\n",
      "| 10|\n",
      "|  0|\n",
      "|  1|\n",
      "|  2|\n",
      "+---+\n",
      "\n"
     ]
    }
   ],
   "source": [
    "# read earlier version by timestamp\n",
    "spark.read.format(\"delta\").option(\"timestampAsOf\", \"2024-06-11 14:57:41\").load(\"tmp/some_nums\").show()"
   ]
  },
  {
   "cell_type": "code",
   "execution_count": 7,
   "id": "e0c5702a-f2e1-4989-ad45-f533d0bf4888",
   "metadata": {},
   "outputs": [
    {
     "name": "stdout",
     "output_type": "stream",
     "text": [
      "+---+\n",
      "| id|\n",
      "+---+\n",
      "|  0|\n",
      "|  1|\n",
      "|  2|\n",
      "+---+\n",
      "\n"
     ]
    }
   ],
   "source": [
    "# read first version\n",
    "spark.read.format(\"delta\").option(\"versionAsOf\", \"0\").load(\"tmp/some_nums\").show()"
   ]
  },
  {
   "cell_type": "code",
   "execution_count": 4,
   "id": "8b8af867-0ff6-4936-ae21-be427aa1b1ee",
   "metadata": {},
   "outputs": [
    {
     "name": "stdout",
     "output_type": "stream",
     "text": [
      "+-------+-----------------------+---------+\n",
      "|version|timestamp              |operation|\n",
      "+-------+-----------------------+---------+\n",
      "|2      |2024-06-11 14:57:52.721|WRITE    |\n",
      "|1      |2024-06-11 14:57:40.59 |WRITE    |\n",
      "|0      |2024-06-11 14:57:38.809|WRITE    |\n",
      "+-------+-----------------------+---------+\n",
      "\n"
     ]
    }
   ],
   "source": [
    "# look at version history\n",
    "from delta.tables import DeltaTable\n",
    "\n",
    "delta_table = DeltaTable.forPath(spark, \"tmp/some_nums\")\n",
    "delta_table.history().select(\"version\", \"timestamp\", \"operation\").show(truncate=False)"
   ]
  },
  {
   "cell_type": "code",
   "execution_count": null,
   "id": "7f605af9-4508-4cbc-91c0-c0e872ffb8ec",
   "metadata": {},
   "outputs": [],
   "source": []
  },
  {
   "cell_type": "code",
   "execution_count": null,
   "id": "4ebec55d-7b0f-4959-a339-b8e7ffadbaf9",
   "metadata": {},
   "outputs": [],
   "source": []
  },
  {
   "cell_type": "code",
   "execution_count": null,
   "id": "64b5bac2-a9d2-4c76-9ef0-6e3e53d86978",
   "metadata": {},
   "outputs": [],
   "source": []
  },
  {
   "cell_type": "code",
   "execution_count": null,
   "id": "c3ca83a0-f98d-468e-b489-ca27ed939e4f",
   "metadata": {},
   "outputs": [],
   "source": []
  }
 ],
 "metadata": {
  "kernelspec": {
   "display_name": "Python 3 (ipykernel)",
   "language": "python",
   "name": "python3"
  },
  "language_info": {
   "codemirror_mode": {
    "name": "ipython",
    "version": 3
   },
   "file_extension": ".py",
   "mimetype": "text/x-python",
   "name": "python",
   "nbconvert_exporter": "python",
   "pygments_lexer": "ipython3",
   "version": "3.11.9"
  }
 },
 "nbformat": 4,
 "nbformat_minor": 5
}
