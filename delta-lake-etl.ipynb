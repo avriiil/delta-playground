{
 "cells": [
  {
   "cell_type": "markdown",
   "id": "b8e98271-77e5-4bf4-9862-330c1754b5d9",
   "metadata": {},
   "source": [
    "# Delta Lake for ETL"
   ]
  },
  {
   "cell_type": "code",
   "execution_count": null,
   "id": "dca4cb70-4503-4ac8-a28d-534d9132e31c",
   "metadata": {},
   "outputs": [],
   "source": []
  }
 ],
 "metadata": {
  "kernelspec": {
   "display_name": "Python 3 (ipykernel)",
   "language": "python",
   "name": "python3"
  },
  "language_info": {
   "codemirror_mode": {
    "name": "ipython",
    "version": 3
   },
   "file_extension": ".py",
   "mimetype": "text/x-python",
   "name": "python",
   "nbconvert_exporter": "python",
   "pygments_lexer": "ipython3",
   "version": "3.11.9"
  }
 },
 "nbformat": 4,
 "nbformat_minor": 5
}
