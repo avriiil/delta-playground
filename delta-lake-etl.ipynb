{
 "cells": [
  {
   "cell_type": "markdown",
   "id": "b8e98271-77e5-4bf4-9862-330c1754b5d9",
   "metadata": {},
   "source": [
    "# Delta Lake for ETL\n",
    "\n",
    "Project Workflow\n",
    "1. EXTRACT: Fetch PR data from Github\n",
    "2. TRANSFORM: subset + clean up text with regex\n",
    "3. LOAD: store as Delta Table\n",
    "\n",
    "Oh wait, we actually need usernames\n",
    "1. Get usernames\n",
    "2. Remove duplicates\n",
    "3. Join two tables\n",
    "4. Store as Delta Table: new column so **schema evolution** + **schema enforcement**\n",
    "\n",
    "Now we need to scale up\n",
    "1. Get more repos\n",
    "2. Partitioning / Query performance / Fetch multiple repos in parallel\n",
    "\n",
    "Make a mistake\n",
    "1. Time travel / Roll back\n",
    "\n",
    "Still to show:\n",
    "- ACID guarantees:\n",
    "- Time travel\n",
    "- "
   ]
  },
  {
   "cell_type": "code",
   "execution_count": 1,
   "id": "150f6740-797e-4b0f-9cd2-e2d29f6528b3",
   "metadata": {},
   "outputs": [],
   "source": [
    "import requests\n",
    "from datetime import datetime, timedelta\n",
    "from pyspark.sql import SparkSession\n",
    "from pyspark.sql.functions import col, lit\n",
    "from delta import *"
   ]
  },
  {
   "cell_type": "code",
   "execution_count": 2,
   "id": "b7a07aa0-a7d7-4827-8a9d-bb2998c36bd2",
   "metadata": {},
   "outputs": [],
   "source": [
    "builder = SparkSession.builder.master(\"local[4]\").appName(\"parallel\") \\\n",
    "    .config(\"spark.sql.extensions\", \"io.delta.sql.DeltaSparkSessionExtension\") \\\n",
    "    .config(\"spark.sql.catalog.spark_catalog\", \"org.apache.spark.sql.delta.catalog.DeltaCatalog\")\n",
    "\n",
    "spark = configure_spark_with_delta_pip(builder).getOrCreate()"
   ]
  },
  {
   "cell_type": "code",
   "execution_count": 21,
   "id": "0d7095dc-50ce-4afa-ae81-bfd9e082187d",
   "metadata": {},
   "outputs": [],
   "source": [
    "# Define the Delta table path\n",
    "delta_table_path = \"/data/github_data\"\n",
    "\n",
    "# Step 1: Fetch data from GitHub API\n",
    "def fetch_github_data():\n",
    "    # GitHub API URL\n",
    "    repo = \"delta-io/delta\"\n",
    "    end_date = datetime.now()\n",
    "    start_date = end_date - timedelta(days=1)\n",
    "    params = {\n",
    "        \"state\": \"all\",\n",
    "        \"since\": start_date.isoformat(),\n",
    "        \"per_page\": 100\n",
    "    }\n",
    "    \n",
    "    prs_url = f\"https://api.github.com/repos/{repo}/pulls\"\n",
    "    prs_response = requests.get(prs_url, params=params)\n",
    "    prs = prs_response.json()\n",
    "    \n",
    "    return prs #, issues"
   ]
  },
  {
   "cell_type": "code",
   "execution_count": 22,
   "id": "749d5034-2209-4601-8021-e0ed2b895196",
   "metadata": {},
   "outputs": [],
   "source": [
    "prs = fetch_github_data()"
   ]
  },
  {
   "cell_type": "code",
   "execution_count": 25,
   "id": "767d6270-7de1-45fd-9e9e-2816f2dbd6cd",
   "metadata": {},
   "outputs": [
    {
     "data": {
      "text/plain": [
       "100"
      ]
     },
     "execution_count": 25,
     "metadata": {},
     "output_type": "execute_result"
    }
   ],
   "source": [
    "len(prs)"
   ]
  },
  {
   "cell_type": "code",
   "execution_count": 23,
   "id": "f5a8f9a8-d082-4de5-84b0-551332c8d48a",
   "metadata": {
    "scrolled": true
   },
   "outputs": [
    {
     "data": {
      "text/plain": [
       "{'url': 'https://api.github.com/repos/delta-io/delta/pulls/3269',\n",
       " 'id': 1917635149,\n",
       " 'node_id': 'PR_kwDOCuYOpM5yTMpN',\n",
       " 'html_url': 'https://github.com/delta-io/delta/pull/3269',\n",
       " 'diff_url': 'https://github.com/delta-io/delta/pull/3269.diff',\n",
       " 'patch_url': 'https://github.com/delta-io/delta/pull/3269.patch',\n",
       " 'issue_url': 'https://api.github.com/repos/delta-io/delta/issues/3269',\n",
       " 'number': 3269,\n",
       " 'state': 'open',\n",
       " 'locked': False,\n",
       " 'title': '[Kernel] Add API on TxnBuilder to set the table properties',\n",
       " 'user': {'login': 'EstherBear',\n",
       "  'id': 55441375,\n",
       "  'node_id': 'MDQ6VXNlcjU1NDQxMzc1',\n",
       "  'avatar_url': 'https://avatars.githubusercontent.com/u/55441375?v=4',\n",
       "  'gravatar_id': '',\n",
       "  'url': 'https://api.github.com/users/EstherBear',\n",
       "  'html_url': 'https://github.com/EstherBear',\n",
       "  'followers_url': 'https://api.github.com/users/EstherBear/followers',\n",
       "  'following_url': 'https://api.github.com/users/EstherBear/following{/other_user}',\n",
       "  'gists_url': 'https://api.github.com/users/EstherBear/gists{/gist_id}',\n",
       "  'starred_url': 'https://api.github.com/users/EstherBear/starred{/owner}{/repo}',\n",
       "  'subscriptions_url': 'https://api.github.com/users/EstherBear/subscriptions',\n",
       "  'organizations_url': 'https://api.github.com/users/EstherBear/orgs',\n",
       "  'repos_url': 'https://api.github.com/users/EstherBear/repos',\n",
       "  'events_url': 'https://api.github.com/users/EstherBear/events{/privacy}',\n",
       "  'received_events_url': 'https://api.github.com/users/EstherBear/received_events',\n",
       "  'type': 'User',\n",
       "  'site_admin': False},\n",
       " 'body': 'Add API on `TransactionBuilder` to set the table properties.\\r\\n<!--\\r\\nThanks for sending a pull request!  Here are some tips for you:\\r\\n  1. If this is your first time, please read our contributor guidelines: https://github.com/delta-io/delta/blob/master/CONTRIBUTING.md\\r\\n  2. If the PR is unfinished, add \\'[WIP]\\' in your PR title, e.g., \\'[WIP] Your PR title ...\\'.\\r\\n  3. Be sure to keep the PR description updated to reflect all changes.\\r\\n  4. Please write your PR title to summarize what this PR proposes.\\r\\n  5. If possible, provide a concise example to reproduce the issue for a faster review.\\r\\n  6. If applicable, include the corresponding issue number in the PR title and link it in the body.\\r\\n-->\\r\\n\\r\\n#### Which Delta project/connector is this regarding?\\r\\n<!--\\r\\nPlease add the component selected below to the beginning of the pull request title\\r\\nFor example: [Spark] Title of my pull request\\r\\n-->\\r\\n\\r\\n- [ ] Spark\\r\\n- [ ] Standalone\\r\\n- [ ] Flink\\r\\n- [x] Kernel\\r\\n- [ ] Other (fill in here)\\r\\n\\r\\n## Description\\r\\n\\r\\n<!--\\r\\n- Describe what this PR changes.\\r\\n- Describe why we need the change.\\r\\n \\r\\nIf this PR resolves an issue be sure to include \"Resolves #XXX\" to correctly link and close the issue upon merge.\\r\\n-->\\r\\nAdds an API to `TransactionBuilder` to set the table properties to provide a way to configure the table by committing a transaction. For example, user can enable inCommitTimestamp property with this API.\\r\\n\\r\\n## How was this patch tested?\\r\\n\\r\\n<!--\\r\\nIf tests were added, say they were added here. Please make sure to test the changes thoroughly including negative and positive cases if possible.\\r\\nIf the changes were tested in any way other than unit tests, please clarify how you tested step by step (ideally copy and paste-able, so that other reviewers can test and check, and descendants can verify in the future).\\r\\nIf the changes were not tested, please explain why.\\r\\n-->\\r\\nAdds unit tests when setting valid and invalid properties with this API.\\r\\n\\r\\n## Does this PR introduce _any_ user-facing changes?\\r\\n\\r\\n<!--\\r\\nIf yes, please clarify the previous behavior and the change this PR proposes - provide the console output, description and/or an example to show the behavior difference if possible.\\r\\nIf possible, please also clarify if this is a user-facing change compared to the released Delta Lake versions or within the unreleased branches such as master.\\r\\nIf no, write \\'No\\'.\\r\\n-->\\r\\nYes, user can use this API to set table properties.\\r\\n',\n",
       " 'created_at': '2024-06-13T01:22:47Z',\n",
       " 'updated_at': '2024-06-13T14:40:24Z',\n",
       " 'closed_at': None,\n",
       " 'merged_at': None,\n",
       " 'merge_commit_sha': 'aaad4615f2ddd8a6c6d9c443197a7fc5566db72f',\n",
       " 'assignee': None,\n",
       " 'assignees': [],\n",
       " 'requested_reviewers': [],\n",
       " 'requested_teams': [],\n",
       " 'labels': [],\n",
       " 'milestone': None,\n",
       " 'draft': False,\n",
       " 'commits_url': 'https://api.github.com/repos/delta-io/delta/pulls/3269/commits',\n",
       " 'review_comments_url': 'https://api.github.com/repos/delta-io/delta/pulls/3269/comments',\n",
       " 'review_comment_url': 'https://api.github.com/repos/delta-io/delta/pulls/comments{/number}',\n",
       " 'comments_url': 'https://api.github.com/repos/delta-io/delta/issues/3269/comments',\n",
       " 'statuses_url': 'https://api.github.com/repos/delta-io/delta/statuses/2e60f2358f176ab4b4219350b53c2ff7cf0060cc',\n",
       " 'head': {'label': 'EstherBear:add-property',\n",
       "  'ref': 'add-property',\n",
       "  'sha': '2e60f2358f176ab4b4219350b53c2ff7cf0060cc',\n",
       "  'user': {'login': 'EstherBear',\n",
       "   'id': 55441375,\n",
       "   'node_id': 'MDQ6VXNlcjU1NDQxMzc1',\n",
       "   'avatar_url': 'https://avatars.githubusercontent.com/u/55441375?v=4',\n",
       "   'gravatar_id': '',\n",
       "   'url': 'https://api.github.com/users/EstherBear',\n",
       "   'html_url': 'https://github.com/EstherBear',\n",
       "   'followers_url': 'https://api.github.com/users/EstherBear/followers',\n",
       "   'following_url': 'https://api.github.com/users/EstherBear/following{/other_user}',\n",
       "   'gists_url': 'https://api.github.com/users/EstherBear/gists{/gist_id}',\n",
       "   'starred_url': 'https://api.github.com/users/EstherBear/starred{/owner}{/repo}',\n",
       "   'subscriptions_url': 'https://api.github.com/users/EstherBear/subscriptions',\n",
       "   'organizations_url': 'https://api.github.com/users/EstherBear/orgs',\n",
       "   'repos_url': 'https://api.github.com/users/EstherBear/repos',\n",
       "   'events_url': 'https://api.github.com/users/EstherBear/events{/privacy}',\n",
       "   'received_events_url': 'https://api.github.com/users/EstherBear/received_events',\n",
       "   'type': 'User',\n",
       "   'site_admin': False},\n",
       "  'repo': {'id': 805106777,\n",
       "   'node_id': 'R_kgDOL_z0WQ',\n",
       "   'name': 'delta',\n",
       "   'full_name': 'EstherBear/delta',\n",
       "   'private': False,\n",
       "   'owner': {'login': 'EstherBear',\n",
       "    'id': 55441375,\n",
       "    'node_id': 'MDQ6VXNlcjU1NDQxMzc1',\n",
       "    'avatar_url': 'https://avatars.githubusercontent.com/u/55441375?v=4',\n",
       "    'gravatar_id': '',\n",
       "    'url': 'https://api.github.com/users/EstherBear',\n",
       "    'html_url': 'https://github.com/EstherBear',\n",
       "    'followers_url': 'https://api.github.com/users/EstherBear/followers',\n",
       "    'following_url': 'https://api.github.com/users/EstherBear/following{/other_user}',\n",
       "    'gists_url': 'https://api.github.com/users/EstherBear/gists{/gist_id}',\n",
       "    'starred_url': 'https://api.github.com/users/EstherBear/starred{/owner}{/repo}',\n",
       "    'subscriptions_url': 'https://api.github.com/users/EstherBear/subscriptions',\n",
       "    'organizations_url': 'https://api.github.com/users/EstherBear/orgs',\n",
       "    'repos_url': 'https://api.github.com/users/EstherBear/repos',\n",
       "    'events_url': 'https://api.github.com/users/EstherBear/events{/privacy}',\n",
       "    'received_events_url': 'https://api.github.com/users/EstherBear/received_events',\n",
       "    'type': 'User',\n",
       "    'site_admin': False},\n",
       "   'html_url': 'https://github.com/EstherBear/delta',\n",
       "   'description': 'An open-source storage framework that enables building a Lakehouse architecture with compute engines including Spark, PrestoDB, Flink, Trino, and Hive and APIs',\n",
       "   'fork': True,\n",
       "   'url': 'https://api.github.com/repos/EstherBear/delta',\n",
       "   'forks_url': 'https://api.github.com/repos/EstherBear/delta/forks',\n",
       "   'keys_url': 'https://api.github.com/repos/EstherBear/delta/keys{/key_id}',\n",
       "   'collaborators_url': 'https://api.github.com/repos/EstherBear/delta/collaborators{/collaborator}',\n",
       "   'teams_url': 'https://api.github.com/repos/EstherBear/delta/teams',\n",
       "   'hooks_url': 'https://api.github.com/repos/EstherBear/delta/hooks',\n",
       "   'issue_events_url': 'https://api.github.com/repos/EstherBear/delta/issues/events{/number}',\n",
       "   'events_url': 'https://api.github.com/repos/EstherBear/delta/events',\n",
       "   'assignees_url': 'https://api.github.com/repos/EstherBear/delta/assignees{/user}',\n",
       "   'branches_url': 'https://api.github.com/repos/EstherBear/delta/branches{/branch}',\n",
       "   'tags_url': 'https://api.github.com/repos/EstherBear/delta/tags',\n",
       "   'blobs_url': 'https://api.github.com/repos/EstherBear/delta/git/blobs{/sha}',\n",
       "   'git_tags_url': 'https://api.github.com/repos/EstherBear/delta/git/tags{/sha}',\n",
       "   'git_refs_url': 'https://api.github.com/repos/EstherBear/delta/git/refs{/sha}',\n",
       "   'trees_url': 'https://api.github.com/repos/EstherBear/delta/git/trees{/sha}',\n",
       "   'statuses_url': 'https://api.github.com/repos/EstherBear/delta/statuses/{sha}',\n",
       "   'languages_url': 'https://api.github.com/repos/EstherBear/delta/languages',\n",
       "   'stargazers_url': 'https://api.github.com/repos/EstherBear/delta/stargazers',\n",
       "   'contributors_url': 'https://api.github.com/repos/EstherBear/delta/contributors',\n",
       "   'subscribers_url': 'https://api.github.com/repos/EstherBear/delta/subscribers',\n",
       "   'subscription_url': 'https://api.github.com/repos/EstherBear/delta/subscription',\n",
       "   'commits_url': 'https://api.github.com/repos/EstherBear/delta/commits{/sha}',\n",
       "   'git_commits_url': 'https://api.github.com/repos/EstherBear/delta/git/commits{/sha}',\n",
       "   'comments_url': 'https://api.github.com/repos/EstherBear/delta/comments{/number}',\n",
       "   'issue_comment_url': 'https://api.github.com/repos/EstherBear/delta/issues/comments{/number}',\n",
       "   'contents_url': 'https://api.github.com/repos/EstherBear/delta/contents/{+path}',\n",
       "   'compare_url': 'https://api.github.com/repos/EstherBear/delta/compare/{base}...{head}',\n",
       "   'merges_url': 'https://api.github.com/repos/EstherBear/delta/merges',\n",
       "   'archive_url': 'https://api.github.com/repos/EstherBear/delta/{archive_format}{/ref}',\n",
       "   'downloads_url': 'https://api.github.com/repos/EstherBear/delta/downloads',\n",
       "   'issues_url': 'https://api.github.com/repos/EstherBear/delta/issues{/number}',\n",
       "   'pulls_url': 'https://api.github.com/repos/EstherBear/delta/pulls{/number}',\n",
       "   'milestones_url': 'https://api.github.com/repos/EstherBear/delta/milestones{/number}',\n",
       "   'notifications_url': 'https://api.github.com/repos/EstherBear/delta/notifications{?since,all,participating}',\n",
       "   'labels_url': 'https://api.github.com/repos/EstherBear/delta/labels{/name}',\n",
       "   'releases_url': 'https://api.github.com/repos/EstherBear/delta/releases{/id}',\n",
       "   'deployments_url': 'https://api.github.com/repos/EstherBear/delta/deployments',\n",
       "   'created_at': '2024-05-23T22:36:11Z',\n",
       "   'updated_at': '2024-06-13T00:35:11Z',\n",
       "   'pushed_at': '2024-06-13T02:07:49Z',\n",
       "   'git_url': 'git://github.com/EstherBear/delta.git',\n",
       "   'ssh_url': 'git@github.com:EstherBear/delta.git',\n",
       "   'clone_url': 'https://github.com/EstherBear/delta.git',\n",
       "   'svn_url': 'https://github.com/EstherBear/delta',\n",
       "   'homepage': 'https://delta.io',\n",
       "   'size': 32580,\n",
       "   'stargazers_count': 0,\n",
       "   'watchers_count': 0,\n",
       "   'language': 'Scala',\n",
       "   'has_issues': False,\n",
       "   'has_projects': True,\n",
       "   'has_downloads': True,\n",
       "   'has_wiki': False,\n",
       "   'has_pages': False,\n",
       "   'has_discussions': False,\n",
       "   'forks_count': 0,\n",
       "   'mirror_url': None,\n",
       "   'archived': False,\n",
       "   'disabled': False,\n",
       "   'open_issues_count': 0,\n",
       "   'license': {'key': 'apache-2.0',\n",
       "    'name': 'Apache License 2.0',\n",
       "    'spdx_id': 'Apache-2.0',\n",
       "    'url': 'https://api.github.com/licenses/apache-2.0',\n",
       "    'node_id': 'MDc6TGljZW5zZTI='},\n",
       "   'allow_forking': True,\n",
       "   'is_template': False,\n",
       "   'web_commit_signoff_required': False,\n",
       "   'topics': [],\n",
       "   'visibility': 'public',\n",
       "   'forks': 0,\n",
       "   'open_issues': 0,\n",
       "   'watchers': 0,\n",
       "   'default_branch': 'master'}},\n",
       " 'base': {'label': 'delta-io:master',\n",
       "  'ref': 'master',\n",
       "  'sha': '4fac1f1b7ea3b9cd1bbeeccec4fb02129338a986',\n",
       "  'user': {'login': 'delta-io',\n",
       "   'id': 49767398,\n",
       "   'node_id': 'MDEyOk9yZ2FuaXphdGlvbjQ5NzY3Mzk4',\n",
       "   'avatar_url': 'https://avatars.githubusercontent.com/u/49767398?v=4',\n",
       "   'gravatar_id': '',\n",
       "   'url': 'https://api.github.com/users/delta-io',\n",
       "   'html_url': 'https://github.com/delta-io',\n",
       "   'followers_url': 'https://api.github.com/users/delta-io/followers',\n",
       "   'following_url': 'https://api.github.com/users/delta-io/following{/other_user}',\n",
       "   'gists_url': 'https://api.github.com/users/delta-io/gists{/gist_id}',\n",
       "   'starred_url': 'https://api.github.com/users/delta-io/starred{/owner}{/repo}',\n",
       "   'subscriptions_url': 'https://api.github.com/users/delta-io/subscriptions',\n",
       "   'organizations_url': 'https://api.github.com/users/delta-io/orgs',\n",
       "   'repos_url': 'https://api.github.com/users/delta-io/repos',\n",
       "   'events_url': 'https://api.github.com/users/delta-io/events{/privacy}',\n",
       "   'received_events_url': 'https://api.github.com/users/delta-io/received_events',\n",
       "   'type': 'Organization',\n",
       "   'site_admin': False},\n",
       "  'repo': {'id': 182849188,\n",
       "   'node_id': 'MDEwOlJlcG9zaXRvcnkxODI4NDkxODg=',\n",
       "   'name': 'delta',\n",
       "   'full_name': 'delta-io/delta',\n",
       "   'private': False,\n",
       "   'owner': {'login': 'delta-io',\n",
       "    'id': 49767398,\n",
       "    'node_id': 'MDEyOk9yZ2FuaXphdGlvbjQ5NzY3Mzk4',\n",
       "    'avatar_url': 'https://avatars.githubusercontent.com/u/49767398?v=4',\n",
       "    'gravatar_id': '',\n",
       "    'url': 'https://api.github.com/users/delta-io',\n",
       "    'html_url': 'https://github.com/delta-io',\n",
       "    'followers_url': 'https://api.github.com/users/delta-io/followers',\n",
       "    'following_url': 'https://api.github.com/users/delta-io/following{/other_user}',\n",
       "    'gists_url': 'https://api.github.com/users/delta-io/gists{/gist_id}',\n",
       "    'starred_url': 'https://api.github.com/users/delta-io/starred{/owner}{/repo}',\n",
       "    'subscriptions_url': 'https://api.github.com/users/delta-io/subscriptions',\n",
       "    'organizations_url': 'https://api.github.com/users/delta-io/orgs',\n",
       "    'repos_url': 'https://api.github.com/users/delta-io/repos',\n",
       "    'events_url': 'https://api.github.com/users/delta-io/events{/privacy}',\n",
       "    'received_events_url': 'https://api.github.com/users/delta-io/received_events',\n",
       "    'type': 'Organization',\n",
       "    'site_admin': False},\n",
       "   'html_url': 'https://github.com/delta-io/delta',\n",
       "   'description': 'An open-source storage framework that enables building a Lakehouse architecture with compute engines including Spark, PrestoDB, Flink, Trino, and Hive and APIs',\n",
       "   'fork': False,\n",
       "   'url': 'https://api.github.com/repos/delta-io/delta',\n",
       "   'forks_url': 'https://api.github.com/repos/delta-io/delta/forks',\n",
       "   'keys_url': 'https://api.github.com/repos/delta-io/delta/keys{/key_id}',\n",
       "   'collaborators_url': 'https://api.github.com/repos/delta-io/delta/collaborators{/collaborator}',\n",
       "   'teams_url': 'https://api.github.com/repos/delta-io/delta/teams',\n",
       "   'hooks_url': 'https://api.github.com/repos/delta-io/delta/hooks',\n",
       "   'issue_events_url': 'https://api.github.com/repos/delta-io/delta/issues/events{/number}',\n",
       "   'events_url': 'https://api.github.com/repos/delta-io/delta/events',\n",
       "   'assignees_url': 'https://api.github.com/repos/delta-io/delta/assignees{/user}',\n",
       "   'branches_url': 'https://api.github.com/repos/delta-io/delta/branches{/branch}',\n",
       "   'tags_url': 'https://api.github.com/repos/delta-io/delta/tags',\n",
       "   'blobs_url': 'https://api.github.com/repos/delta-io/delta/git/blobs{/sha}',\n",
       "   'git_tags_url': 'https://api.github.com/repos/delta-io/delta/git/tags{/sha}',\n",
       "   'git_refs_url': 'https://api.github.com/repos/delta-io/delta/git/refs{/sha}',\n",
       "   'trees_url': 'https://api.github.com/repos/delta-io/delta/git/trees{/sha}',\n",
       "   'statuses_url': 'https://api.github.com/repos/delta-io/delta/statuses/{sha}',\n",
       "   'languages_url': 'https://api.github.com/repos/delta-io/delta/languages',\n",
       "   'stargazers_url': 'https://api.github.com/repos/delta-io/delta/stargazers',\n",
       "   'contributors_url': 'https://api.github.com/repos/delta-io/delta/contributors',\n",
       "   'subscribers_url': 'https://api.github.com/repos/delta-io/delta/subscribers',\n",
       "   'subscription_url': 'https://api.github.com/repos/delta-io/delta/subscription',\n",
       "   'commits_url': 'https://api.github.com/repos/delta-io/delta/commits{/sha}',\n",
       "   'git_commits_url': 'https://api.github.com/repos/delta-io/delta/git/commits{/sha}',\n",
       "   'comments_url': 'https://api.github.com/repos/delta-io/delta/comments{/number}',\n",
       "   'issue_comment_url': 'https://api.github.com/repos/delta-io/delta/issues/comments{/number}',\n",
       "   'contents_url': 'https://api.github.com/repos/delta-io/delta/contents/{+path}',\n",
       "   'compare_url': 'https://api.github.com/repos/delta-io/delta/compare/{base}...{head}',\n",
       "   'merges_url': 'https://api.github.com/repos/delta-io/delta/merges',\n",
       "   'archive_url': 'https://api.github.com/repos/delta-io/delta/{archive_format}{/ref}',\n",
       "   'downloads_url': 'https://api.github.com/repos/delta-io/delta/downloads',\n",
       "   'issues_url': 'https://api.github.com/repos/delta-io/delta/issues{/number}',\n",
       "   'pulls_url': 'https://api.github.com/repos/delta-io/delta/pulls{/number}',\n",
       "   'milestones_url': 'https://api.github.com/repos/delta-io/delta/milestones{/number}',\n",
       "   'notifications_url': 'https://api.github.com/repos/delta-io/delta/notifications{?since,all,participating}',\n",
       "   'labels_url': 'https://api.github.com/repos/delta-io/delta/labels{/name}',\n",
       "   'releases_url': 'https://api.github.com/repos/delta-io/delta/releases{/id}',\n",
       "   'deployments_url': 'https://api.github.com/repos/delta-io/delta/deployments',\n",
       "   'created_at': '2019-04-22T18:56:51Z',\n",
       "   'updated_at': '2024-06-13T11:47:55Z',\n",
       "   'pushed_at': '2024-06-13T11:50:00Z',\n",
       "   'git_url': 'git://github.com/delta-io/delta.git',\n",
       "   'ssh_url': 'git@github.com:delta-io/delta.git',\n",
       "   'clone_url': 'https://github.com/delta-io/delta.git',\n",
       "   'svn_url': 'https://github.com/delta-io/delta',\n",
       "   'homepage': 'https://delta.io',\n",
       "   'size': 32742,\n",
       "   'stargazers_count': 7153,\n",
       "   'watchers_count': 7153,\n",
       "   'language': 'Scala',\n",
       "   'has_issues': True,\n",
       "   'has_projects': False,\n",
       "   'has_downloads': True,\n",
       "   'has_wiki': False,\n",
       "   'has_pages': True,\n",
       "   'has_discussions': False,\n",
       "   'forks_count': 1611,\n",
       "   'mirror_url': None,\n",
       "   'archived': False,\n",
       "   'disabled': False,\n",
       "   'open_issues_count': 715,\n",
       "   'license': {'key': 'apache-2.0',\n",
       "    'name': 'Apache License 2.0',\n",
       "    'spdx_id': 'Apache-2.0',\n",
       "    'url': 'https://api.github.com/licenses/apache-2.0',\n",
       "    'node_id': 'MDc6TGljZW5zZTI='},\n",
       "   'allow_forking': True,\n",
       "   'is_template': False,\n",
       "   'web_commit_signoff_required': False,\n",
       "   'topics': ['acid', 'analytics', 'big-data', 'delta-lake', 'spark'],\n",
       "   'visibility': 'public',\n",
       "   'forks': 1611,\n",
       "   'open_issues': 715,\n",
       "   'watchers': 7153,\n",
       "   'default_branch': 'master'}},\n",
       " '_links': {'self': {'href': 'https://api.github.com/repos/delta-io/delta/pulls/3269'},\n",
       "  'html': {'href': 'https://github.com/delta-io/delta/pull/3269'},\n",
       "  'issue': {'href': 'https://api.github.com/repos/delta-io/delta/issues/3269'},\n",
       "  'comments': {'href': 'https://api.github.com/repos/delta-io/delta/issues/3269/comments'},\n",
       "  'review_comments': {'href': 'https://api.github.com/repos/delta-io/delta/pulls/3269/comments'},\n",
       "  'review_comment': {'href': 'https://api.github.com/repos/delta-io/delta/pulls/comments{/number}'},\n",
       "  'commits': {'href': 'https://api.github.com/repos/delta-io/delta/pulls/3269/commits'},\n",
       "  'statuses': {'href': 'https://api.github.com/repos/delta-io/delta/statuses/2e60f2358f176ab4b4219350b53c2ff7cf0060cc'}},\n",
       " 'author_association': 'CONTRIBUTOR',\n",
       " 'auto_merge': None,\n",
       " 'active_lock_reason': None}"
      ]
     },
     "execution_count": 23,
     "metadata": {},
     "output_type": "execute_result"
    }
   ],
   "source": [
    "prs[0]"
   ]
  },
  {
   "cell_type": "code",
   "execution_count": 24,
   "id": "47db0c77-5b4d-469c-a970-d89805e7b589",
   "metadata": {},
   "outputs": [
    {
     "data": {
      "text/plain": [
       "dict_keys(['url', 'id', 'node_id', 'html_url', 'diff_url', 'patch_url', 'issue_url', 'number', 'state', 'locked', 'title', 'user', 'body', 'created_at', 'updated_at', 'closed_at', 'merged_at', 'merge_commit_sha', 'assignee', 'assignees', 'requested_reviewers', 'requested_teams', 'labels', 'milestone', 'draft', 'commits_url', 'review_comments_url', 'review_comment_url', 'comments_url', 'statuses_url', 'head', 'base', '_links', 'author_association', 'auto_merge', 'active_lock_reason'])"
      ]
     },
     "execution_count": 24,
     "metadata": {},
     "output_type": "execute_result"
    }
   ],
   "source": [
    "prs[0].keys()"
   ]
  },
  {
   "cell_type": "code",
   "execution_count": 26,
   "id": "7d768717-1c58-4424-8c1a-d89ff64bf75b",
   "metadata": {},
   "outputs": [],
   "source": [
    "pr_keys = ['id', 'number', 'title', 'body']"
   ]
  },
  {
   "cell_type": "code",
   "execution_count": 27,
   "id": "3d420313-cfc5-4767-b2f8-5ec50f604e5e",
   "metadata": {},
   "outputs": [
    {
     "name": "stdout",
     "output_type": "stream",
     "text": [
      "100 users made PRs in this timeframe.\n",
      "Unique users: 28\n"
     ]
    }
   ],
   "source": [
    "prs_users = []\n",
    "user_keys = ['login', 'id']\n",
    "\n",
    "for pr in prs:\n",
    "    pr_user = pr['user']\n",
    "    try:\n",
    "        pr_user_sub = {k: pr_user[k] for k in user_keys}\n",
    "    except:\n",
    "        pass\n",
    "    prs_users.append(pr_user_sub)\n",
    "\n",
    "users_df = spark.createDataFrame(prs_users)\n",
    "print(f\"{users_df.count()} users made PRs in this timeframe.\")\n",
    "\n",
    "# Remove duplicates\n",
    "users_df = users_df.dropDuplicates()\n",
    "print(f\"Unique users: {users_df.count()}\")"
   ]
  },
  {
   "cell_type": "code",
   "execution_count": 28,
   "id": "a7e2d180-32df-4c18-bff7-3cf8438997ad",
   "metadata": {},
   "outputs": [
    {
     "name": "stdout",
     "output_type": "stream",
     "text": [
      "+---------+----------------+\n",
      "|       id|           login|\n",
      "+---------+----------------+\n",
      "| 89107911|  allisonport-db|\n",
      "|107926660|       longvu-db|\n",
      "| 46442880|    tomvanbussel|\n",
      "|159059218|       sumeet-db|\n",
      "| 13973764|         zedtang|\n",
      "| 55441375|      EstherBear|\n",
      "|171533467|yumingxuanguo-db|\n",
      "| 93710326|  andreaschat-db|\n",
      "|  1719945|      vkorukanti|\n",
      "|169104436|    andrewxue-db|\n",
      "| 87341375|      linzhou-db|\n",
      "|134436035|      ChengJi-db|\n",
      "|  2551496|   prakharjain09|\n",
      "|170372889|    anniewang-db|\n",
      "|125324092|    dhruvarya-db|\n",
      "|143959416|           zzl-7|\n",
      "| 87336575|     richardc-db|\n",
      "| 91381303|          xzhseh|\n",
      "|112876214|       johanl-db|\n",
      "| 22524871|       horizonzy|\n",
      "+---------+----------------+\n",
      "only showing top 20 rows\n",
      "\n"
     ]
    }
   ],
   "source": [
    "users_df.show()"
   ]
  },
  {
   "cell_type": "code",
   "execution_count": 29,
   "id": "ebf7f83e-85fc-4d51-a6cb-b0093c76ebd8",
   "metadata": {},
   "outputs": [],
   "source": [
    "# Select relevant fields\n",
    "keys_to_include = ['id', 'number', 'title', 'body']\n",
    "prs_simple = []\n",
    "\n",
    "# iterate over list of prs\n",
    "for pr in prs:\n",
    "    pr_subset = {k: pr[k] for k in keys_to_include}\n",
    "    pr_subset['user_id'] = pr['user']['id']\n",
    "    prs_simple.append(pr_subset)\n",
    "\n",
    "# Create DataFrame\n",
    "prs_df = spark.createDataFrame(prs_simple)"
   ]
  },
  {
   "cell_type": "code",
   "execution_count": 30,
   "id": "8c321f63-4ba2-4c6e-8053-88c2bea8a59f",
   "metadata": {},
   "outputs": [
    {
     "name": "stdout",
     "output_type": "stream",
     "text": [
      "+--------------------+----------+------+--------------------+--------+\n",
      "|                body|        id|number|               title| user_id|\n",
      "+--------------------+----------+------+--------------------+--------+\n",
      "|Add API on `Trans...|1917635149|  3269|[Kernel] Add API ...|55441375|\n",
      "|<!--\\r\\nThanks fo...|1917578285|  3268|[DO_NOT_MERGE][4....|89107911|\n",
      "|<!--\\r\\nThanks fo...|1917566048|  3267|[3.2 branch] Add ...|89107911|\n",
      "+--------------------+----------+------+--------------------+--------+\n",
      "only showing top 3 rows\n",
      "\n"
     ]
    }
   ],
   "source": [
    "prs_df.show(3)"
   ]
  },
  {
   "cell_type": "code",
   "execution_count": 31,
   "id": "b9014727-b572-4dc5-8e04-a669b86300cf",
   "metadata": {},
   "outputs": [
    {
     "name": "stdout",
     "output_type": "stream",
     "text": [
      "+---------+--------------+\n",
      "|       id|         login|\n",
      "+---------+--------------+\n",
      "| 89107911|allisonport-db|\n",
      "|107926660|     longvu-db|\n",
      "| 46442880|  tomvanbussel|\n",
      "+---------+--------------+\n",
      "only showing top 3 rows\n",
      "\n"
     ]
    }
   ],
   "source": [
    "users_df.show(3)"
   ]
  },
  {
   "cell_type": "code",
   "execution_count": 32,
   "id": "d3b3e292-0ea4-4580-b679-556ce15da382",
   "metadata": {},
   "outputs": [],
   "source": [
    "joined = prs_df.alias(\"a\").join(\n",
    "    users_df.alias(\"b\"),\n",
    "    prs_df.user_id == users_df.id,\n",
    "    how = \"left\"\n",
    ").select(\"a.body\", \"a.id\", \"a.number\", \"a.title\", \"a.user_id\", \"b.login\")"
   ]
  },
  {
   "cell_type": "code",
   "execution_count": 33,
   "id": "1cae26a9-6f57-4e70-bfdc-dc2eddc230de",
   "metadata": {},
   "outputs": [
    {
     "name": "stdout",
     "output_type": "stream",
     "text": [
      "+--------------------+----------+------+--------------------+---------+----------------+\n",
      "|                body|        id|number|               title|  user_id|           login|\n",
      "+--------------------+----------+------+--------------------+---------+----------------+\n",
      "|Add API on `Trans...|1917635149|  3269|[Kernel] Add API ...| 55441375|      EstherBear|\n",
      "|Add an end2end pr...|1915468737|  3262|[Kernel] Add an e...| 55441375|      EstherBear|\n",
      "|<!--\\r\\nThanks fo...|1916829021|  3264|Improve documenta...| 93710326|  andreaschat-db|\n",
      "|## Description\\r\\...|1916523493|  3263|[Tests] Improve t...| 93710326|  andreaschat-db|\n",
      "|<!--\\r\\nThanks fo...|1917578285|  3268|[DO_NOT_MERGE][4....| 89107911|  allisonport-db|\n",
      "|<!--\\r\\nThanks fo...|1917566048|  3267|[3.2 branch] Add ...| 89107911|  allisonport-db|\n",
      "|https://github.co...|1915177976|  3260|[4.0 Preview][INF...| 89107911|  allisonport-db|\n",
      "|<!--\\r\\nThanks fo...|1915174253|  3258|[INFRA] Update in...| 89107911|  allisonport-db|\n",
      "|#### Which Delta ...|1910216852|  3242|[Spark] Use SQL e...| 46442880|    tomvanbussel|\n",
      "|<!--\\r\\nThanks fo...|1916936636|  3266|    Add Hudi support|170372889|    anniewang-db|\n",
      "|#### Which Delta ...|1910998991|  3244|[Spark] Throw exc...|159059218|       sumeet-db|\n",
      "|#### Which Delta ...|1909913087|  3238|Fix the issue of ...| 87341375|      linzhou-db|\n",
      "|<!--\\r\\nThanks fo...|1915206778|  3261|[Doc][4.0] Add do...|125324092|    dhruvarya-db|\n",
      "|<!--\\r\\nThanks fo...|1910890046|  3243|[Spark][4.0] Add ...|125324092|    dhruvarya-db|\n",
      "|<!--\\r\\nThanks fo...|1909984441|  3241|[Spark][4.0] Rena...|125324092|    dhruvarya-db|\n",
      "|<!--\\r\\nThanks fo...|1909889775|  3237|[Spark] Rename ma...|125324092|    dhruvarya-db|\n",
      "|<!--\\r\\nThanks fo...|1913290396|  3251|[Spark] Support c...| 13973764|         zedtang|\n",
      "|<!--\\r\\nThanks fo...|1909958107|  3239|[Spark][3.2] Supp...| 13973764|         zedtang|\n",
      "|<!--\\r\\nThanks fo...|1909841555|  3236|[Spark] use map l...|169104436|    andrewxue-db|\n",
      "|<!--\\r\\nThanks fo...|1915176270|  3259|[DELTA] Removes a...|171533467|yumingxuanguo-db|\n",
      "+--------------------+----------+------+--------------------+---------+----------------+\n",
      "only showing top 20 rows\n",
      "\n"
     ]
    }
   ],
   "source": [
    "joined.show()"
   ]
  },
  {
   "cell_type": "code",
   "execution_count": null,
   "id": "a7817474-8952-44cf-ba0a-0cf0726cc727",
   "metadata": {},
   "outputs": [],
   "source": []
  },
  {
   "cell_type": "code",
   "execution_count": 34,
   "id": "916f35e7-0c15-4bcd-8d99-b048421eb457",
   "metadata": {},
   "outputs": [],
   "source": [
    "# Step 2: Transform data\n",
    "def transform_data(prs):\n",
    "    # Select relevant fields\n",
    "    keys_to_include = ['id', 'number', 'title', 'body']\n",
    "    prs_simple = []\n",
    "\n",
    "    # iterate over list of prs\n",
    "    for pr in prs:\n",
    "        pr_subset = {k: pr[k] for k in keys_to_include}\n",
    "        prs_simple.append(pr_subset)\n",
    "\n",
    "    # Create DataFrame\n",
    "    prs_df = spark.createDataFrame(prs_simple)\n",
    "\n",
    "    # Create DataFrame with usernames and ids\n",
    "    prs_users = []\n",
    "    user_keys = ['login', 'id']\n",
    "    \n",
    "    for pr in prs:\n",
    "        pr_user = pr['user']\n",
    "        try:\n",
    "            pr_user_sub = {k: pr_user[k] for k in user_keys}\n",
    "        except:\n",
    "            pass\n",
    "        prs_users.append(pr_user_sub)\n",
    "\n",
    "    users_df = spark.createDataFrame(prs_users)\n",
    "    print(f\"{users_df.count()} users made PRs in this timeframe.\")\n",
    "    \n",
    "    # Remove duplicates\n",
    "    users_df = users_df.dropDuplicates()\n",
    "    print(f\"Unique users: {users_df.count()}\")\n",
    "    \n",
    "    prs_df = prs_df.dropDuplicates()\n",
    "    \n",
    "    return prs_df"
   ]
  },
  {
   "cell_type": "code",
   "execution_count": 35,
   "id": "13e72f15-64a7-44a8-9107-969137447d9c",
   "metadata": {},
   "outputs": [
    {
     "name": "stdout",
     "output_type": "stream",
     "text": [
      "100 users made PRs in this timeframe.\n",
      "Unique users: 28\n"
     ]
    }
   ],
   "source": [
    "prs_df = transform_data(prs)"
   ]
  },
  {
   "cell_type": "code",
   "execution_count": 36,
   "id": "9f5f42e2-8d5e-4fb2-a4a4-eadc5222cc96",
   "metadata": {},
   "outputs": [
    {
     "name": "stdout",
     "output_type": "stream",
     "text": [
      "+--------------------+----------+------+--------------------+\n",
      "|                body|        id|number|               title|\n",
      "+--------------------+----------+------+--------------------+\n",
      "|#### Which Delta ...|1910216852|  3242|[Spark] Use SQL e...|\n",
      "|<!--\\r\\nThanks fo...|1910890046|  3243|[Spark][4.0] Add ...|\n",
      "|<!--\\r\\nThanks fo...|1909496916|  3232|[Doc] Delta 4.0 -...|\n",
      "|<!--\\r\\nThanks fo...|1915174253|  3258|[INFRA] Update in...|\n",
      "|#### Which Delta ...|1910998991|  3244|[Spark] Throw exc...|\n",
      "|<!--\\r\\nThanks fo...|1909984441|  3241|[Spark][4.0] Rena...|\n",
      "|<!--\\r\\nThanks fo...|1916936636|  3266|    Add Hudi support|\n",
      "|<!--\\r\\nThanks fo...|1909640823|  3234|[Delta Uniform] C...|\n",
      "|<!--\\r\\nThanks fo...|1913290396|  3251|[Spark] Support c...|\n",
      "|\\r\\n## Descriptio...|1909656417|  3235|[4.0preview][Kern...|\n",
      "|<!--\\r\\nThanks fo...|1912719956|  3246|[DELTA] Add logs ...|\n",
      "|https://github.co...|1915177976|  3260|[4.0 Preview][INF...|\n",
      "|## Description\\r\\...|1916523493|  3263|[Tests] Improve t...|\n",
      "|<!--\\r\\nThanks fo...|1909958107|  3239|[Spark][3.2] Supp...|\n",
      "|#### Which Delta ...|1909913087|  3238|Fix the issue of ...|\n",
      "|<!--\\r\\nThanks fo...|1917566048|  3267|[3.2 branch] Add ...|\n",
      "|Add an end2end pr...|1915468737|  3262|[Kernel] Add an e...|\n",
      "|<!--\\r\\nThanks fo...|1909841555|  3236|[Spark] use map l...|\n",
      "|## Description\\r\\...|1909604334|  3233|[Kernel][Parquet ...|\n",
      "|Add API on `Trans...|1917635149|  3269|[Kernel] Add API ...|\n",
      "+--------------------+----------+------+--------------------+\n",
      "only showing top 20 rows\n",
      "\n"
     ]
    }
   ],
   "source": [
    "prs_df.show()"
   ]
  },
  {
   "cell_type": "code",
   "execution_count": 37,
   "id": "60d9650c-241a-42a6-b06f-f6329f58d6d0",
   "metadata": {},
   "outputs": [],
   "source": [
    "# LOAD data to Delta Table\n",
    "prs_df.write.format(\"delta\").mode(\"overwrite\").save(\"data/github_data\")"
   ]
  },
  {
   "cell_type": "code",
   "execution_count": null,
   "id": "b0b52fd3-6e2f-46a1-9a51-4e5ef217344d",
   "metadata": {},
   "outputs": [],
   "source": []
  },
  {
   "cell_type": "code",
   "execution_count": null,
   "id": "b03bd818-bbdd-4c9d-852d-18c97a9576b3",
   "metadata": {},
   "outputs": [],
   "source": []
  },
  {
   "cell_type": "code",
   "execution_count": null,
   "id": "c76ec9ec-e394-4939-bff6-78219a5cd37d",
   "metadata": {},
   "outputs": [],
   "source": []
  },
  {
   "cell_type": "markdown",
   "id": "919831ea-e939-4212-8ddb-bbd05bb101da",
   "metadata": {},
   "source": [
    "## CONTINUE HERE\n",
    "- run script tomorrow\n",
    "- how to append only new rows?\n",
    "  - use `id` col somehow maybe? \n",
    "\n",
    "\n",
    "- join > schema evolution\n",
    "- scale up\n",
    "- mistake rollback\n",
    "- "
   ]
  },
  {
   "cell_type": "code",
   "execution_count": null,
   "id": "c81ba046-1950-4c1b-b426-2238082dc99e",
   "metadata": {},
   "outputs": [],
   "source": [
    "# Add a new column to add username from other table\n",
    "joined = prs_df.alias(\"a\").join(\n",
    "    users_df.alias(\"b\"),\n",
    "    prs_df.user_id == users_df.id,\n",
    "    how = \"left\"\n",
    ").select(\"a.body\", \"a.id\", \"a.number\", \"a.title\", \"a.user_id\", \"b.login\")\n"
   ]
  },
  {
   "cell_type": "code",
   "execution_count": null,
   "id": "c9a6c854-3f7a-4899-b54c-4eda3a6855ac",
   "metadata": {},
   "outputs": [],
   "source": []
  },
  {
   "cell_type": "code",
   "execution_count": null,
   "id": "f325aa4a-d869-46d3-ae1e-f59e13cf1337",
   "metadata": {},
   "outputs": [],
   "source": []
  },
  {
   "cell_type": "code",
   "execution_count": null,
   "id": "bbf4cd3c-d2de-4da2-9244-b0a57814e551",
   "metadata": {},
   "outputs": [],
   "source": []
  },
  {
   "cell_type": "code",
   "execution_count": null,
   "id": "0b518b2f-5b86-484b-8edf-bbf63a69adc7",
   "metadata": {},
   "outputs": [],
   "source": []
  },
  {
   "cell_type": "code",
   "execution_count": 7,
   "id": "d23ecef9-912d-4445-a31b-b12ba9944404",
   "metadata": {},
   "outputs": [],
   "source": [
    "# Step 4: Demonstrate Benefits\n",
    "def demonstrate_benefits():\n",
    "    # Reliability: ACID transactions ensure data consistency\n",
    "    df = spark.read.format(\"delta\").load(delta_table_path)\n",
    "    df.createOrReplaceTempView(\"github_data\")\n",
    "    \n",
    "    # Scalability: handle large volumes of data efficiently\n",
    "    total_count = spark.sql(\"SELECT COUNT(*) FROM github_data\").collect()[0][0]\n",
    "    print(f\"Total records: {total_count}\")\n",
    "    \n",
    "    # Schema Enforcement and Evolution: demonstrate adding a new column\n",
    "    df = df.withColumn(\"processed_at\", lit(datetime.now().isoformat()))\n",
    "    df.write.format(\"delta\").mode(\"overwrite\").save(delta_table_path)\n",
    "    \n",
    "    # Query Performance: optimized for fast data retrieval\n",
    "    recent_issues = spark.sql(\"SELECT * FROM github_data WHERE type = 'issue' AND created_at >= date_sub(current_date(), 7)\")\n",
    "    recent_issues.show()"
   ]
  },
  {
   "cell_type": "code",
   "execution_count": null,
   "id": "b8ef83cc-4c04-4211-914a-bb36e9566a01",
   "metadata": {},
   "outputs": [],
   "source": [
    "if __name__ == \"__main__\":\n",
    "    issues, prs = fetch_github_data()\n",
    "    df = transform_data(issues, prs)\n",
    "    load_data_to_delta(df)\n",
    "    demonstrate_benefits()"
   ]
  }
 ],
 "metadata": {
  "kernelspec": {
   "display_name": "Python 3 (ipykernel)",
   "language": "python",
   "name": "python3"
  },
  "language_info": {
   "codemirror_mode": {
    "name": "ipython",
    "version": 3
   },
   "file_extension": ".py",
   "mimetype": "text/x-python",
   "name": "python",
   "nbconvert_exporter": "python",
   "pygments_lexer": "ipython3",
   "version": "3.11.9"
  }
 },
 "nbformat": 4,
 "nbformat_minor": 5
}
